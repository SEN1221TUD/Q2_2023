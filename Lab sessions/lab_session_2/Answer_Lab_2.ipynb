{
 "cells": [
  {
   "cell_type": "markdown",
   "metadata": {},
   "source": [
    "# SEN1221 Statistical Analysis of Choice Behaviour \n",
    "\n",
    "## `Session Lab 02:`\n",
    "## `The Mixed Logit model`\n",
    "\n",
    "**Delft University of Technology**<br>\n",
    "**Q2 2023**<br>\n",
    "**Instructor:** Sander van Cranenburgh<br>\n",
    "**TA:**  Gabriel Nova <br>"
   ]
  },
  {
   "cell_type": "markdown",
   "metadata": {},
   "source": [
    "### `Instructions`\n",
    "\n",
    "**Lab sessions aim to:**<br>\n",
    "* Illustrate how models and theory discussed in the classroom work out in practice.\n",
    "* Help you gather hands-on modelling and data analysis skills.\n",
    "\n",
    "\n",
    "**Lab sessions are:**<br>\n",
    "* Learning environments where you work with Python and get support from TA and fellow students.\n",
    "* Not graded and do not have to be submitted.\n",
    "* A good preparation for the graded partial exam."
   ]
  },
  {
   "cell_type": "markdown",
   "metadata": {},
   "source": [
    "### `Use of AI tools`\n",
    "AI tools, such as ChatGPT and Co-pilot, are great tools to assist with programming. Moreover, in your later careers, you will work in a world where such tools are widely available. As such, we **encourage** you to use AI tools **effectively**. However, be careful not to overestimate the capacity of AI tools! AI tools cannot replace you: you still have to conceptualise the problem, dissect it and structure it to conduct proper analysis. We recommend being especially **reticent** with using AI tools for the more conceptual and reflection-oriented questions. <br>\n",
    "Futhermore **be aware** that during the `partial exam`, you will not have access to these tools (since internet access will be restricted)."
   ]
  },
  {
   "cell_type": "markdown",
   "metadata": {},
   "source": [
    "### `Workspace set-up`"
   ]
  },
  {
   "cell_type": "markdown",
   "metadata": {},
   "source": [
    "**Option 1: Local environment**<br>\n",
    "Uncomment the following cell if you are running this notebook on your local environment, to install all dependencies on your Python version."
   ]
  },
  {
   "cell_type": "code",
   "execution_count": 2,
   "metadata": {},
   "outputs": [],
   "source": [
    "#!pip install -r requirements.txt"
   ]
  },
  {
   "cell_type": "markdown",
   "metadata": {},
   "source": [
    "**Option 2: Google Colab**<br>\n",
    "Uncomment the following cell if you are running this notebook on Colab"
   ]
  },
  {
   "cell_type": "code",
   "execution_count": 1,
   "metadata": {},
   "outputs": [],
   "source": [
    "#!git clone https://github.com/SEN1221TUD/Q2_2023\n",
    "#!mv \"/content/Q2_2023/Lab sessions/lab_session_2/data\" /content/data\n",
    "#!mv \"/content/Q2_2023/Lab sessions/lab_session_2/biogeme.toml\" /content\n",
    "\n",
    "#!pip install biogeme\n",
    "#import os\n",
    "#os.kill(os.getpid(), 9)"
   ]
  },
  {
   "cell_type": "markdown",
   "metadata": {},
   "source": [
    "### `Application: Estimating the Value of Travel Time`\n",
    "\n",
    "In this lab session, we will investigate the \"Value of Travel Time\" (VTT) distribution. The VTT of a traveller reflects the amount of money the traveller is **willing to pay** to reduce their travel time. The VTT is used to determine the benefits of new infrastructure projects. As travel time savings are the dominant and most salient benefits of new infrastructure, accurate inference of the distribution of the VTT is crucial for a rigorous underpinning of policy decisions. <br>\n",
    "\n",
    "During this lab, we will apply Mixed Logit choice models. We aim to uncover how tastes for travel time and travel cost are distributed in the population. Most of the analyses in this lab session are carried out in the so-called willingness-to-pay space. Willingness-to-pay space facilitates the inference of the VTT distribution.<br>\n",
    "\n",
    "For this study, we will use Stated Choice (SC) data (`Norway_VTT_2009.csv`) collected in 2009 to compute the Norwegian VTT. In this SC experiment, respondents faced nine choice tasks involving two alternatives and two attributes (travel cost and travel time). The data set consists of 5,832 participants, resulting in a total of 52,488 choice observations. The figure below shows one of the choice tasks (note that for the purposes of illustration we converted the currency unit (Kronor) into euros).\n",
    "\n",
    "![SC](data/sc_experiment.png)\n",
    "\n",
    "**`Learning objectives lab session 02`**\n",
    "\n",
    "After completing the following exercises, you will be able to:\n",
    "* Estimate Mixed Logit models that capture taste heterogeneity and panel effects\n",
    "* Interpret the modelling outcomes of Mixed Logit models\n",
    "* Specify utility models in Willingness-to-pay space\n",
    "* Discuss the impact of the number of draws on the modelling outcomes\n",
    "\n",
    "\n",
    "\n",
    "**`This lab consists of 5 parts and has 3 exercises`**\n",
    "\n",
    "**Part 1**: Load and explore the data set\n",
    "\n",
    "**Part 2**: Linear-additive RUM-MNL model\n",
    "\n",
    "**Part 3**: Mixed Logit model for capturing taste heterogeneity \n",
    "\n",
    "**Part 4**: Willingness-to-Pay space \n",
    "- Exercise 1: \"ML with log-normally distributed VTT\"\n",
    "\n",
    "**Part 5**: Panel Mixed Logit model\n",
    "\n",
    "- Exercise 2: \"Panel ML model with log-normally distributed VTT\"\n",
    "\n",
    "- Exercise 3: \"Impact of the number of draws\"\n",
    "\n"
   ]
  },
  {
   "cell_type": "markdown",
   "metadata": {},
   "source": [
    "### `Import packages`"
   ]
  },
  {
   "cell_type": "markdown",
   "metadata": {},
   "source": [
    "To begin, we will import all the libraries that we will use in this lab."
   ]
  },
  {
   "cell_type": "code",
   "execution_count": 1,
   "metadata": {},
   "outputs": [],
   "source": [
    "# Biogeme\n",
    "import biogeme.logging as blog\n",
    "import biogeme.database as db\n",
    "import biogeme.biogeme as bio\n",
    "from biogeme import models\n",
    "from biogeme.expressions import Beta, Variable, bioDraws, log, MonteCarlo, exp, bioMultSum, exp\n",
    "\n",
    "# General packages\n",
    "from pathlib import Path\n",
    "import pandas as pd\n",
    "import numpy as np\n",
    "import matplotlib.pyplot as plt \n",
    "from pathlib import Path\n",
    "import toml\n",
    "import time\n",
    "from scipy.stats import norm, lognorm\n",
    "\n",
    "# Pandas setting to show all columns when displaying a pandas dataframe\n",
    "pd.set_option('display.max_columns', None)\n"
   ]
  },
  {
   "cell_type": "markdown",
   "metadata": {},
   "source": [
    "## `1. Load and explore the data set` <br>"
   ]
  },
  {
   "cell_type": "markdown",
   "metadata": {},
   "source": [
    "First, we load the data."
   ]
  },
  {
   "cell_type": "code",
   "execution_count": 2,
   "metadata": {},
   "outputs": [
    {
     "data": {
      "text/html": [
       "<div>\n",
       "<style scoped>\n",
       "    .dataframe tbody tr th:only-of-type {\n",
       "        vertical-align: middle;\n",
       "    }\n",
       "\n",
       "    .dataframe tbody tr th {\n",
       "        vertical-align: top;\n",
       "    }\n",
       "\n",
       "    .dataframe thead th {\n",
       "        text-align: right;\n",
       "    }\n",
       "</style>\n",
       "<table border=\"1\" class=\"dataframe\">\n",
       "  <thead>\n",
       "    <tr style=\"text-align: right;\">\n",
       "      <th></th>\n",
       "      <th>RespID</th>\n",
       "      <th>CostL</th>\n",
       "      <th>CostR</th>\n",
       "      <th>TimeL</th>\n",
       "      <th>TimeR</th>\n",
       "      <th>Chosen</th>\n",
       "      <th>Mode</th>\n",
       "      <th>Purpose</th>\n",
       "      <th>Gender</th>\n",
       "      <th>AgeClass</th>\n",
       "      <th>IncClass</th>\n",
       "    </tr>\n",
       "  </thead>\n",
       "  <tbody>\n",
       "    <tr>\n",
       "      <th>count</th>\n",
       "      <td>52488.00</td>\n",
       "      <td>52488.00</td>\n",
       "      <td>52488.00</td>\n",
       "      <td>52488.00</td>\n",
       "      <td>52488.00</td>\n",
       "      <td>52488.00</td>\n",
       "      <td>52488.00</td>\n",
       "      <td>52488.00</td>\n",
       "      <td>52488.00</td>\n",
       "      <td>52488.00</td>\n",
       "      <td>52488.0</td>\n",
       "    </tr>\n",
       "    <tr>\n",
       "      <th>mean</th>\n",
       "      <td>32776.25</td>\n",
       "      <td>181.57</td>\n",
       "      <td>184.83</td>\n",
       "      <td>98.50</td>\n",
       "      <td>97.83</td>\n",
       "      <td>1.48</td>\n",
       "      <td>1.85</td>\n",
       "      <td>3.28</td>\n",
       "      <td>1.45</td>\n",
       "      <td>3.20</td>\n",
       "      <td>5.0</td>\n",
       "    </tr>\n",
       "    <tr>\n",
       "      <th>std</th>\n",
       "      <td>14995.46</td>\n",
       "      <td>281.07</td>\n",
       "      <td>286.95</td>\n",
       "      <td>134.33</td>\n",
       "      <td>133.42</td>\n",
       "      <td>0.50</td>\n",
       "      <td>1.80</td>\n",
       "      <td>1.64</td>\n",
       "      <td>0.50</td>\n",
       "      <td>0.99</td>\n",
       "      <td>2.3</td>\n",
       "    </tr>\n",
       "    <tr>\n",
       "      <th>min</th>\n",
       "      <td>32.00</td>\n",
       "      <td>4.00</td>\n",
       "      <td>4.00</td>\n",
       "      <td>6.00</td>\n",
       "      <td>6.00</td>\n",
       "      <td>1.00</td>\n",
       "      <td>1.00</td>\n",
       "      <td>1.00</td>\n",
       "      <td>1.00</td>\n",
       "      <td>1.00</td>\n",
       "      <td>1.0</td>\n",
       "    </tr>\n",
       "    <tr>\n",
       "      <th>25%</th>\n",
       "      <td>19195.25</td>\n",
       "      <td>25.00</td>\n",
       "      <td>25.00</td>\n",
       "      <td>18.00</td>\n",
       "      <td>17.00</td>\n",
       "      <td>1.00</td>\n",
       "      <td>1.00</td>\n",
       "      <td>2.00</td>\n",
       "      <td>1.00</td>\n",
       "      <td>2.00</td>\n",
       "      <td>4.0</td>\n",
       "    </tr>\n",
       "    <tr>\n",
       "      <th>50%</th>\n",
       "      <td>33039.50</td>\n",
       "      <td>69.00</td>\n",
       "      <td>70.00</td>\n",
       "      <td>40.00</td>\n",
       "      <td>40.00</td>\n",
       "      <td>1.00</td>\n",
       "      <td>1.00</td>\n",
       "      <td>4.00</td>\n",
       "      <td>1.00</td>\n",
       "      <td>3.00</td>\n",
       "      <td>5.0</td>\n",
       "    </tr>\n",
       "    <tr>\n",
       "      <th>75%</th>\n",
       "      <td>45333.00</td>\n",
       "      <td>236.00</td>\n",
       "      <td>238.00</td>\n",
       "      <td>121.00</td>\n",
       "      <td>122.00</td>\n",
       "      <td>2.00</td>\n",
       "      <td>2.00</td>\n",
       "      <td>5.00</td>\n",
       "      <td>2.00</td>\n",
       "      <td>4.00</td>\n",
       "      <td>6.0</td>\n",
       "    </tr>\n",
       "    <tr>\n",
       "      <th>max</th>\n",
       "      <td>60130.00</td>\n",
       "      <td>5282.00</td>\n",
       "      <td>5221.00</td>\n",
       "      <td>2011.00</td>\n",
       "      <td>1855.00</td>\n",
       "      <td>2.00</td>\n",
       "      <td>8.00</td>\n",
       "      <td>5.00</td>\n",
       "      <td>2.00</td>\n",
       "      <td>5.00</td>\n",
       "      <td>11.0</td>\n",
       "    </tr>\n",
       "  </tbody>\n",
       "</table>\n",
       "</div>"
      ],
      "text/plain": [
       "         RespID     CostL     CostR     TimeL     TimeR    Chosen      Mode  \\\n",
       "count  52488.00  52488.00  52488.00  52488.00  52488.00  52488.00  52488.00   \n",
       "mean   32776.25    181.57    184.83     98.50     97.83      1.48      1.85   \n",
       "std    14995.46    281.07    286.95    134.33    133.42      0.50      1.80   \n",
       "min       32.00      4.00      4.00      6.00      6.00      1.00      1.00   \n",
       "25%    19195.25     25.00     25.00     18.00     17.00      1.00      1.00   \n",
       "50%    33039.50     69.00     70.00     40.00     40.00      1.00      1.00   \n",
       "75%    45333.00    236.00    238.00    121.00    122.00      2.00      2.00   \n",
       "max    60130.00   5282.00   5221.00   2011.00   1855.00      2.00      8.00   \n",
       "\n",
       "        Purpose    Gender  AgeClass  IncClass  \n",
       "count  52488.00  52488.00  52488.00   52488.0  \n",
       "mean       3.28      1.45      3.20       5.0  \n",
       "std        1.64      0.50      0.99       2.3  \n",
       "min        1.00      1.00      1.00       1.0  \n",
       "25%        2.00      1.00      2.00       4.0  \n",
       "50%        4.00      1.00      3.00       5.0  \n",
       "75%        5.00      2.00      4.00       6.0  \n",
       "max        5.00      2.00      5.00      11.0  "
      ]
     },
     "execution_count": 2,
     "metadata": {},
     "output_type": "execute_result"
    }
   ],
   "source": [
    "# 1. Load the data set\n",
    "data_path = Path('data/Norway_VTT_2009.csv')\n",
    "df = pd.read_table(data_path, sep=',')\n",
    "\n",
    "# Show descriptive statistics\n",
    "round(df.describe(),2)"
   ]
  },
  {
   "cell_type": "markdown",
   "metadata": {},
   "source": [
    "This data set contains the following variables:<br>\n",
    "\n",
    "| Variable       | Description                                                  | Type    |\n",
    "|---------------|-------------------------------------------------------------|---------|\n",
    "| `RespID`        | Unique identifier for each survey response             | Integer |\n",
    "| `CostL`         | Travel cost of left alternative [min]                  | Decimal |\n",
    "| `CostR`         | Travel cost of right alternative [min]                 | Decimal |\n",
    "| `TimeL`         | Travel time of left alternative [eur]                  | Decimal |\n",
    "| `TimeR`         | Travel time of right alternative [eur]                 | Decimal |\n",
    "| `Chosen`        | Indicates the alternative chosen       | Categorical |\n",
    "| `Mode`          | Type of Transport mode               | Categorical    |\n",
    "| `Gender`        | Gender of the respondent                                     | Categorical    |\n",
    "| `AgeClass`      | Classification of the respondent's age                       | Categorical    |\n",
    "| `IncClass`      | Classification of the respondent's income                    | Categorical    |\n",
    "| `Purpose`       | Purpose of the trip                                     | Integer    |\n"
   ]
  },
  {
   "cell_type": "markdown",
   "metadata": {},
   "source": [
    "Now, we take the following data preprocessing steps:\n",
    "\n",
    "1. We keep only observations for the purpose 'long distance commute' and travel model 'car'.\n",
    "\n",
    "2. We convert the unit of cost from Norwegian Krone to euros to ease interpretation."
   ]
  },
  {
   "cell_type": "code",
   "execution_count": 3,
   "metadata": {},
   "outputs": [],
   "source": [
    "# 1. Keep only entries purpose == 5 (Long distance trips) & Mode == 1 (Car)\n",
    "df = df.loc[(df['Purpose'] == 5) & (df['Mode'] == 1)]"
   ]
  },
  {
   "cell_type": "code",
   "execution_count": 4,
   "metadata": {},
   "outputs": [],
   "source": [
    "# 2. Convert the monetary unit to euros\n",
    "NOK2euro_exchange_rate = 9\n",
    "df[['CostL','CostR']] = df[['CostL','CostR']] .div(NOK2euro_exchange_rate)"
   ]
  },
  {
   "cell_type": "markdown",
   "metadata": {},
   "source": [
    "## `2. Linear-additive RUM-MNL model`<br>\n",
    "We first estimate a linear-aditive RUM-MNL model. This model serves as our **benchmark** to compare against. But, before we can do this, we need to create the Biogeme database object and specify the optimiser and logger settings. "
   ]
  },
  {
   "cell_type": "markdown",
   "metadata": {},
   "source": [
    "`Biogeme database`<br>\n",
    "To estimate a model in Biogeme, we must create the data set as a Biogeme database object and the attributes as Biogeme variable objects."
   ]
  },
  {
   "cell_type": "code",
   "execution_count": 5,
   "metadata": {},
   "outputs": [],
   "source": [
    "# Create Biogeme database object\n",
    "biodata = db.Database('Norway2009VTT', df)\n",
    "\n",
    "# Create Biogeme variable objects\n",
    "CostL  = Variable('CostL')\n",
    "CostR  = Variable('CostR')\n",
    "TimeL  = Variable('TimeL')\n",
    "TimeR  = Variable('TimeR')\n",
    "Chosen = Variable('Chosen')\t"
   ]
  },
  {
   "cell_type": "markdown",
   "metadata": {},
   "source": [
    "`Biogeme optimiser and logging settings`<br>\n",
    "The file `biogeme.toml` contains the settings for the optimiser. In this file, we set the number of draws for estimating Mixed Logit models to 50. We use a relatively low number to avoid long estimation times.<br>\n",
    "Also, we invoke a so-called `logger` which enables us to see the progress during estimation.<br>"
   ]
  },
  {
   "cell_type": "code",
   "execution_count": 6,
   "metadata": {},
   "outputs": [],
   "source": [
    "# Change the number of draws in the .toml file\n",
    "with open('biogeme.toml', 'r') as file:\n",
    "    tomldata = toml.load(file)\n",
    "\n",
    "# Modify the number of draws\n",
    "tomldata['MonteCarlo']['number_of_draws'] = 50\n",
    "\n",
    "# Write the modified data back to the .toml file\n",
    "with open('biogeme.toml', 'w') as file:\n",
    "    toml.dump(tomldata, file)\n",
    "\n",
    "# Create a logger to monitor the estimation progress\n",
    "# if logger does not exist create it, else use it\n",
    "try:\n",
    "    logger\n",
    "except NameError:    \n",
    "    logger = blog.get_screen_logger(level=blog.INFO)"
   ]
  },
  {
   "cell_type": "markdown",
   "metadata": {},
   "source": [
    "`Create a linear-additive RUM-MNL model`<br>\n",
    "Now, we have the biogeme database object and set the environment, we can estimate our first model."
   ]
  },
  {
   "cell_type": "code",
   "execution_count": 7,
   "metadata": {},
   "outputs": [
    {
     "name": "stderr",
     "output_type": "stream",
     "text": [
      "File biogeme.toml has been parsed. \n",
      "Optimization algorithm: hybrid Newton/BFGS with simple bounds [simple_bounds] \n",
      "** Optimization: Newton with trust region for simple bounds \n",
      "Iter.            B_tc            B_tt     Function    Relgrad   Radius      Rho      \n",
      "    0            -0.1            -0.1      1.3e+04         13     0.14    -0.91    - \n",
      "    1          -0.059           0.042      1.1e+04         10     0.14     0.14    + \n",
      "    2          -0.059           0.042      1.1e+04         10    0.071     -3.1    - \n",
      "    3          -0.059           0.042      1.1e+04         10    0.035    -0.12    - \n",
      "    4          -0.023          0.0064        7e+03        3.3    0.035     0.85    + \n",
      "    5          -0.059          -0.019      6.3e+03          1     0.35     0.94   ++ \n",
      "    6          -0.094           -0.03        6e+03       0.24      3.5      1.2   ++ \n",
      "    7           -0.11          -0.034        6e+03       0.02       35      1.1   ++ \n",
      "    8           -0.11          -0.034        6e+03    0.00015  3.5e+02        1   ++ \n",
      "    9           -0.11          -0.034        6e+03    8.9e-09  3.5e+02        1   ++ \n"
     ]
    },
    {
     "name": "stdout",
     "output_type": "stream",
     "text": [
      "Results for model Benchmark MNL VTT model\n",
      "Nbr of parameters:\t\t2\n",
      "Sample size:\t\t\t10926\n",
      "Excluded data:\t\t\t0\n",
      "Null log likelihood:\t\t-7573.326\n",
      "Final log likelihood:\t\t-6033.756\n",
      "Likelihood ratio test (null):\t\t3079.141\n",
      "Rho square (null):\t\t\t0.203\n",
      "Rho bar square (null):\t\t\t0.203\n",
      "Akaike Information Criterion:\t12071.51\n",
      "Bayesian Information Criterion:\t12086.11\n",
      "\n",
      "         Value  Rob. Std err  Rob. t-test  Rob. p-value\n",
      "B_tc -0.107428      0.003714   -28.921834           0.0\n",
      "B_tt -0.033949      0.001366   -24.852251           0.0\n"
     ]
    }
   ],
   "source": [
    "# Give the model a name\n",
    "model_name = 'Benchmark MNL VTT model'\n",
    "\n",
    "# Define model parameters\n",
    "B_tt = Beta('B_tt', -0.1, None, None, 0)\n",
    "B_tc = Beta('B_tc', -0.1, None, None, 0)\n",
    "\n",
    "# Definition of the utility functions\n",
    "VL = B_tt * TimeL + B_tc * CostL\n",
    "VR = B_tt * TimeR + B_tc * CostR\n",
    "\n",
    "# Associate utility functions with alternatives\n",
    "V = {1: VL, 2: VR}     \n",
    "\n",
    "# Associate the availability conditions with the alternatives\n",
    "av = {1: 1, 2: 1} \n",
    "\n",
    "# Compute probability of the chosen alternative\n",
    "prob = models.logit(V, av, Chosen)\n",
    "\n",
    "# Take the log of the probability\n",
    "logprob = log(prob)\n",
    "\n",
    "# Create the Biogeme estimation object containing the data and the model\n",
    "biogeme = bio.BIOGEME(biodata, logprob)\n",
    "\n",
    "# Set reporting levels\n",
    "biogeme.generate_pickle = False\n",
    "biogeme.generate_html = False\n",
    "biogeme.saveIterations = False\n",
    "biogeme.modelName = model_name\n",
    "\n",
    "# Compute the null loglikelihood for reporting\n",
    "biogeme.calculateNullLoglikelihood(av)\n",
    "\n",
    "# Estimate the model and print the results\n",
    "results = biogeme.estimate()\n",
    "print(results.short_summary())\n",
    "\n",
    "# Get the results in a pandas table\n",
    "beta_hat = results.getEstimatedParameters()\n",
    "print(beta_hat)"
   ]
  },
  {
   "cell_type": "markdown",
   "metadata": {},
   "source": [
    "`Compute the Value of Travel Time`<br><br>\n",
    "The linear-additive RUM-MNL model allows for easy computation of the (mean) VTT. <br>\n",
    "\n",
    "$VTT = {\\frac{dV}{dtt}}/{\\frac{dV}{dtc}}$<br><br>\n",
    "$VTT = \\frac{\\beta_{tt}}{\\beta_{tc}}$\n",
    "\n",
    "To take the ratio, we access the estimated betas in the `beta_hat` dataframe that was created in the previous cell."
   ]
  },
  {
   "cell_type": "code",
   "execution_count": 8,
   "metadata": {},
   "outputs": [
    {
     "name": "stdout",
     "output_type": "stream",
     "text": [
      "Value of travel time MNL model:  €18.96 per hour\n"
     ]
    }
   ],
   "source": [
    "# Compute the value of travel time and print the mean VTT\n",
    "# We multiply by 60 to convert the value of travel time from minutes to hours\n",
    "VTT_MNL = 60*(beta_hat.loc['B_tt']['Value']/beta_hat.loc['B_tc']['Value'])\n",
    "print(f'Value of travel time MNL model:  €{VTT_MNL:.2f} per hour')"
   ]
  },
  {
   "cell_type": "markdown",
   "metadata": {},
   "source": [
    "## `3. Mixed Logit model for capturing taste heterogeneity`"
   ]
  },
  {
   "cell_type": "markdown",
   "metadata": {},
   "source": [
    "### `3.1 Theory`<br>\n",
    "In the MNL model, we postulate that tastes (e.g., 𝛽_tc) are equal across people in the population. As such, the taste parameter of an MNL model represents the mean taste in the population. The Mixed Logit (ML) model resolves this limitation. It explicitly models taste heterogeneity by means of random variables.\n",
    "\n",
    "Mathematically, the unconditional choice probability is given by:\n",
    "\n",
    "$P_{ni} = \\int_{\\beta_n}    [P_{ni}|\\beta_n] \\cdot f(\\beta_n|\\sigma)d\\beta_n$\n",
    "\n",
    "As can be seen, the ML choice probability does not have a closed-form expression. Therefore, it needs to be approximated using simulation.<br>\n",
    "To do that, we simulate the choice probabilities using a large number of draws `(R)` from the density function $f(β_n|\\sigma)$. <br>\n",
    "That is, we compute the conditional choice probability (which is a simple MNL) for each draw of $\\beta_n^{r}$ with $r=1,..,R$, and then take the average across the draws to compute the unconditional choice probability.\n",
    "\n",
    "<span style=\"text-decoration: overline;\">P</span>$_{ni} = \\frac{1}{R} \\sum_{r=1}^R P_{ni}(β_n^r)$\n",
    "\n",
    "Finally, we use the unconditional choice probabilities to compute the Log-Likelihood of the data given the model:\n",
    "\n",
    "$LL(X,|\\beta,\\sigma)= \\sum_{n=1}^N \\sum_{j=1}^J y_{nj} \\cdot ln($<span style=\"text-decoration: overline;\">P</span>$_{nj})$"
   ]
  },
  {
   "cell_type": "markdown",
   "metadata": {},
   "source": [
    "### `3.2 ML with normally distributed taste parameters`"
   ]
  },
  {
   "cell_type": "markdown",
   "metadata": {},
   "source": [
    "To estimate an ML, model with normally distributed taste parameters, we must specify the random parameters (for all randomly distributed betas that we wish to estimate). To do this in Biogeme, we use the following code to construct the random parameter for $\\beta_{tt}$:<br>\n",
    "\n",
    "                B_tt_rnd = B_tt + sigma_tt * bioDraws('B_tt_rnd', 'NORMAL_HALTON2')\n",
    "\n",
    "Note that apart from the random parameter for B_tt_rnd, the utility function is the same as under our linear-additive RUM-MNL benchmark model"
   ]
  },
  {
   "cell_type": "markdown",
   "metadata": {},
   "source": [
    "`Model specification` <br>\n",
    "\n",
    "Now, we will define random and nonrandom parameters, the utility functions, and their availabilities. <br>"
   ]
  },
  {
   "cell_type": "code",
   "execution_count": 9,
   "metadata": {},
   "outputs": [],
   "source": [
    "# Define the model parameters\n",
    "B_tt = Beta('b_tt', -0.1, None, None, 0)\n",
    "B_tc = Beta('b_tc', -0.1, None, None, 0)    \n",
    "sigma_tt = Beta('sigma_tt', 1, None, None, 0)\n",
    "\n",
    "# Construct the random taste parameter for beta_tt\n",
    "B_tt_rnd = B_tt + sigma_tt * bioDraws('B_tt_rnd', 'NORMAL_HALTON2')\n",
    "\n",
    "# Definition of the utility functions \n",
    "V_L = B_tt_rnd * TimeL + B_tc * CostL\n",
    "V_R = B_tt_rnd * TimeR + B_tc * CostR   \n",
    "\n",
    "# Create a dictionary to list the utility functions with the numbering of alternatives\n",
    "V = {1: V_L, 2: V_R}\n",
    "            \n",
    " # Create a dictionary to describe the availability conditions of each alternative\n",
    "av = {1: 1, 2: 1} "
   ]
  },
  {
   "cell_type": "markdown",
   "metadata": {},
   "source": [
    "`Estimation through simulation` \n",
    "\n",
    "We use the Monte Carlo simulation to estimate the random parameter. "
   ]
  },
  {
   "cell_type": "code",
   "execution_count": 10,
   "metadata": {},
   "outputs": [
    {
     "name": "stderr",
     "output_type": "stream",
     "text": [
      "File biogeme.toml has been parsed. \n",
      "Optimization algorithm: hybrid Newton/BFGS with simple bounds [simple_bounds] \n",
      "** Optimization: Newton with trust region for simple bounds \n",
      "Iter.            b_tc            b_tt        sigma_tt     Function    Relgrad   Radius      Rho      \n",
      "    0            -0.1            -0.1               1      7.5e+03       0.35        5   0.0099    - \n",
      "    1            -0.1            -0.1               1      7.5e+03       0.35      2.5    0.035    - \n",
      "    2            -0.1            -0.1               1      7.5e+03       0.35      1.2    0.071    - \n",
      "    3            -0.1            -0.1               1      7.5e+03       0.35     0.62     -4.2    - \n",
      "    4           -0.72            0.17            0.56        7e+03        0.8     0.62      0.3    + \n",
      "    5           -0.72            0.17            0.56        7e+03        0.8     0.31    0.096    - \n",
      "    6           -0.73           -0.14            0.52      5.9e+03       0.12     0.31     0.86    + \n",
      "    7           -0.73           -0.14            0.52      5.9e+03       0.12     0.16     -4.6    - \n",
      "    8           -0.89           -0.29            0.37      5.8e+03       0.21     0.16     0.35    + \n",
      "    9           -0.73           -0.22            0.36      5.8e+03      0.013     0.16     0.87    + \n",
      "   10           -0.58           -0.18            0.27      5.8e+03      0.021      1.6     0.99   ++ \n",
      "   11           -0.58           -0.18            0.27      5.8e+03      0.021     0.78      -55    - \n",
      "   12           -0.58           -0.18            0.27      5.8e+03      0.021     0.39      -98    - \n",
      "   13           -0.58           -0.18            0.27      5.8e+03      0.021      0.2     -3.1    - \n",
      "   14           -0.38           -0.11            0.16      5.8e+03      0.073      0.2     0.56    + \n",
      "   15           -0.38           -0.12            0.16      5.8e+03     0.0026        2        1   ++ \n",
      "   16           -0.39           -0.12            0.17      5.8e+03    6.2e-05       20        1   ++ \n",
      "   17           -0.39           -0.12            0.17      5.8e+03      5e-08       20        1   ++ \n"
     ]
    },
    {
     "name": "stdout",
     "output_type": "stream",
     "text": [
      "Results for model ML with normal distributed B_tt\n",
      "Nbr of parameters:\t\t3\n",
      "Sample size:\t\t\t10926\n",
      "Excluded data:\t\t\t0\n",
      "Null log likelihood:\t\t-7573.326\n",
      "Final log likelihood:\t\t-5759.58\n",
      "Likelihood ratio test (null):\t\t3627.492\n",
      "Rho square (null):\t\t\t0.239\n",
      "Rho bar square (null):\t\t\t0.239\n",
      "Akaike Information Criterion:\t11525.16\n",
      "Bayesian Information Criterion:\t11547.06\n",
      "\n",
      "             Value  Rob. Std err  Rob. t-test  Rob. p-value\n",
      "b_tc     -0.390044      0.044915    -8.684041  0.000000e+00\n",
      "b_tt     -0.119554      0.013541    -8.829128  0.000000e+00\n",
      "sigma_tt  0.167591      0.025161     6.660836  2.722733e-11\n"
     ]
    }
   ],
   "source": [
    "# Give the model a name\n",
    "model_name = 'ML with normal distributed B_tt'\n",
    "\n",
    "# The conditional probability of the chosen alternative is a logit\n",
    "condProb = models.logit(V, av ,Chosen)\n",
    "\n",
    "# The unconditional probability is obtained by simulation\n",
    "uncondProb = MonteCarlo(condProb)\n",
    "\n",
    "# The Log-likelihood is the log of the unconditional probability\n",
    "LL = log(uncondProb)\n",
    "\n",
    "# Create the Biogeme estimation object containing the data and the model\n",
    "biogeme = bio.BIOGEME(biodata , LL)\n",
    "\n",
    "# Set reporting levels\n",
    "biogeme.generate_pickle = False\n",
    "biogeme.generate_html = False\n",
    "biogeme.saveIterations = False\n",
    "biogeme.modelName = model_name\n",
    "\n",
    "# Compute the null loglikelihood for reporting\n",
    "biogeme.calculateNullLoglikelihood(av)\n",
    "\n",
    "# Estimate the parameters\n",
    "results = biogeme.estimate()\n",
    "print(results.short_summary())\n",
    "\n",
    "# Get the results in a pandas table\n",
    "beta_hat = results.getEstimatedParameters()\n",
    "print(beta_hat)"
   ]
  },
  {
   "cell_type": "code",
   "execution_count": 11,
   "metadata": {},
   "outputs": [
    {
     "name": "stdout",
     "output_type": "stream",
     "text": [
      "Value of travel time ML model:  €18.39 per hour\n"
     ]
    }
   ],
   "source": [
    "# Compute the mean value of travel time\n",
    "VTT_ML = 60*(beta_hat.loc['b_tt']['Value']/beta_hat.loc['b_tc']['Value'])\n",
    "print(f'Value of travel time ML model:  €{VTT_ML:.2f} per hour')"
   ]
  },
  {
   "cell_type": "markdown",
   "metadata": {},
   "source": [
    "### `3.3 Reflection`<br>\n",
    "We do not also estimate $\\beta_{tc}$ as a random parameter for two reasons.<br>\n",
    "1. Jointly estimating $\\beta_{tc-rnd}$ and $\\beta_{tt-rnd}$ is tedious because of collinearity\n",
    "2. When we compute the VTT we divide by $\\beta_{tc}$. In case $\\beta_{tc}$ would be **normally** distributed, we would divide by zero for some of the mass of the distribution. Dividing by zero leads to infinite VTT values. Hence, a normally distributed $\\beta_{tc}$ is generally not a good idea."
   ]
  },
  {
   "cell_type": "markdown",
   "metadata": {},
   "source": [
    "## `4. Willingness-to-Pay space`"
   ]
  },
  {
   "cell_type": "markdown",
   "metadata": {},
   "source": [
    "### `4.1. Theory`<br>"
   ]
  },
  {
   "cell_type": "markdown",
   "metadata": {},
   "source": [
    "People are differently sensitive to cost. But, as discussed under 3.3, we cannot specify $\\beta_{tc}$ as a randomly distributed parameter (or, to be more precise, not as one that uses a distribution which has support over the full domain, like a normal distribution). To circumvent this problem, we can cleverly re-parameterise our model. This reparametrisation involves a transformation from **`utility space`** to **`Willingness-to-Pay (WTP) space`**. This transformation allows us to estimate the VTT (distribution) directly, and simplifies the modelling. It works as follows:<br><br>\n",
    "\n",
    "\n",
    "The utility specification in `utility space` is:\n",
    "\n",
    "$V_1 = \\beta_{tc} \\cdot TC_1 + \\beta_{tt} \\cdot TT_1$<br>\n",
    "$V_2 = \\beta_{tc} \\cdot TC_2 + \\beta_{tt} \\cdot TT_2$<br><br>\n",
    "\n",
    "We factorise $\\beta_{tc}$ in both utility functions. This gives us:\n",
    "\n",
    "$V_1 = \\beta_{tc} \\cdot (TC_1 + (\\frac{\\beta_{tt}}{\\beta_{tc}}) \\cdot TT_1)$<br>\n",
    "$V_2 = \\beta_{tc} \\cdot (TC_2 + (\\frac{\\beta_{tt}}{\\beta_{tc}}) \\cdot TT_2)$<br><br>\n",
    "\n",
    "Noting that $VTT = \\frac{\\beta_{tt}}{\\beta_{tc}}$, we obtain:\n",
    "\n",
    "$V_1 = \\beta_{tc} \\cdot (TC_1 + VTT \\cdot TT_1)$<br>\n",
    "$V_2 = \\beta_{tc} \\cdot (TC_2 + VTT \\cdot TT_2)$<br><br>\n",
    "\n",
    "Hence, with this model, we can directly estimate the VTT (and $\\beta_{tc}$). Therefore, this model is in the `Willingness-to-Pay space`. Let's see how this works out for a simple MNL model:"
   ]
  },
  {
   "cell_type": "code",
   "execution_count": 12,
   "metadata": {},
   "outputs": [
    {
     "name": "stderr",
     "output_type": "stream",
     "text": [
      "File biogeme.toml has been parsed. \n"
     ]
    },
    {
     "name": "stderr",
     "output_type": "stream",
     "text": [
      "Optimization algorithm: hybrid Newton/BFGS with simple bounds [simple_bounds] \n",
      "** Optimization: Newton with trust region for simple bounds \n",
      "Iter.            B_tc             vtt     Function    Relgrad   Radius      Rho      \n",
      "    0            -0.1               1      1.3e+04        6.4        5 -2.3e+301    - \n",
      "    1            -0.1               1      1.3e+04        6.4      2.5 -8.6e+301    - \n",
      "    2            -0.1               1      1.3e+04        6.4      1.2  -3e+302    - \n",
      "    3            -0.1               1      1.3e+04        6.4     0.62     -1.7    - \n",
      "    4            -0.1               1      1.3e+04        6.4     0.31     -1.7    - \n",
      "    5            -0.1               1      1.3e+04        6.4     0.16     -1.1    - \n",
      "    6           0.056            0.84        1e+04        5.9     0.16     0.31    + \n",
      "    7           0.056            0.84        1e+04        5.9    0.078     -0.1    - \n",
      "    8          -0.022            0.77      7.3e+03       0.13    0.078     0.81    + \n",
      "    9          -0.026            0.69      7.2e+03       0.29     0.78     0.99   ++ \n",
      "   10          -0.026            0.69      7.2e+03       0.29     0.39    -0.68    - \n",
      "   11           -0.09             0.3      6.1e+03       0.21     0.39      0.7    + \n",
      "   12           -0.11            0.32        6e+03      0.017      3.9     0.99   ++ \n",
      "   13           -0.11            0.32        6e+03    0.00032       39     0.99   ++ \n",
      "   14           -0.11            0.32        6e+03      5e-08       39        1   ++ \n"
     ]
    },
    {
     "name": "stdout",
     "output_type": "stream",
     "text": [
      "Results for model Benchmark MNL in WTP space\n",
      "Nbr of parameters:\t\t2\n",
      "Sample size:\t\t\t10926\n",
      "Excluded data:\t\t\t0\n",
      "Null log likelihood:\t\t-7573.326\n",
      "Final log likelihood:\t\t-6033.756\n",
      "Likelihood ratio test (null):\t\t3079.141\n",
      "Rho square (null):\t\t\t0.203\n",
      "Rho bar square (null):\t\t\t0.203\n",
      "Akaike Information Criterion:\t12071.51\n",
      "Bayesian Information Criterion:\t12086.11\n",
      "\n",
      "         Value  Rob. Std err  Rob. t-test  Rob. p-value\n",
      "B_tc -0.107428      0.003714   -28.921833           0.0\n",
      "vtt   0.316019      0.006203    50.945410           0.0\n"
     ]
    }
   ],
   "source": [
    "# Give the model a name\n",
    "model_name = 'Benchmark MNL in WTP space'\n",
    "\n",
    "# Define model parameters\n",
    "vtt  = Beta('vtt',     1, None, None, 0)\n",
    "B_tc = Beta('B_tc', -0.1, None, None, 0)\n",
    "\n",
    "# Definition of the utility functions\n",
    "VL = B_tc * (CostL + vtt * TimeL)\n",
    "VR = B_tc * (CostR + vtt * TimeR)\n",
    "\n",
    "# Associate utility functions with alternatives\n",
    "V = {1: VL, 2: VR}     \n",
    "\n",
    "# Associate the availability conditions with the alternatives\n",
    "av = {1: 1, 2: 1} \n",
    "\n",
    "# Compute probability of the chosen alternative\n",
    "prob = models.logit(V, av, Chosen)\n",
    "\n",
    "# Take the log of the probability\n",
    "logprob = log(prob)\n",
    "\n",
    "# Create the Biogeme estimation object containing the data and the model\n",
    "biogeme = bio.BIOGEME(biodata, logprob)\n",
    "\n",
    "# Set reporting levels\n",
    "biogeme.generate_pickle = False\n",
    "biogeme.generate_html = False\n",
    "biogeme.saveIterations = False\n",
    "biogeme.modelName = model_name\n",
    "\n",
    "# Compute the null loglikelihood for reporting\n",
    "biogeme.calculateNullLoglikelihood(av)\n",
    "\n",
    "# Estimate the parameters and print the results\n",
    "results = biogeme.estimate()\n",
    "print(results.short_summary())\n",
    "\n",
    "# Get the results in a pandas table\n",
    "beta_hat = results.getEstimatedParameters()\n",
    "print(beta_hat)"
   ]
  },
  {
   "cell_type": "code",
   "execution_count": 13,
   "metadata": {},
   "outputs": [
    {
     "name": "stdout",
     "output_type": "stream",
     "text": [
      "Value of travel time MNL model in WTP space:  €18.96 per hour\n"
     ]
    }
   ],
   "source": [
    "# Compute the value of travel time\n",
    "VTT_WTP_MNL = 60 * beta_hat.loc['vtt']['Value']\n",
    "print(f'Value of travel time MNL model in WTP space:  €{VTT_WTP_MNL:.2f} per hour')"
   ]
  },
  {
   "cell_type": "markdown",
   "metadata": {},
   "source": [
    "### `4.2 Reflection`<br>\n",
    "Comparing these results with the benchmark MNL VTT model, we make two observations:\n",
    "* We obtain `EXACTLY` the same VTT\n",
    "* We obtain `EXACTLY` the same model fit \n",
    "* **We immediately obtain the VTT and the associated standard error!** \n"
   ]
  },
  {
   "cell_type": "markdown",
   "metadata": {},
   "source": [
    "### `4.3. ML in Willingness-to-Pay space`"
   ]
  },
  {
   "cell_type": "markdown",
   "metadata": {},
   "source": [
    "`ML with normally distributed taste parameters`<br>\n",
    "Now, let's see how WTP space enables us to directly estimate the VTT distribution in the context of the Mixed Logit model."
   ]
  },
  {
   "cell_type": "code",
   "execution_count": 14,
   "metadata": {},
   "outputs": [],
   "source": [
    "# Give the model a name\n",
    "model_name = 'ML WTP space with normally distributed vtt'\n",
    "\n",
    "# Parameters definition enabling the construction of random parameters\n",
    "vtt = Beta('vtt',    0.1, None, None, 0)\n",
    "B_tc = Beta('b_tc', -0.1, None, None, 0)    \n",
    "sigma_vtt = Beta('sigma_vtt', 1, None, None, 0)\n",
    "\n",
    "# Construction of random parameters   \n",
    "vtt_rnd = vtt + sigma_vtt * bioDraws('vtt_rnd', 'NORMAL_HALTON2')\n",
    "\n",
    "# Definition of the utility functions \n",
    "V_L = B_tc * (CostL + vtt_rnd * TimeL)\n",
    "V_R = B_tc * (CostR + vtt_rnd * TimeR)   \n",
    "\n",
    "# Create a dictionary to list the utility functions with the numbering of alternatives\n",
    "V = {1: V_L, 2: V_R}\n",
    "            \n",
    " # Create a dictionary to describe the availability conditions of each alternative\n",
    "av = {1: 1, 2: 1} "
   ]
  },
  {
   "cell_type": "code",
   "execution_count": 15,
   "metadata": {},
   "outputs": [
    {
     "name": "stderr",
     "output_type": "stream",
     "text": [
      "File biogeme.toml has been parsed. \n",
      "Optimization algorithm: hybrid Newton/BFGS with simple bounds [simple_bounds] \n",
      "** Optimization: Newton with trust region for simple bounds \n",
      "Iter.            b_tc       sigma_vtt             vtt     Function    Relgrad   Radius      Rho      \n",
      "    0            -0.1               1             0.1      6.3e+03       0.37        5   -0.084    - \n",
      "    1            -0.1               1             0.1      6.3e+03       0.37      2.5    -0.26    - \n",
      "    2            -0.1               1             0.1      6.3e+03       0.37      1.2    -0.59    - \n",
      "    3            -0.1               1             0.1      6.3e+03       0.37     0.62    -0.88    - \n",
      "    4           -0.19            0.38            0.35      5.8e+03       0.17      6.2     0.92   ++ \n",
      "    5           -0.25            0.35             0.3      5.8e+03      0.036       62     0.97   ++ \n",
      "    6           -0.31            0.41            0.31      5.8e+03      0.015  6.2e+02      1.1   ++ \n",
      "    7           -0.34            0.42            0.31      5.8e+03     0.0034  6.2e+03      1.2   ++ \n",
      "    8           -0.36            0.42            0.31      5.8e+03    0.00042  6.2e+04      1.1   ++ \n",
      "    9           -0.36            0.42            0.31      5.8e+03    6.6e-06  6.2e+05        1   ++ \n",
      "   10           -0.36            0.42            0.31      5.8e+03    1.9e-09  6.2e+05        1   ++ \n"
     ]
    },
    {
     "name": "stdout",
     "output_type": "stream",
     "text": [
      "Results for model ML WTP space with normally distributed vtt\n",
      "Nbr of parameters:\t\t3\n",
      "Sample size:\t\t\t10926\n",
      "Excluded data:\t\t\t0\n",
      "Null log likelihood:\t\t-7573.326\n",
      "Final log likelihood:\t\t-5765.665\n",
      "Likelihood ratio test (null):\t\t3615.322\n",
      "Rho square (null):\t\t\t0.239\n",
      "Rho bar square (null):\t\t\t0.238\n",
      "Akaike Information Criterion:\t11537.33\n",
      "Bayesian Information Criterion:\t11559.23\n",
      "\n",
      "              Value  Rob. Std err  Rob. t-test  Rob. p-value\n",
      "b_tc      -0.360040      0.040651    -8.856738           0.0\n",
      "sigma_vtt  0.419979      0.022892    18.345717           0.0\n",
      "vtt        0.307521      0.006558    46.892502           0.0\n"
     ]
    }
   ],
   "source": [
    "# The conditional probability of the chosen alternative is a logit\n",
    "condProb = models.logit(V, av ,Chosen)\n",
    "\n",
    "# The unconditional probability is obtained by simulation\n",
    "uncondProb = MonteCarlo(condProb)\n",
    "\n",
    "# The Log-likelihood is the log of the unconditional probability\n",
    "LL = log(uncondProb)\n",
    "\n",
    "# Create the Biogeme estimation object containing the data and the model\n",
    "biogeme = bio.BIOGEME(biodata , LL)\n",
    "\n",
    "# Set reporting levels\n",
    "biogeme.generate_pickle = False\n",
    "biogeme.generate_html = False\n",
    "biogeme.saveIterations = False\n",
    "biogeme.modelName = model_name\n",
    "\n",
    "\n",
    "# Compute the null loglikelihood for reporting\n",
    "biogeme.calculateNullLoglikelihood(av)\n",
    "\n",
    "# Estimate the parameters and print the results\n",
    "results = biogeme.estimate()\n",
    "print(results.short_summary())\n",
    "\n",
    "# Get the results in a pandas table\n",
    "beta_hat = results.getEstimatedParameters()\n",
    "print(beta_hat)"
   ]
  },
  {
   "cell_type": "code",
   "execution_count": 16,
   "metadata": {},
   "outputs": [
    {
     "name": "stdout",
     "output_type": "stream",
     "text": [
      "Value of travel time ML model in WTP space:  €18.45 per hour\n"
     ]
    }
   ],
   "source": [
    "# Compute the value of travel time\n",
    "VTT_WTP_ML = 60*beta_hat.loc['vtt']['Value']\n",
    "print(f'Value of travel time ML model in WTP space:  €{VTT_WTP_ML:.2f} per hour')"
   ]
  },
  {
   "cell_type": "markdown",
   "metadata": {},
   "source": [
    "`Visualisation of the estimated VTT distribution`<br>\n",
    "Visualisation of the estimated distribution helps to get a feeling for the shape of the distribution that we aim to recover. To do so, we use the estimated values for the mean (vtt) and standard deviation (sigma_vtt). <br>\n",
    "Note that the visualisation distinguishes between values in the positive and negative domains."
   ]
  },
  {
   "cell_type": "code",
   "execution_count": 17,
   "metadata": {},
   "outputs": [
    {
     "data": {
      "image/png": "[encoded data removed]",
      "text/plain": [
       "<Figure size 640x480 with 1 Axes>"
      ]
     },
     "metadata": {},
     "output_type": "display_data"
    }
   ],
   "source": [
    "# Plot the estimated normal distribution\n",
    "\n",
    "# Get the mean and standard deviation from the beta_hat table\n",
    "mean_normal = beta_hat.loc['vtt']['Value']\n",
    "std_dev_normal = beta_hat.loc['sigma_vtt']['Value']\n",
    "\n",
    "# Create a vector of 100 points between +/- 4 standard deviations from the mean\n",
    "x= np.linspace(mean_normal - 4*std_dev_normal, mean_normal + 4*std_dev_normal, 100)\n",
    "\n",
    "# Plot the normal distribution in the positive domain. \n",
    "# Note that the x-axis is rescaled by 60 to convert from minutes to hours\n",
    "# The scipy function \"norm.pdf(x,mean, std_dev)\" computes the probability density function of the normal distribution\n",
    "plt.plot(x[x>0]*60, norm.pdf(x[x>0], mean_normal, std_dev_normal))\n",
    "\n",
    "# Plot the normal distribution in the negative domain. \n",
    "plt.plot(x[x<0]*60, norm.pdf(x[x<0], mean_normal, std_dev_normal), color='red',linestyle='dashed')\n",
    "\n",
    "# Add a vertical line to highlight the zero\n",
    "plt.plot([0,0], [0,np.max(norm.pdf(x[x>0], mean_normal, std_dev_normal))], color='black',linestyle='dashed')\n",
    "\n",
    "# Add labels and title\n",
    "plt.xlabel('VTT [euro/hour]')\n",
    "plt.ylabel('Probability Density')\n",
    "plt.ylim([0,1])\n",
    "plt.title(f'Distribution of the VTT')\n",
    "plt.show()"
   ]
  },
  {
   "cell_type": "markdown",
   "metadata": {},
   "source": [
    "### `4.4 Reflection`<br>\n",
    "* Using a Mixed Logit model in the Willingness-to-Pay space, we are able to estimate the distribution of the VTT **directly** . Hence, this model allows jointly for unobserved heterogeneity in cost and time without running into problems caused by dividing by zero.  \n",
    "* But, we see that a substantial part of the VTT distribution lies in the negative domain. This is behaviourally counterintuitive. In general, people prefer to arrive quicker at their destination rather than later. This is due to the assumption that the VTT is normally distributed. Perhaps this assumption needs revisiting...\n"
   ]
  },
  {
   "cell_type": "markdown",
   "metadata": {},
   "source": [
    "## `Exercise 1: ML with log-normally distributed VTT`"
   ]
  },
  {
   "cell_type": "markdown",
   "metadata": {},
   "source": [
    "Now, **you** will try the assumption that the VTT distribution in the population is **`log-normally distributed`** (as opposed to normally distributed).<br>\n",
    "\n",
    "To do that, you must create a random vtt parameter with a log-normal VTT distribution. Draws from the log-normal distribution can be obtained from draws from the normal distribution as follows: <br>\n",
    "\n",
    "            vtt_rnd = exp(mu + sigma  * bioDraws('vtt_rnd', 'NORMAL_HALTON2'))\n",
    "            \n",
    "\n",
    "Estimate this model and interpret its results.<br>\n",
    "\n",
    "`Questions:`\n",
    "\n",
    "`A` Compare the log-likelihood of the ML model with normal distribution and with log-normal distribution. Which model fits better?<br>\n",
    "\n",
    "`B` What can you conclude from the `vtt` and `sigma` parameters?<br>\n",
    "\n",
    "`C` Compute the mean of the estimated log-normal distribution, i.e. `mean_lognormal` (based on your estimated `mu` and `sigma`). <br>\n",
    "\n",
    "**Hint**, take a look at [https://en.wikipedia.org/wiki/Log-normal_distribution](https://en.wikipedia.org/wiki/Log-normal_distribution) to see how this is done. Look for the formula for the mean in the right-hand side panel on the web page.\n",
    "\n",
    "`D` Plot the shape of the log-normal distribution for the estimated mu and sigma. <br>\n",
    "\n",
    " **Hint**, you can use the  scipy function \"lognorm\". But lognorm is differently parameterised. That is, instead of using a location parameter `mu`, it requires a `scale` parameter. The scale is simply the exponent of the location parameter mu (i.e. scale = exp(mu)). <br>\n",
    "    \n",
    "Alternatively, you compute it directly from the formula yourself using the location `mu` and standard deviation $\\sigma$:<br>\n",
    "    ${\\frac {1}{x\\sigma {\\sqrt {2\\pi }}}}\\ \\exp \\left(-{\\frac {\\left(\\ln x-\\mu \\right)^{2}}{2\\sigma ^{2}}}\\right)$"
   ]
  },
  {
   "cell_type": "code",
   "execution_count": 18,
   "metadata": {},
   "outputs": [],
   "source": [
    "# your code"
   ]
  },
  {
   "cell_type": "markdown",
   "metadata": {},
   "source": [
    "#### `Answers`"
   ]
  },
  {
   "cell_type": "code",
   "execution_count": 19,
   "metadata": {},
   "outputs": [],
   "source": [
    "# Give the model a name\n",
    "model_name = 'ML WTP space with log-normally distributed VTT'\n",
    "\n",
    "# Parameters definition enabling the construction of random parameters\n",
    "mu   = Beta('mu',     -1, None, None, 0)\n",
    "B_tc = Beta('b_tc', -1, None, None, 0)    \n",
    "sigma  = Beta('sigma', 1, None, None, 0)\n",
    "\n",
    "# Construction of random parameters   \n",
    "vtt_rnd = exp(mu + sigma * bioDraws('vtt_rnd', 'NORMAL_HALTON2'))\n",
    "\n",
    "# Definition of the utility functions \n",
    "V_L = B_tc * (CostL + vtt_rnd * TimeL)\n",
    "V_R = B_tc * (CostR + vtt_rnd * TimeR)   \n",
    "\n",
    "# Create a dictionary to list the utility functions with the numbering of alternatives\n",
    "V = {1: V_L, 2: V_R}\n",
    "            \n",
    " # Create a dictionary to describe the availability conditions of each alternative\n",
    "av = {1: 1, 2: 1} "
   ]
  },
  {
   "cell_type": "code",
   "execution_count": 20,
   "metadata": {},
   "outputs": [
    {
     "name": "stderr",
     "output_type": "stream",
     "text": [
      "File biogeme.toml has been parsed. \n",
      "Optimization algorithm: hybrid Newton/BFGS with simple bounds [simple_bounds] \n",
      "** Optimization: Newton with trust region for simple bounds \n",
      "Iter.            b_tc              mu           sigma     Function    Relgrad   Radius      Rho      \n",
      "    0              -1              -1               1        6e+03       0.33        5    -0.92    - \n",
      "    1              -1              -1               1        6e+03       0.33      2.5      -77    - \n",
      "    2              -1              -1               1        6e+03       0.33      1.2 -1.2e+02    - \n",
      "    3              -1              -1               1        6e+03       0.33     0.62      -25    - \n",
      "    4              -1              -1               1        6e+03       0.33     0.31    -0.54    - \n",
      "    5           -0.69            -1.3               1      5.6e+03        0.1      3.1        1   ++ \n",
      "    6           -0.93            -1.4             1.1      5.6e+03      0.014       31      1.1   ++ \n",
      "    7              -1            -1.5             1.1      5.6e+03    0.00035  3.1e+02        1   ++ \n",
      "    8              -1            -1.5             1.1      5.6e+03    3.9e-05  3.1e+03        1   ++ \n",
      "    9              -1            -1.5             1.1      5.6e+03    7.8e-07  3.1e+03        1   ++ \n"
     ]
    },
    {
     "name": "stdout",
     "output_type": "stream",
     "text": [
      "Results for model ML WTP space with log-normally distributed VTT\n",
      "Nbr of parameters:\t\t3\n",
      "Sample size:\t\t\t10926\n",
      "Excluded data:\t\t\t0\n",
      "Null log likelihood:\t\t-7573.326\n",
      "Final log likelihood:\t\t-5569.516\n",
      "Likelihood ratio test (null):\t\t4007.621\n",
      "Rho square (null):\t\t\t0.265\n",
      "Rho bar square (null):\t\t\t0.264\n",
      "Akaike Information Criterion:\t11145.03\n",
      "Bayesian Information Criterion:\t11166.93\n",
      "\n",
      "          Value  Rob. Std err  Rob. t-test  Rob. p-value\n",
      "b_tc  -1.017226      0.238149    -4.271385      0.000019\n",
      "mu    -1.463050      0.020912   -69.961364      0.000000\n",
      "sigma  1.139934      0.042740    26.671554      0.000000\n"
     ]
    }
   ],
   "source": [
    "# The conditional probability of the chosen alternative is a logit\n",
    "condProb = models.logit(V, av ,Chosen)\n",
    "\n",
    "# The unconditional probability is obtained by simulation\n",
    "uncondProb = MonteCarlo(condProb)\n",
    "\n",
    "# The Log-likelihood is the log of the unconditional probability\n",
    "LL = log(uncondProb)\n",
    "\n",
    "# Create the Biogeme estimation object containing the data and the model\n",
    "biogeme = bio.BIOGEME(biodata , LL)\n",
    "\n",
    "\n",
    "# Set reporting levels\n",
    "biogeme.generate_pickle = False\n",
    "biogeme.generate_html = False\n",
    "biogeme.saveIterations = False\n",
    "biogeme.modelName = model_name\n",
    "\n",
    "# Compute the null loglikelihood for reporting\n",
    "biogeme.calculateNullLoglikelihood(av)\n",
    "\n",
    "# Estimate the parameters\n",
    "results = biogeme.estimate()\n",
    "print(results.short_summary())\n",
    "\n",
    "# Get the results in a pandas table\n",
    "beta_hat = results.getEstimatedParameters()\n",
    "print(beta_hat)"
   ]
  },
  {
   "cell_type": "markdown",
   "metadata": {},
   "source": [
    "1. Compare the log-likelihood of the ML model with normal distribution and with log-normal distribution. Which model fits better?<br>\n",
    "\n",
    "        --> The log-normal distribution fits better, as it has a higher log-likelihood (-5568.529 vs -5739.896)\n",
    "\n",
    "2. What can you conclude from the $\\mu$ and $\\sigma$ parameters?<br>\n",
    "\n",
    "        --> The parameters are significant, and negative. But furthermore hard to interpret\n",
    "\n",
    "3. Compute the mean of the log-normal distribution (based on your estimated $\\mu$ and $\\sigma$). <br>\n",
    "\n",
    "        --> The mean of the log-normal VTT distribution is €25.99 per hour"
   ]
  },
  {
   "cell_type": "code",
   "execution_count": 21,
   "metadata": {},
   "outputs": [
    {
     "name": "stdout",
     "output_type": "stream",
     "text": [
      "The mean of the log-normal VTT distribution is: €26.60 per hour\n"
     ]
    }
   ],
   "source": [
    "mu = beta_hat.loc['mu']['Value']\n",
    "sigma = beta_hat.loc['sigma']['Value']\n",
    "mean_lognormal = np.exp(mu + np.square(sigma)/2) * 60\n",
    "print(f'The mean of the log-normal VTT distribution is: €{mean_lognormal:.2f} per hour')"
   ]
  },
  {
   "cell_type": "markdown",
   "metadata": {},
   "source": [
    "4. Plot the shape of the log-normal distribution using the estimated mu and sigma"
   ]
  },
  {
   "cell_type": "code",
   "execution_count": 22,
   "metadata": {},
   "outputs": [
    {
     "data": {
      "image/png": "[encoded data removed]",
      "text/plain": [
       "<Figure size 640x480 with 1 Axes>"
      ]
     },
     "metadata": {},
     "output_type": "display_data"
    }
   ],
   "source": [
    "# Plot the estimated log-normal distribution\n",
    "x = np.linspace(0.0001, 100/60, 100)\n",
    "\n",
    "# Compute the pdf of the log-normal distribution, based on mu and sigma_sq\n",
    "pdf_lognorm1 = (1/(x*sigma*np.sqrt(2*np.pi)))*np.exp(-np.square(np.log(x)-mu)/(2*np.square(sigma)))\n",
    "pdf_lognorm2 = lognorm.pdf(x, s = sigma, scale= np.exp(mu))\n",
    "\n",
    "# Plot the log-normal distribution. Note that x is rescaled by 60 to convert from minutes to hours\n",
    "plt.plot(x*60, pdf_lognorm1)\n",
    "plt.plot(x*60, pdf_lognorm2, color='red',linestyle='dashed')\n",
    "\n",
    "# Add labels and title\n",
    "plt.xlabel('VTT [euro/hour]')\n",
    "plt.ylabel('Probability Density')\n",
    "# plt.ylim([0,3])\n",
    "plt.title(f'Distribution of the VTT')\n",
    "plt.show()"
   ]
  },
  {
   "cell_type": "markdown",
   "metadata": {},
   "source": [
    "## `5. Panel Mixed Logit model`"
   ]
  },
  {
   "cell_type": "markdown",
   "metadata": {},
   "source": [
    "Thus far, we have worked on the assumption that each choice observation is uncorrelated with all other choice observations. However, this data set contains multiple choices per respondent. In the ML modelling framework, we can also account for correlation in unobserved utility **across observations** of the same individual if we specify it as a panel ML model. In the panel ML model, the likelihood of the sequence of choices *t* = 1..*T* of an individual *n* is given by:  \n",
    "\n",
    "$L_n(i_1,...,i_{T})(\\beta_n|\\sigma) = \\int_{\\beta_n}\\Pi_{t=1}^T     P_{n}(i_t|\\beta_n) f(\\beta_n|\\sigma)d\\beta_n$\n",
    "\n",
    "This likelihood does not have a closed-form expression. Therefore, as before, it needs to be approximated using simulation. Let's re-estimate the ML model assuming a normally distributed VTT distribution while accounting for panel structure. To do this, we first need to convert the data set into a so-called wide data format. In a wide format data set, each row contains all the choices belonging to an individual. Conveniently, Biogeme has a built-in function to do this (but, rather inconveniently, the names of the columns still need to be renamed)."
   ]
  },
  {
   "cell_type": "markdown",
   "metadata": {},
   "source": [
    "### `5.1. Preparing a wide Biogeme database for estimating panel ML model`"
   ]
  },
  {
   "cell_type": "markdown",
   "metadata": {},
   "source": [
    "In this cell we transform our data set into a wide format, and create a new Biogeme database object."
   ]
  },
  {
   "cell_type": "code",
   "execution_count": 23,
   "metadata": {},
   "outputs": [
    {
     "name": "stdout",
     "output_type": "stream",
     "text": [
      "Number of observations per individual: 9\n"
     ]
    },
    {
     "data": {
      "text/html": [
       "<div>\n",
       "<style scoped>\n",
       "    .dataframe tbody tr th:only-of-type {\n",
       "        vertical-align: middle;\n",
       "    }\n",
       "\n",
       "    .dataframe tbody tr th {\n",
       "        vertical-align: top;\n",
       "    }\n",
       "\n",
       "    .dataframe thead th {\n",
       "        text-align: right;\n",
       "    }\n",
       "</style>\n",
       "<table border=\"1\" class=\"dataframe\">\n",
       "  <thead>\n",
       "    <tr style=\"text-align: right;\">\n",
       "      <th></th>\n",
       "      <th>Purpose</th>\n",
       "      <th>IncClass</th>\n",
       "      <th>Gender</th>\n",
       "      <th>AgeClass</th>\n",
       "      <th>Mode</th>\n",
       "      <th>Chosen_0</th>\n",
       "      <th>CostL_0</th>\n",
       "      <th>CostR_0</th>\n",
       "      <th>TimeL_0</th>\n",
       "      <th>TimeR_0</th>\n",
       "      <th>Chosen_1</th>\n",
       "      <th>CostL_1</th>\n",
       "      <th>CostR_1</th>\n",
       "      <th>TimeL_1</th>\n",
       "      <th>TimeR_1</th>\n",
       "      <th>Chosen_2</th>\n",
       "      <th>CostL_2</th>\n",
       "      <th>CostR_2</th>\n",
       "      <th>TimeL_2</th>\n",
       "      <th>TimeR_2</th>\n",
       "      <th>Chosen_3</th>\n",
       "      <th>CostL_3</th>\n",
       "      <th>CostR_3</th>\n",
       "      <th>TimeL_3</th>\n",
       "      <th>TimeR_3</th>\n",
       "      <th>Chosen_4</th>\n",
       "      <th>CostL_4</th>\n",
       "      <th>CostR_4</th>\n",
       "      <th>TimeL_4</th>\n",
       "      <th>TimeR_4</th>\n",
       "      <th>Chosen_5</th>\n",
       "      <th>CostL_5</th>\n",
       "      <th>CostR_5</th>\n",
       "      <th>TimeL_5</th>\n",
       "      <th>TimeR_5</th>\n",
       "      <th>Chosen_6</th>\n",
       "      <th>CostL_6</th>\n",
       "      <th>CostR_6</th>\n",
       "      <th>TimeL_6</th>\n",
       "      <th>TimeR_6</th>\n",
       "      <th>Chosen_7</th>\n",
       "      <th>CostL_7</th>\n",
       "      <th>CostR_7</th>\n",
       "      <th>TimeL_7</th>\n",
       "      <th>TimeR_7</th>\n",
       "      <th>Chosen_8</th>\n",
       "      <th>CostL_8</th>\n",
       "      <th>CostR_8</th>\n",
       "      <th>TimeL_8</th>\n",
       "      <th>TimeR_8</th>\n",
       "    </tr>\n",
       "    <tr>\n",
       "      <th>RespID</th>\n",
       "      <th></th>\n",
       "      <th></th>\n",
       "      <th></th>\n",
       "      <th></th>\n",
       "      <th></th>\n",
       "      <th></th>\n",
       "      <th></th>\n",
       "      <th></th>\n",
       "      <th></th>\n",
       "      <th></th>\n",
       "      <th></th>\n",
       "      <th></th>\n",
       "      <th></th>\n",
       "      <th></th>\n",
       "      <th></th>\n",
       "      <th></th>\n",
       "      <th></th>\n",
       "      <th></th>\n",
       "      <th></th>\n",
       "      <th></th>\n",
       "      <th></th>\n",
       "      <th></th>\n",
       "      <th></th>\n",
       "      <th></th>\n",
       "      <th></th>\n",
       "      <th></th>\n",
       "      <th></th>\n",
       "      <th></th>\n",
       "      <th></th>\n",
       "      <th></th>\n",
       "      <th></th>\n",
       "      <th></th>\n",
       "      <th></th>\n",
       "      <th></th>\n",
       "      <th></th>\n",
       "      <th></th>\n",
       "      <th></th>\n",
       "      <th></th>\n",
       "      <th></th>\n",
       "      <th></th>\n",
       "      <th></th>\n",
       "      <th></th>\n",
       "      <th></th>\n",
       "      <th></th>\n",
       "      <th></th>\n",
       "      <th></th>\n",
       "      <th></th>\n",
       "      <th></th>\n",
       "      <th></th>\n",
       "      <th></th>\n",
       "    </tr>\n",
       "  </thead>\n",
       "  <tbody>\n",
       "    <tr>\n",
       "      <th>289</th>\n",
       "      <td>5</td>\n",
       "      <td>6</td>\n",
       "      <td>1</td>\n",
       "      <td>3</td>\n",
       "      <td>1</td>\n",
       "      <td>1.0</td>\n",
       "      <td>31.444444</td>\n",
       "      <td>28.666667</td>\n",
       "      <td>76.0</td>\n",
       "      <td>95.0</td>\n",
       "      <td>2.0</td>\n",
       "      <td>25.333333</td>\n",
       "      <td>28.666667</td>\n",
       "      <td>95.0</td>\n",
       "      <td>78.0</td>\n",
       "      <td>1.0</td>\n",
       "      <td>28.666667</td>\n",
       "      <td>24.555556</td>\n",
       "      <td>95.0</td>\n",
       "      <td>117.0</td>\n",
       "      <td>1.0</td>\n",
       "      <td>28.666667</td>\n",
       "      <td>50.333333</td>\n",
       "      <td>108.0</td>\n",
       "      <td>95.0</td>\n",
       "      <td>1.0</td>\n",
       "      <td>23.111111</td>\n",
       "      <td>28.666667</td>\n",
       "      <td>95.0</td>\n",
       "      <td>68.0</td>\n",
       "      <td>1.0</td>\n",
       "      <td>28.666667</td>\n",
       "      <td>42.333333</td>\n",
       "      <td>95.0</td>\n",
       "      <td>74.0</td>\n",
       "      <td>1.0</td>\n",
       "      <td>14.333333</td>\n",
       "      <td>28.666667</td>\n",
       "      <td>81.0</td>\n",
       "      <td>67.0</td>\n",
       "      <td>1.0</td>\n",
       "      <td>22.444444</td>\n",
       "      <td>28.666667</td>\n",
       "      <td>108.0</td>\n",
       "      <td>95.0</td>\n",
       "      <td>1.0</td>\n",
       "      <td>28.666667</td>\n",
       "      <td>57.333333</td>\n",
       "      <td>123.0</td>\n",
       "      <td>95.0</td>\n",
       "    </tr>\n",
       "    <tr>\n",
       "      <th>432</th>\n",
       "      <td>5</td>\n",
       "      <td>6</td>\n",
       "      <td>2</td>\n",
       "      <td>4</td>\n",
       "      <td>1</td>\n",
       "      <td>2.0</td>\n",
       "      <td>38.111111</td>\n",
       "      <td>45.666667</td>\n",
       "      <td>200.0</td>\n",
       "      <td>180.0</td>\n",
       "      <td>1.0</td>\n",
       "      <td>49.000000</td>\n",
       "      <td>45.666667</td>\n",
       "      <td>180.0</td>\n",
       "      <td>198.0</td>\n",
       "      <td>1.0</td>\n",
       "      <td>45.666667</td>\n",
       "      <td>68.888889</td>\n",
       "      <td>214.0</td>\n",
       "      <td>180.0</td>\n",
       "      <td>2.0</td>\n",
       "      <td>25.111111</td>\n",
       "      <td>45.666667</td>\n",
       "      <td>231.0</td>\n",
       "      <td>180.0</td>\n",
       "      <td>2.0</td>\n",
       "      <td>22.888889</td>\n",
       "      <td>45.666667</td>\n",
       "      <td>153.0</td>\n",
       "      <td>102.0</td>\n",
       "      <td>1.0</td>\n",
       "      <td>51.000000</td>\n",
       "      <td>45.666667</td>\n",
       "      <td>149.0</td>\n",
       "      <td>180.0</td>\n",
       "      <td>2.0</td>\n",
       "      <td>22.888889</td>\n",
       "      <td>45.666667</td>\n",
       "      <td>180.0</td>\n",
       "      <td>136.0</td>\n",
       "      <td>2.0</td>\n",
       "      <td>22.888889</td>\n",
       "      <td>45.666667</td>\n",
       "      <td>180.0</td>\n",
       "      <td>142.0</td>\n",
       "      <td>2.0</td>\n",
       "      <td>91.333333</td>\n",
       "      <td>45.666667</td>\n",
       "      <td>131.0</td>\n",
       "      <td>180.0</td>\n",
       "    </tr>\n",
       "    <tr>\n",
       "      <th>590</th>\n",
       "      <td>5</td>\n",
       "      <td>8</td>\n",
       "      <td>1</td>\n",
       "      <td>3</td>\n",
       "      <td>1</td>\n",
       "      <td>2.0</td>\n",
       "      <td>29.222222</td>\n",
       "      <td>36.000000</td>\n",
       "      <td>122.0</td>\n",
       "      <td>105.0</td>\n",
       "      <td>1.0</td>\n",
       "      <td>18.000000</td>\n",
       "      <td>36.000000</td>\n",
       "      <td>122.0</td>\n",
       "      <td>105.0</td>\n",
       "      <td>1.0</td>\n",
       "      <td>38.555556</td>\n",
       "      <td>36.000000</td>\n",
       "      <td>105.0</td>\n",
       "      <td>120.0</td>\n",
       "      <td>1.0</td>\n",
       "      <td>36.000000</td>\n",
       "      <td>72.000000</td>\n",
       "      <td>105.0</td>\n",
       "      <td>80.0</td>\n",
       "      <td>1.0</td>\n",
       "      <td>18.000000</td>\n",
       "      <td>36.000000</td>\n",
       "      <td>105.0</td>\n",
       "      <td>81.0</td>\n",
       "      <td>1.0</td>\n",
       "      <td>18.000000</td>\n",
       "      <td>36.000000</td>\n",
       "      <td>105.0</td>\n",
       "      <td>74.0</td>\n",
       "      <td>2.0</td>\n",
       "      <td>36.000000</td>\n",
       "      <td>37.333333</td>\n",
       "      <td>105.0</td>\n",
       "      <td>90.0</td>\n",
       "      <td>1.0</td>\n",
       "      <td>38.555556</td>\n",
       "      <td>36.000000</td>\n",
       "      <td>121.0</td>\n",
       "      <td>136.0</td>\n",
       "      <td>1.0</td>\n",
       "      <td>43.111111</td>\n",
       "      <td>36.000000</td>\n",
       "      <td>105.0</td>\n",
       "      <td>133.0</td>\n",
       "    </tr>\n",
       "    <tr>\n",
       "      <th>731</th>\n",
       "      <td>5</td>\n",
       "      <td>3</td>\n",
       "      <td>2</td>\n",
       "      <td>3</td>\n",
       "      <td>1</td>\n",
       "      <td>2.0</td>\n",
       "      <td>100.000000</td>\n",
       "      <td>104.333333</td>\n",
       "      <td>299.0</td>\n",
       "      <td>270.0</td>\n",
       "      <td>1.0</td>\n",
       "      <td>121.666667</td>\n",
       "      <td>100.000000</td>\n",
       "      <td>204.0</td>\n",
       "      <td>270.0</td>\n",
       "      <td>1.0</td>\n",
       "      <td>116.000000</td>\n",
       "      <td>100.000000</td>\n",
       "      <td>270.0</td>\n",
       "      <td>314.0</td>\n",
       "      <td>2.0</td>\n",
       "      <td>100.000000</td>\n",
       "      <td>68.000000</td>\n",
       "      <td>185.0</td>\n",
       "      <td>230.0</td>\n",
       "      <td>2.0</td>\n",
       "      <td>100.000000</td>\n",
       "      <td>65.333333</td>\n",
       "      <td>225.0</td>\n",
       "      <td>270.0</td>\n",
       "      <td>1.0</td>\n",
       "      <td>50.000000</td>\n",
       "      <td>100.000000</td>\n",
       "      <td>331.0</td>\n",
       "      <td>270.0</td>\n",
       "      <td>1.0</td>\n",
       "      <td>100.000000</td>\n",
       "      <td>97.888889</td>\n",
       "      <td>270.0</td>\n",
       "      <td>345.0</td>\n",
       "      <td>1.0</td>\n",
       "      <td>50.555556</td>\n",
       "      <td>100.000000</td>\n",
       "      <td>270.0</td>\n",
       "      <td>201.0</td>\n",
       "      <td>1.0</td>\n",
       "      <td>100.000000</td>\n",
       "      <td>155.111111</td>\n",
       "      <td>270.0</td>\n",
       "      <td>231.0</td>\n",
       "    </tr>\n",
       "    <tr>\n",
       "      <th>761</th>\n",
       "      <td>5</td>\n",
       "      <td>7</td>\n",
       "      <td>1</td>\n",
       "      <td>5</td>\n",
       "      <td>1</td>\n",
       "      <td>1.0</td>\n",
       "      <td>23.000000</td>\n",
       "      <td>31.111111</td>\n",
       "      <td>110.0</td>\n",
       "      <td>85.0</td>\n",
       "      <td>2.0</td>\n",
       "      <td>23.000000</td>\n",
       "      <td>26.222222</td>\n",
       "      <td>129.0</td>\n",
       "      <td>110.0</td>\n",
       "      <td>1.0</td>\n",
       "      <td>16.888889</td>\n",
       "      <td>23.000000</td>\n",
       "      <td>110.0</td>\n",
       "      <td>94.0</td>\n",
       "      <td>2.0</td>\n",
       "      <td>23.000000</td>\n",
       "      <td>13.111111</td>\n",
       "      <td>110.0</td>\n",
       "      <td>122.0</td>\n",
       "      <td>1.0</td>\n",
       "      <td>11.555556</td>\n",
       "      <td>23.000000</td>\n",
       "      <td>110.0</td>\n",
       "      <td>88.0</td>\n",
       "      <td>1.0</td>\n",
       "      <td>23.000000</td>\n",
       "      <td>46.000000</td>\n",
       "      <td>141.0</td>\n",
       "      <td>110.0</td>\n",
       "      <td>1.0</td>\n",
       "      <td>26.888889</td>\n",
       "      <td>23.000000</td>\n",
       "      <td>78.0</td>\n",
       "      <td>110.0</td>\n",
       "      <td>1.0</td>\n",
       "      <td>23.000000</td>\n",
       "      <td>46.000000</td>\n",
       "      <td>145.0</td>\n",
       "      <td>126.0</td>\n",
       "      <td>2.0</td>\n",
       "      <td>23.000000</td>\n",
       "      <td>11.555556</td>\n",
       "      <td>110.0</td>\n",
       "      <td>128.0</td>\n",
       "    </tr>\n",
       "  </tbody>\n",
       "</table>\n",
       "</div>"
      ],
      "text/plain": [
       "        Purpose  IncClass  Gender  AgeClass  Mode  Chosen_0     CostL_0  \\\n",
       "RespID                                                                    \n",
       "289           5         6       1         3     1       1.0   31.444444   \n",
       "432           5         6       2         4     1       2.0   38.111111   \n",
       "590           5         8       1         3     1       2.0   29.222222   \n",
       "731           5         3       2         3     1       2.0  100.000000   \n",
       "761           5         7       1         5     1       1.0   23.000000   \n",
       "\n",
       "           CostR_0  TimeL_0  TimeR_0  Chosen_1     CostL_1     CostR_1  \\\n",
       "RespID                                                                   \n",
       "289      28.666667     76.0     95.0       2.0   25.333333   28.666667   \n",
       "432      45.666667    200.0    180.0       1.0   49.000000   45.666667   \n",
       "590      36.000000    122.0    105.0       1.0   18.000000   36.000000   \n",
       "731     104.333333    299.0    270.0       1.0  121.666667  100.000000   \n",
       "761      31.111111    110.0     85.0       2.0   23.000000   26.222222   \n",
       "\n",
       "        TimeL_1  TimeR_1  Chosen_2     CostL_2     CostR_2  TimeL_2  TimeR_2  \\\n",
       "RespID                                                                         \n",
       "289        95.0     78.0       1.0   28.666667   24.555556     95.0    117.0   \n",
       "432       180.0    198.0       1.0   45.666667   68.888889    214.0    180.0   \n",
       "590       122.0    105.0       1.0   38.555556   36.000000    105.0    120.0   \n",
       "731       204.0    270.0       1.0  116.000000  100.000000    270.0    314.0   \n",
       "761       129.0    110.0       1.0   16.888889   23.000000    110.0     94.0   \n",
       "\n",
       "        Chosen_3     CostL_3    CostR_3  TimeL_3  TimeR_3  Chosen_4  \\\n",
       "RespID                                                                \n",
       "289          1.0   28.666667  50.333333    108.0     95.0       1.0   \n",
       "432          2.0   25.111111  45.666667    231.0    180.0       2.0   \n",
       "590          1.0   36.000000  72.000000    105.0     80.0       1.0   \n",
       "731          2.0  100.000000  68.000000    185.0    230.0       2.0   \n",
       "761          2.0   23.000000  13.111111    110.0    122.0       1.0   \n",
       "\n",
       "           CostL_4    CostR_4  TimeL_4  TimeR_4  Chosen_5    CostL_5  \\\n",
       "RespID                                                                 \n",
       "289      23.111111  28.666667     95.0     68.0       1.0  28.666667   \n",
       "432      22.888889  45.666667    153.0    102.0       1.0  51.000000   \n",
       "590      18.000000  36.000000    105.0     81.0       1.0  18.000000   \n",
       "731     100.000000  65.333333    225.0    270.0       1.0  50.000000   \n",
       "761      11.555556  23.000000    110.0     88.0       1.0  23.000000   \n",
       "\n",
       "           CostR_5  TimeL_5  TimeR_5  Chosen_6     CostL_6    CostR_6  \\\n",
       "RespID                                                                  \n",
       "289      42.333333     95.0     74.0       1.0   14.333333  28.666667   \n",
       "432      45.666667    149.0    180.0       2.0   22.888889  45.666667   \n",
       "590      36.000000    105.0     74.0       2.0   36.000000  37.333333   \n",
       "731     100.000000    331.0    270.0       1.0  100.000000  97.888889   \n",
       "761      46.000000    141.0    110.0       1.0   26.888889  23.000000   \n",
       "\n",
       "        TimeL_6  TimeR_6  Chosen_7    CostL_7     CostR_7  TimeL_7  TimeR_7  \\\n",
       "RespID                                                                        \n",
       "289        81.0     67.0       1.0  22.444444   28.666667    108.0     95.0   \n",
       "432       180.0    136.0       2.0  22.888889   45.666667    180.0    142.0   \n",
       "590       105.0     90.0       1.0  38.555556   36.000000    121.0    136.0   \n",
       "731       270.0    345.0       1.0  50.555556  100.000000    270.0    201.0   \n",
       "761        78.0    110.0       1.0  23.000000   46.000000    145.0    126.0   \n",
       "\n",
       "        Chosen_8     CostL_8     CostR_8  TimeL_8  TimeR_8  \n",
       "RespID                                                      \n",
       "289          1.0   28.666667   57.333333    123.0     95.0  \n",
       "432          2.0   91.333333   45.666667    131.0    180.0  \n",
       "590          1.0   43.111111   36.000000    105.0    133.0  \n",
       "731          1.0  100.000000  155.111111    270.0    231.0  \n",
       "761          2.0   23.000000   11.555556    110.0    128.0  "
      ]
     },
     "execution_count": 23,
     "metadata": {},
     "output_type": "execute_result"
    }
   ],
   "source": [
    "# Tell Biogeme which variable is the identifier of the individuals\n",
    "biodata.panel('RespID')\n",
    "\n",
    "# Calculate the number of observations per individual\n",
    "obs_per_ind = biodata.data['RespID'].value_counts().unique()[0]\n",
    "print(f'Number of observations per individual: {obs_per_ind}')\n",
    "\n",
    "# Use biogeme's \"generateFlatPanelDataFrame to create a wide database in which each row corresponds to one individual\n",
    "df_wide = biodata.generateFlatPanelDataframe(identical_columns=None)\n",
    "\n",
    "# Rename the columns, such that they run from columnname_{0} to columnname_{n} \n",
    "renumbered_columns = {col: f'{col.split(\"_\")[1]}_{int(col.split(\"_\")[0])-1}' if len(col.split(\"_\")) == 2 else col for col in df_wide.columns}\n",
    "\n",
    "# Rename the columns using the dictionary\n",
    "df_wide.rename(columns=renumbered_columns, inplace=True)\n",
    "\n",
    "# Create Biogeme database object\n",
    "biodata_wide = db.Database('Norway2009VTT_wide', df_wide)\n",
    "biodata_wide.data.head()"
   ]
  },
  {
   "cell_type": "markdown",
   "metadata": {},
   "source": [
    "### `5.2. Panel ML model with normally distributed VTT`"
   ]
  },
  {
   "cell_type": "code",
   "execution_count": 24,
   "metadata": {},
   "outputs": [],
   "source": [
    "# Give the model a name\n",
    "model_name = 'Panel ML WTP space with normally distributed vtt'\n",
    "\n",
    "# Parameters definition enabling the construction of random parameters\n",
    "vtt       = Beta('vtt',       0.4, None, None, 0)\n",
    "B_tc      = Beta('b_tc',     -0.4, None, None, 0)    \n",
    "sigma_vtt = Beta('sigma_vtt ',  2, None, None, 0)\n",
    "\n",
    "# Construction of random parameters   \n",
    "vtt_rnd = vtt + sigma_vtt * bioDraws('vtt_rnd', 'NORMAL_HALTON2')\n",
    "\n",
    "# Definition of the utility functions\n",
    "# Note that we use list comprehension to create a list of utility functions for all observations of an individual \n",
    "V_L = [B_tc * (Variable(f'CostL_{q}') + vtt_rnd * Variable(f'TimeL_{q}')) for q in range(obs_per_ind)]\n",
    "V_R = [B_tc * (Variable(f'CostR_{q}') + vtt_rnd * Variable(f'TimeR_{q}')) for q in range(obs_per_ind)]\n",
    "\n",
    "# Create a dictionary to list the utility functions with the numbering of alternatives\n",
    "# Note that we use list comprehension to create a list of dictionaries\n",
    "V = [{1: V_L[q], 2: V_R[q]} for q in range(obs_per_ind)]\n",
    "           \n",
    "# Create a dictionary to describe the availability conditions of each alternative\n",
    "av = {1:1, 2:1}"
   ]
  },
  {
   "cell_type": "code",
   "execution_count": 25,
   "metadata": {},
   "outputs": [
    {
     "name": "stderr",
     "output_type": "stream",
     "text": [
      "File biogeme.toml has been parsed. \n",
      "Optimization algorithm: hybrid Newton/BFGS with simple bounds [simple_bounds] \n",
      "** Optimization: Newton with trust region for simple bounds \n",
      "Iter.            b_tc      sigma_vtt              vtt     Function    Relgrad   Radius      Rho      \n",
      "    0            -0.4               2             0.4      7.2e+03       0.68        5  -9e+302    - \n",
      "    1            -0.4               2             0.4      7.2e+03       0.68      2.5 -3.3e+303    - \n",
      "    2            -0.4               2             0.4      7.2e+03       0.68      1.2 -1.1e+304    - \n",
      "    3            -0.4               2             0.4      7.2e+03       0.68     0.62     -7.2    - \n",
      "    4            -0.4               2             0.4      7.2e+03       0.68     0.31     -4.9    - \n",
      "    5          -0.088             1.7           0.088      6.1e+03       0.23     0.31     0.65    + \n",
      "    6           -0.12             1.4            0.11      5.9e+03       0.12      3.1        1   ++ \n",
      "    7           -0.12             1.4            0.11      5.9e+03       0.12      1.6   -0.065    - \n",
      "    8           -0.13           -0.19             0.2      5.5e+03       0.43      1.6     0.32    + \n",
      "    9            -0.2           -0.29             0.3      5.2e+03      0.049       16     0.99   ++ \n",
      "   10           -0.19           -0.31            0.31      5.2e+03     0.0058  1.6e+02      1.1   ++ \n",
      "   11           -0.19           -0.31            0.31      5.2e+03    0.00014  1.6e+03        1   ++ \n",
      "   12           -0.19           -0.31            0.31      5.2e+03    8.3e-08  1.6e+03        1   ++ \n"
     ]
    },
    {
     "name": "stdout",
     "output_type": "stream",
     "text": [
      "Results for model Panel ML WTP space with normally distributed vtt\n",
      "Nbr of parameters:\t\t3\n",
      "Sample size:\t\t\t1214\n",
      "Excluded data:\t\t\t0\n",
      "Null log likelihood:\t\t-7573.326\n",
      "Final log likelihood:\t\t-5154.601\n",
      "Likelihood ratio test (null):\t\t4837.45\n",
      "Rho square (null):\t\t\t0.319\n",
      "Rho bar square (null):\t\t\t0.319\n",
      "Akaike Information Criterion:\t10315.2\n",
      "Bayesian Information Criterion:\t10330.51\n",
      "\n",
      "               Value  Rob. Std err  Rob. t-test  Rob. p-value\n",
      "b_tc       -0.188612      0.008732   -21.599474           0.0\n",
      "sigma_vtt  -0.314775      0.014186   -22.188725           0.0\n",
      "vtt         0.311869      0.009974    31.267721           0.0\n"
     ]
    }
   ],
   "source": [
    "# The conditional probability of the chosen alternative is a logit\n",
    "condProb = [models.loglogit(V[q], av, Variable(f'Chosen_{q}')) for q in range(obs_per_ind)] \n",
    "\n",
    "# Take the product of the conditional probabilities\n",
    "condprobIndiv = exp(bioMultSum(condProb))   # exp to convert from logP to P again\n",
    "\n",
    "# The unconditional probability is obtained by simulation\n",
    "uncondProb = MonteCarlo(condprobIndiv)\n",
    "\n",
    "# The Log-likelihood is the log of the unconditional probability\n",
    "LL = log(uncondProb)\n",
    "\n",
    "# Create the Biogeme estimation object containing the data and the model\n",
    "biogeme = bio.BIOGEME(biodata_wide , LL)\n",
    "\n",
    "# Set reporting levels\n",
    "biogeme.generate_pickle = False\n",
    "biogeme.generate_html = False\n",
    "biogeme.saveIterations = False\n",
    "biogeme.modelName = model_name\n",
    "                                \n",
    "# Compute the null loglikelihood for reporting\n",
    "# Note that we need to compute it manually, as biogeme does not do this for panel data\n",
    "biogeme.nullLogLike = len(biodata_wide.data)*np.log(1/2)*obs_per_ind\n",
    "\n",
    "# Estimate the parameters and print the results\n",
    "results = biogeme.estimate()\n",
    "print(results.short_summary())\n",
    "\n",
    "# Get the results in a pandas table\n",
    "beta_hat = results.getEstimatedParameters()\n",
    "print(beta_hat)"
   ]
  },
  {
   "cell_type": "code",
   "execution_count": 26,
   "metadata": {},
   "outputs": [
    {
     "name": "stdout",
     "output_type": "stream",
     "text": [
      "Value of travel time Panel ML model in WTP space:  €18.71 per hour\n"
     ]
    }
   ],
   "source": [
    "# Compute the value of travel time\n",
    "VTT_WTP_ML_PANEL_normal = 60 * beta_hat.loc['vtt']['Value']\n",
    "print(f'Value of travel time Panel ML model in WTP space:  €{VTT_WTP_ML_PANEL_normal:.2f} per hour')"
   ]
  },
  {
   "cell_type": "markdown",
   "metadata": {},
   "source": [
    "## `Exercise 2: Panel ML with log-normally distributed VTT`"
   ]
  },
  {
   "cell_type": "markdown",
   "metadata": {},
   "source": [
    "Now, **you** will estimate a ML model under the assumption that the VTT is log-normally distributed, while accounting for panel effects.<br>\n",
    "\n",
    "To do so, copy the code from the Panel ML model in WTP space with normally distributed VTT, and create the log-normally distributed random parameter (as you have done in exercise 1).<br>  \n",
    "Estimate this model and interpret the results.<br>\n",
    "\n",
    "`Questions:`\n",
    "\n",
    "`A` Compare the log-likelihood of the ML models with the log-normally distributed VTTs, which do and do not account for the panel effect. Which model fits better?<br>\n",
    "\n",
    "`B` Compute the mean of the VTT for the Panel ML model with the log-normally distributed VTT and compare it with the non-panel model. Has it changed?<br>\n",
    "\n",
    "`C`  i. Print the recovered mean VTTs of the models we have estimated below each other.<br>\n",
    "* MNL model<br>\n",
    "* ML model with Normal distribution in utility space<br>\n",
    "* ML model with Normal distribution in wtp space<br>\n",
    "* ML model with Log-normal in wtp space<br>\n",
    "* Panel ML with Normal distribution in wtp space<br>\n",
    "* Panel ML with Log-normal distribution in wtp space<br>                     \n",
    "\n",
    "ii. Compare the VTTs of the models with a normal distribution and a log-normal distribution. Do you see a pattern? <br>\n",
    "\n",
    "iii. What could explain this pattern?<br> "
   ]
  },
  {
   "cell_type": "code",
   "execution_count": 27,
   "metadata": {},
   "outputs": [],
   "source": [
    "## Your code here"
   ]
  },
  {
   "cell_type": "markdown",
   "metadata": {},
   "source": [
    "#### `Answers`"
   ]
  },
  {
   "cell_type": "code",
   "execution_count": 28,
   "metadata": {},
   "outputs": [],
   "source": [
    "# Give the model a name\n",
    "model_name = 'Panel ML WTP space with log-normally distributed vtt'\n",
    "\n",
    "# Parameters definition enabling the construction of random parameters\n",
    "mu          = Beta('mu',       0.4, None, None, 0)\n",
    "B_tc        = Beta('b_tc',    -0.4, None, None, 0)    \n",
    "sigma       = Beta('sigma',      2, None, None, 0)\n",
    "\n",
    "# Construction of random parameters   \n",
    "vtt_rnd = exp(mu + sigma * bioDraws('vtt_rnd', 'NORMAL_HALTON2'))\n",
    "\n",
    "# Definition of the utility functions \n",
    "V_L = [B_tc * (Variable(f'CostL_{q}') + vtt_rnd * Variable(f'TimeL_{q}')) for q in range(9)]\n",
    "V_R = [B_tc * (Variable(f'CostR_{q}') + vtt_rnd * Variable(f'TimeR_{q}')) for q in range(9)]\n",
    "\n",
    "# Create a dictionary to list the utility functions with the numbering of alternatives\n",
    "V = [{1: V_L[q], 2: V_R[q]} for q in range(9)]\n",
    "           \n",
    "# Create a dictionary to describe the availability conditions of each alternative\n",
    "av = {1:1, 2:1}"
   ]
  },
  {
   "cell_type": "code",
   "execution_count": 29,
   "metadata": {},
   "outputs": [
    {
     "name": "stderr",
     "output_type": "stream",
     "text": [
      "File biogeme.toml has been parsed. \n"
     ]
    },
    {
     "name": "stderr",
     "output_type": "stream",
     "text": [
      "Optimization algorithm: hybrid Newton/BFGS with simple bounds [simple_bounds] \n",
      "** Optimization: Newton with trust region for simple bounds \n",
      "Iter.            b_tc              mu           sigma     Function    Relgrad   Radius      Rho      \n",
      "    0           -0.15            -8.6              -8        6e+03       0.47       10     0.12    + \n",
      "    1           -0.15            -8.6              -8        6e+03       0.47        5   0.0014    - \n",
      "    2           -0.15            -8.6              -8        6e+03       0.47      2.5  -0.0025    - \n",
      "    3           -0.15            -8.6              -8        6e+03       0.47      1.2    0.041    - \n",
      "    4           -0.15            -8.6              -8        6e+03       0.47     0.62    0.097    - \n",
      "    5          -0.094            -8.1            -7.4      5.9e+03       0.29     0.62     0.23    + \n",
      "    6           -0.11            -7.5            -7.5      5.9e+03      0.063      6.2      1.4   ++ \n",
      "    7           -0.11            -7.5            -7.5      5.9e+03      0.063      3.1    -0.21    - \n",
      "    8           -0.13            -5.6            -4.3      5.7e+03      0.061      3.1     0.19    + \n",
      "    9           -0.13            -5.6            -4.3      5.7e+03      0.061      1.6    -0.47    - \n",
      "   10           -0.14            -4.7            -2.8      5.7e+03       0.14      1.6     0.36    + \n",
      "   11           -0.15            -3.2              -3      5.5e+03      0.039      1.6     0.77    + \n",
      "   12           -0.17            -2.1            -1.4      5.2e+03      0.072       16      1.1   ++ \n",
      "   13           -0.17            -2.1            -1.4      5.2e+03      0.072      7.8 -4.9e+304    - \n",
      "   14           -0.17            -2.1            -1.4      5.2e+03      0.072      3.9     -2.2    - \n",
      "   15           -0.17            -2.1            -1.4      5.2e+03      0.072        2      -19    - \n",
      "   16           -0.17            -2.1            -1.4      5.2e+03      0.072     0.98      -10    - \n",
      "   17            -0.2            -1.1           -0.94      5.2e+03      0.057     0.98     0.32    + \n",
      "   18            -0.2            -1.1           -0.94      5.2e+03      0.057     0.23     -2.6    - \n",
      "   19           -0.19            -1.3           -0.84      5.1e+03      0.092      2.3     0.92   ++ \n",
      "   20            -0.2            -1.4           -0.82      5.1e+03     0.0044       23     0.97   ++ \n",
      "   21            -0.2            -1.4           -0.83      5.1e+03    0.00012  2.3e+02        1   ++ \n",
      "   22            -0.2            -1.4           -0.83      5.1e+03    2.6e-07  2.3e+02        1   ++ \n"
     ]
    },
    {
     "name": "stdout",
     "output_type": "stream",
     "text": [
      "Results for model Panel ML WTP space with log-normally distributed vtt\n",
      "Nbr of parameters:\t\t3\n",
      "Sample size:\t\t\t1214\n",
      "Excluded data:\t\t\t0\n",
      "Null log likelihood:\t\t-7573.326\n",
      "Final log likelihood:\t\t-5118.549\n",
      "Likelihood ratio test (null):\t\t4909.554\n",
      "Rho square (null):\t\t\t0.324\n",
      "Rho bar square (null):\t\t\t0.324\n",
      "Akaike Information Criterion:\t10243.1\n",
      "Bayesian Information Criterion:\t10258.4\n",
      "\n",
      "          Value  Rob. Std err  Rob. t-test  Rob. p-value\n",
      "b_tc  -0.197797      0.009283   -21.306517           0.0\n",
      "mu    -1.377395      0.033395   -41.245238           0.0\n",
      "sigma -0.833080      0.031623   -26.344189           0.0\n"
     ]
    }
   ],
   "source": [
    "# The conditional probability of the chosen alternative is a logit\n",
    "condProb = [models.loglogit(V[q], av, Variable(f'Chosen_{q}')) for q in range(9)] \n",
    "\n",
    "# Take the product of the conditional probabilities\n",
    "condprobIndiv = exp(bioMultSum(condProb))   # exp to convert from logP to P again\n",
    "\n",
    "# The unconditional probability is obtained by simulation\n",
    "uncondProb = MonteCarlo(condprobIndiv)\n",
    "\n",
    "# The Log-likelihood is the log of the unconditional probability\n",
    "LL = log(uncondProb)\n",
    "\n",
    "# Create the Biogeme estimation object containing the data and the model\n",
    "biogeme = bio.BIOGEME(biodata_wide , LL)\n",
    "\n",
    "# Set reporting levels\n",
    "biogeme.generate_pickle = False\n",
    "biogeme.generate_html = False\n",
    "biogeme.saveIterations = False\n",
    "biogeme.modelName = model_name\n",
    "                                \n",
    "# Compute the null loglikelihood for reporting\n",
    "biogeme.nullLogLike = len(biodata_wide.data)*np.log(1/2)*9\n",
    "\n",
    "# Estimate the parameters\n",
    "results = biogeme.estimate()\n",
    "print(results.short_summary())\n",
    "\n",
    "# Get the results in a pandas table\n",
    "beta_hat = results.getEstimatedParameters()\n",
    "print(beta_hat)"
   ]
  },
  {
   "cell_type": "code",
   "execution_count": 30,
   "metadata": {},
   "outputs": [
    {
     "name": "stdout",
     "output_type": "stream",
     "text": [
      "The mean of the log-normal VTT distribution is: €21.41 per hour\n"
     ]
    }
   ],
   "source": [
    "mu = beta_hat.loc['mu']['Value']\n",
    "sigma = beta_hat.loc['sigma']['Value'] \n",
    "mean_lognormal_panel = np.exp(mu + np.square(sigma)/2) * 60\n",
    "print(f'The mean of the log-normal VTT distribution is: €{mean_lognormal_panel:.2f} per hour')"
   ]
  },
  {
   "cell_type": "markdown",
   "metadata": {},
   "source": [
    "1. Compare the log-likelihood of the ML model in WTP space with the log-normal distribution taking into account random taste parameters and panel effects. Which model fits better?<br>\n",
    "\n",
    "        --> The ML accounting panel effects fits better, as it has a higher log-likelihood (-5117.58 vs -5150.105)\n",
    "\n",
    "\n",
    "2. Compute the mean of the log-normal dsitribution based on your estimated $\\mu$ and $\\sigma$ and compare it with the non-panel model. Has it changed?. <br>\n",
    "\n",
    "        --> The mean of the log-normal VTT distribution for the panel model is: ~€21 per hour, while the mean of the log-normal VTT distribution for the non-panel model is above €25 per hour. Hence, the estimated VTT is considerably affected (lowered) by accounting for the panel structure of the data."
   ]
  },
  {
   "cell_type": "markdown",
   "metadata": {},
   "source": [
    "3. a. Print the recovered mean VTTs of the models that we have estimated below each other"
   ]
  },
  {
   "cell_type": "code",
   "execution_count": 31,
   "metadata": {},
   "outputs": [
    {
     "name": "stdout",
     "output_type": "stream",
     "text": [
      "1 MNL model:\t\t\t\t\t\t\t€18.96 per hour\n",
      "2 ML model with Normal distribution - util space: \t\t€18.39 per hour\n",
      "3 ML model with Normal distribution - wtp space: \t\t€18.45 per hour\n",
      "4 ML model with Log-normal - wtp space: \t\t\t€26.60 per hour\n",
      "5 Panel ML with Normal distribution - wtp space: \t\t€18.71 per hour\n",
      "6 Panel ML with Log-normal distribution - wtp space: \t\t€21.41 per hour\n"
     ]
    }
   ],
   "source": [
    "print(f'1 MNL model:\\t\\t\\t\\t\\t\\t\\t€{VTT_MNL:.2f} per hour')\n",
    "print(f'2 ML model with Normal distribution - util space: \\t\\t€{VTT_ML:.2f} per hour')\n",
    "print(f'3 ML model with Normal distribution - wtp space: \\t\\t€{VTT_WTP_ML:.2f} per hour')\n",
    "print(f'4 ML model with Log-normal - wtp space: \\t\\t\\t€{mean_lognormal:.2f} per hour')\n",
    "print(f'5 Panel ML with Normal distribution - wtp space: \\t\\t€{VTT_WTP_ML_PANEL_normal:.2f} per hour')\n",
    "print(f'6 Panel ML with Log-normal distribution - wtp space: \\t\\t€{mean_lognormal_panel:.2f} per hour')"
   ]
  },
  {
   "cell_type": "markdown",
   "metadata": {},
   "source": [
    "3. b. Compare the VTTs of the models with a normal distribution and a log-normal distribution. Do you see a pattern? <br>\n",
    "\n",
    "        --> The models with the assumption that the VTT is log-normally distributed tend to yield a higher estimate of the mean VTT.\n",
    "\n",
    "   c. What could explain this pattern?\n",
    "\n",
    "        --> This is caused by the fat tail of the log-normal distribution. It shifts the mean to the right (higher). "
   ]
  },
  {
   "cell_type": "markdown",
   "metadata": {},
   "source": [
    "### `5.4. Impact of the number of draws on modelling outcomes`"
   ]
  },
  {
   "cell_type": "markdown",
   "metadata": {},
   "source": [
    "## `Exercise 3: Impact of the number of draws` "
   ]
  },
  {
   "cell_type": "markdown",
   "metadata": {},
   "source": [
    "For all the Mixed Logit models that we have estimated, we have used 50 draws (see the beginning of this notebook). We choose a relatively low number of draws to avoid long estimation times.  <br>\n",
    "\n",
    "Next, we analyse how sensitive the modelling outcomes are towards the number of draws. To do this, we have estimated a Panel Mixed Logit model using different numbers of draws, ranging from 33 to 2,000, and stored the results. <br>\n",
    "\n",
    "The following plots show the results. \n",
    "\n",
    "![Draws](data/draws_vs_.png)"
   ]
  },
  {
   "cell_type": "markdown",
   "metadata": {},
   "source": [
    "`Questions:`\n",
    "\n",
    "`A` The left-hand side plot shows that the VTT estimate gets more stable with an increasing number of draws. Can you explain why the estimate gets more stable? \n",
    "\n",
    "`B` What number of draws do you deem sufficient for estimating this model? Explain your answer.\n",
    "\n",
    "`C` The right-hand side plot shows a linear relation between the number of draws and the estimation time. Explain why a linear relation was to be expected.\n",
    "\n",
    "`D` Suppose we estimate a model with *K* random parameters. Would the relation between the number of draws and estimation time still be linear? Explain your answer. \n",
    "\n",
    "<br>"
   ]
  },
  {
   "cell_type": "markdown",
   "metadata": {},
   "source": [
    "#### `Answers`"
   ]
  },
  {
   "cell_type": "markdown",
   "metadata": {},
   "source": [
    "1. ... Can you explain why the estimate gets more stable?<br>\n",
    "\n",
    "        --> The approximation of the integral gets more and more accurate with increasing number of draws. This stabilises the estimates.\n",
    "2. What number of draws is sufficient? Explain your answer\n",
    "\n",
    "        --> Above 500 draws, the results are stable. But the variance keeps reducing with more draws.\n",
    "\n",
    "3. ... Explain why a linear relation was to be expected.\n",
    "\n",
    "        --> The number of computations is one-to-one related to the number of draws. And, the number of draws does not systematically seem to affect the number of iterations the optimiser needs to converge. Therefore, we see a linear relationship between the number of draws and estimation time.\n",
    "\n",
    "4. ... Would the relation between the number of draws and estimation time still be linear? \n",
    "\n",
    "        --> The estimation time will linearly scale with the number of random parameters, as the number of computations is one-to-one related to the number of random parameters. \n"
   ]
  },
  {
   "cell_type": "markdown",
   "metadata": {},
   "source": [
    "## END"
   ]
  },
  {
   "cell_type": "code",
   "execution_count": null,
   "metadata": {},
   "outputs": [],
   "source": [
    "# Below is the code to create the plot \n",
    "\n",
    "# Create a dataframe to store the results\n",
    "df_out = pd.DataFrame(columns=['num_draws','VTT', 'LL','elapsed_time'])\n",
    "\n",
    "# Define the number of draws to be used for Monte-Carlo simulation\n",
    "num_draws = list(range(33, 201, 33))\n",
    "\n",
    "# Loop over the number of draws\n",
    "for R in num_draws:\n",
    "    \n",
    "    # Start the timer\n",
    "    start_time = time.time()\n",
    "\n",
    "    # Give the model a name\n",
    "    model_name = f'Panel ML WTP space with log-normally distributed vtt with {R} draws'\n",
    "\n",
    "    # Change the number of draws in the .toml file\n",
    "    with open('biogeme.toml', 'r') as file:\n",
    "        data = toml.load(file)\n",
    "\n",
    "    # Modify the value\n",
    "    data['MonteCarlo']['number_of_draws'] = R\n",
    "\n",
    "    # Write the modified data back to the .toml file\n",
    "    with open('biogeme.toml', 'w') as file:\n",
    "        toml.dump(data, file)\n",
    "\n",
    "    # Parameters definition enabling the construction of random parameters\n",
    "    vtt         = Beta('vtt',       0.4, None, None, 0)\n",
    "    B_tc        = Beta('b_tc',     -0.4, None, None, 0)    \n",
    "    sigma_vtt   = Beta('sigma_vtt',   2, None, None, 0)\n",
    "\n",
    "    # Construction of random parameters   \n",
    "    vtt_rnd = exp(vtt + sigma_vtt * bioDraws('vtt_rnd', 'NORMAL_HALTON2'))\n",
    "\n",
    "    # Definition of the utility functions \n",
    "    V_L = [B_tc * (Variable(f'CostL_{q}') + vtt_rnd * Variable(f'TimeL_{q}')) for q in range(9)]\n",
    "    V_R = [B_tc * (Variable(f'CostR_{q}') + vtt_rnd * Variable(f'TimeR_{q}')) for q in range(9)]\n",
    "\n",
    "    # Create a dictionary to list the utility functions with the numbering of alternatives\n",
    "    V = [{1: V_L[q], 2: V_R[q]} for q in range(9)]\n",
    "            \n",
    "    # Create a dictionary to describe the availability conditions of each alternative\n",
    "    av = {1:1, 2:1}\n",
    "\n",
    "    # The conditional probability of the chosen alternative is a logit\n",
    "    condProb = [models.loglogit(V[q], av, Variable(f'Chosen_{q}')) for q in range(9)] \n",
    "\n",
    "    # Take the product of the conditional probabilities\n",
    "    condprobIndiv = exp(bioMultSum(condProb))   # exp to convert from logP to P again\n",
    "\n",
    "    # The unconditional probability is obtained by simulation\n",
    "    uncondProb = MonteCarlo(condprobIndiv)\n",
    "\n",
    "    # The Log-likelihood is the log of the unconditional probability\n",
    "    LL = log(uncondProb)\n",
    "\n",
    "    # Create the Biogeme estimation object containing the data and the model\n",
    "    biogeme = bio.BIOGEME(biodata_wide , LL)\n",
    "    \n",
    "    # Set reporting levels\n",
    "    biogeme.generate_pickle = False\n",
    "    biogeme.generate_html = False\n",
    "    biogeme.saveIterations = False\n",
    "    biogeme.modelName = model_name\n",
    "                                    \n",
    "    # Compute the null loglikelihood for reporting\n",
    "    biogeme.nullLogLike = len(biodata_wide.data)*np.log(1/2)*9\n",
    "\n",
    "    # Estimate the parameters\n",
    "    results = biogeme.estimate()\n",
    "    # print(results.short_summary())\n",
    "\n",
    "    # Get the results in a pandas table\n",
    "    beta_hat = results.getEstimatedParameters()\n",
    "    # print(beta_hat)\n",
    "\n",
    "    # End the timer\n",
    "    end_time = time.time()\n",
    "    elapsed_time = end_time - start_time\n",
    "    print(f'Elapsed time: {elapsed_time:.2f} seconds\\n\\n')\n",
    "\n",
    "    # Compute the mean value of travel time\n",
    "    mu = beta_hat.loc['vtt']['Value']\n",
    "    sigma = beta_hat.loc['sigma_vtt']['Value'] \n",
    "    mean_lognormal_panel = np.exp(mu + np.square(sigma)/2) * 60\n",
    "    \n",
    "    # Add the results to the dataframe\n",
    "    df_R = pd.DataFrame({'num_draws': [R], 'VTT': [mean_lognormal_panel], 'LL': [results.getGeneralStatistics()['Final log likelihood'][0]], 'elapsed_time': [elapsed_time]})\n",
    "    df_out = pd.concat([df_out, df_R])\n",
    "\n",
    "# Show the results\n",
    "df_out"
   ]
  },
  {
   "cell_type": "code",
   "execution_count": null,
   "metadata": {},
   "outputs": [
    {
     "data": {
      "image/png": "[encoded data removed]",
      "text/plain": [
       "<Figure size 1500x500 with 3 Axes>"
      ]
     },
     "metadata": {},
     "output_type": "display_data"
    }
   ],
   "source": [
    "# Plot the results in a figure\n",
    "fig, ax = plt.subplots(1,3, figsize=(15,5), sharex=True)\n",
    "fig.tight_layout(w_pad=3)\n",
    "\n",
    "ax[0].plot(df_out['num_draws'], df_out['VTT'], marker='.')\n",
    "ax[0].set_xlabel('Number of draws')\n",
    "ax[0].set_ylabel('VTT [euro/hour]')\n",
    "ax[0].set_title('VTT')\n",
    "\n",
    "ax[1].plot(df_out['num_draws'], df_out['LL'], marker='.')\n",
    "ax[1].set_xlabel('Number of draws')\n",
    "ax[1].set_ylabel('Log-likelihood')\n",
    "ax[1].set_title('Log-likelihood')\n",
    "\n",
    "ax[2].plot(df_out['num_draws'], df_out['elapsed_time'], marker='.')\n",
    "ax[2].set_xlabel('Number of draws')\n",
    "ax[2].set_ylabel('Elapsed time [s]')\n",
    "ax[2].set_title('Elapsed time')\n",
    "\n",
    "plt.show()"
   ]
  }
 ],
 "metadata": {
  "kernelspec": {
   "display_name": "env_biogeme",
   "language": "python",
   "name": "python3"
  },
  "language_info": {
   "codemirror_mode": {
    "name": "ipython",
    "version": 3
   },
   "file_extension": ".py",
   "mimetype": "text/x-python",
   "name": "python",
   "nbconvert_exporter": "python",
   "pygments_lexer": "ipython3",
   "version": "3.10.13"
  },
  "orig_nbformat": 4
 },
 "nbformat": 4,
 "nbformat_minor": 2
}
