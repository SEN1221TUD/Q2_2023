{
 "cells": [
  {
   "cell_type": "markdown",
   "metadata": {},
   "source": [
    "# SEN1221 Statistical Analysis of Choice Behaviour \n",
    "\n",
    "## `Session Lab 03:`\n",
    "## `Combining machine learning and discrete choice models`\n",
    "\n",
    "**Delft University of Technology**<br>\n",
    "**Q2 2023**<br>\n",
    "**Instructor:** Sander van Cranenburgh<br>\n",
    "**TA:**  Gabriel Nova <br>"
   ]
  },
  {
   "cell_type": "markdown",
   "metadata": {},
   "source": [
    "### `Instructions`\n",
    "\n",
    "**Lab sessions aim to:**<br>\n",
    "* Show and reinforce how models and ideas presented in class are put to practice.<br>\n",
    "* Help you gather hands-on machine learning skills.<br>\n",
    "\n",
    "**Lab sessions are:**<br>\n",
    "* Learning environments where you work with Jupyter notebooks and where you can get support from TAs and fellow students.<br> \n",
    "* Not graded and do not have to be submitted. "
   ]
  },
  {
   "cell_type": "markdown",
   "metadata": {},
   "source": [
    "### `Use of AI tools`\n",
    "AI tools, such as ChatGPT and Co-pilot, are great tools to assist with programming. Moreover, in your later careers you will work in a world where such tools are widely available. As such, we **encourage** you to use AI tools **effectively**. However, be careful not to overestimate the capacity of AI tools! AI tools cannot replace you: you still have to conceptualise the problem, dissect it and structure it, to conduct proper analysis. We recommend being especially **reticent** with using AI tools for the more conceptual and reflective oriented questions. <br>\n",
    "Futhermore, **be aware** that during the `partial exam`, you will not have acces to these tools (since internet access will be restricted)."
   ]
  },
  {
   "cell_type": "markdown",
   "metadata": {},
   "source": [
    "### `Workspace set-up`\n",
    "**Option 1: Google Colab**<br>\n",
    "Uncomment the following cell if you are running this notebook on Colab"
   ]
  },
  {
   "cell_type": "code",
   "execution_count": null,
   "metadata": {},
   "outputs": [],
   "source": [
    "#!pip install -r requirements.txt"
   ]
  },
  {
   "cell_type": "markdown",
   "metadata": {},
   "source": [
    "**Option 2: Local environment**<br>\n",
    "Uncomment the following cell if you are running this notebook on your local environment, to install all dependencies on your Python version."
   ]
  },
  {
   "cell_type": "code",
   "execution_count": 1,
   "metadata": {},
   "outputs": [],
   "source": [
    "#!git clone https://github.com/SEN1221TUD/Q2_2023\n",
    "#!mv \"/content/Q2_2023/Lab sessions/lab_session_3/data\" /content/data\n",
    "\n",
    "#!pip install biogeme\n",
    "#import os\n",
    "#os.kill(os.getpid(), 9)"
   ]
  },
  {
   "cell_type": "markdown",
   "metadata": {},
   "source": [
    "### `Application: Modelling neighbourhood choices`\n",
    "\n",
    "In this lab session, we will use neighbourhood location choice data of lab session 1: Stated Choice (SC) data, which was collected between 2017 and 2018 in four European cities: Hanover, Mainz, Bern, and Zurich. During this lab session, you will train a neural network and a hybrid choices model to uncover people's preferences over residential location choice attributes, such as the distance to the city centre and the share of foreigners in their neighbourhood. \n",
    "\n",
    "![sc](data/sc_experiment.png)\n",
    "\n",
    "\n",
    "This time the emphesize is on the balance that the researcher must strike between behavioural rigour and model fit.\n",
    "To do so, in this lab session you will (1) develop a multilayer perceptron model and (2) build a hybrid choice models.\n",
    "\n",
    "**`Learning objectives lab session 03`**\n",
    "\n",
    "After completing the following lab session you will be able to:\n",
    "* Train a MultiLayer Perceptron on choice data\n",
    "* Train a hybrid choice model, using PyTorch\n",
    "* Strike a balance between behavioural rigour and model fit\n",
    "* Reflect on the strength and weaknesses of both data and theory-driven modelling approaches\n",
    "\n",
    "\n",
    "**`This lab consists of X parts and has Y exercises`**\n",
    "\n",
    "**Part 1**: Data preparation\n",
    "\n",
    "**Part 2**: The linear-additive RUM-MNL model\n",
    "- Excerise 1: \"Willigness to pay for grocery stores\"\n",
    "\n",
    "**Part 3**: The MultiLayer Perceptron\n",
    "- Excerise 2: \"Training the MLP model\"\n",
    "- Excerise 3: \"Adding the socio-demographic features\"\n",
    "\n",
    "**Part 4**: The L-MNL model\n",
    "- Excerise 4: \"Feature MLP\"\n",
    "- Excerise 5: \"Forescasting using L-MNL model\""
   ]
  },
  {
   "cell_type": "markdown",
   "metadata": {},
   "source": [
    "#### `Import packages`"
   ]
  },
  {
   "cell_type": "code",
   "execution_count": 1,
   "metadata": {},
   "outputs": [],
   "source": [
    "# Biogeme\n",
    "import biogeme.database as db\n",
    "import biogeme.biogeme as bio\n",
    "from biogeme import models\n",
    "from biogeme.expressions import Beta, Variable, log\n",
    "\n",
    "# Import required Python packages and modules\n",
    "import pandas as pd\n",
    "import matplotlib.pyplot as plt\n",
    "import numpy as np\n",
    "from pathlib import Path\n",
    "\n",
    "# Scikit-learn\n",
    "from sklearn.preprocessing import StandardScaler\n",
    "\n",
    "#Pytorch\n",
    "import torch\n",
    "import torch.nn as nn\n",
    "import torch.optim as optim\n",
    "from torch.utils.data import DataLoader, TensorDataset\n",
    "\n",
    "# Pandas setting to show all columns when displaying a pandas dataframe\n",
    "pd.set_option('display.max_columns', None)"
   ]
  },
  {
   "cell_type": "markdown",
   "metadata": {},
   "source": [
    "### `1. Load and explore the data set` <br>"
   ]
  },
  {
   "cell_type": "markdown",
   "metadata": {},
   "source": [
    " `i. Set up the workspace and load the database`"
   ]
  },
  {
   "cell_type": "code",
   "execution_count": 2,
   "metadata": {},
   "outputs": [
    {
     "name": "stdout",
     "output_type": "stream",
     "text": [
      "Index(['ID', 'TASK_ID', 'STORES1', 'TRANSPORT1', 'CITY1', 'NOISE1', 'GREEN1',\n",
      "       'FOREIGN1', 'STORES2', 'TRANSPORT2', 'CITY2', 'NOISE2', 'GREEN2',\n",
      "       'FOREIGN2', 'STORES3', 'TRANSPORT3', 'CITY3', 'NOISE3', 'GREEN3',\n",
      "       'FOREIGN3', 'CHOICE', 'RESPCITY', 'WOMAN', 'AGE', 'ENVCONC', 'EDUYEARS',\n",
      "       'RESPFOREIGN', 'HOMEOWNER', 'CAROWNER', 'JOB', 'NONWESTERN', 'WESTERN'],\n",
      "      dtype='object')\n"
     ]
    }
   ],
   "source": [
    "# Create that path to the data file\n",
    "data_path = Path(f'data/choice_data.dat')\n",
    "\n",
    "# Load mode choice data into a pandas DataFrame\n",
    "df = pd.read_csv(data_path, sep='\\t')\n",
    "\n",
    "# Show the column names \n",
    "print(df.columns)"
   ]
  },
  {
   "cell_type": "markdown",
   "metadata": {},
   "source": [
    "**Description of variables**<br>\n",
    "\n",
    "The number concatenated to the variable refers to the alternative. Hence, `STORES1` is the column containing the attribute levels of alternative 1 for attribute STORES.<br>\n",
    "\n",
    "| Variable       | Description                                                    | Type/Levels |\n",
    "|-------------|----------------------------------------------------------------|--------------|\n",
    "| `ID`        | This is the ID number of the respondent                         | Integer      |\n",
    "| `TASK_ID`   | This is the number of the respondent's task of choice           | Integer      |\n",
    "| `STORES`    | Distance to grocery store in walking minutes                    | 2 Min., 5 Min., 10 Min., 15 Min.     |\n",
    "| `TRANSPORT` | Distance to public transportation in walking minutes            | 2 Min., 5 Min., 10 Min., 15 Min.      |\n",
    "| `CITY`      | Distance to city centre in km                                   | Below 1 km, 1 to 2 km, 3 to 4 km, over 4 km      |\n",
    "| `NOISE`     | Street traffic noise                                            | 1 = None, 2 = Little, 3 = Meduim, 4 = High      |\n",
    "| `GREEN`     | Green areas in residential area                                 | 1 = None, 2 = Few, 3 = Some, 4 = Many       |\n",
    "| `FOREIGN`   | Share of foreigners in residential areas                        | 0.10, 0.20, 0.30, 0.40     |\n",
    "| `CHOICE`    | Indicates the choice.                                           | Integer  |\n",
    "| `RESPCITY`  | Indicates the city. 1 = Mainz, 2 = Hanover, 3 = Bern, 4 = Zurich| Categorical  |\n",
    "| `WOMAN`     | Indicates 1 if woman and 0 otherwise                            | Binary       |\n",
    "| `AGE`       | Age in years                                                    | Integer      |\n",
    "| `ENVCONC`   | Environmental concern from 1 to 5, with 5 being the highest degree of concern | Ordinal |\n",
    "| `EDUYEARS`  | Number of years in education                                    | Numeric      |\n",
    "| `RESPFOREIGN`| 1 if the respondent is a foreigner, 0 otherwise                | Binary       |\n",
    "| `HOMEOWNER` | Indicates 1 if the respondent is a home owner and 0 otherwise   | Binary       |\n",
    "| `CAROWNER`  | Indicates 1 if the respondent is a car owner and 0 otherwise    | Binary       |\n",
    "| `JOB`       | 1 if the respondent is working, 0 otherwise                     | Binary       |\n",
    "| `NONWESTERN`| 1 if the respondent is non-western, 0 otherwise                 | Binary       |\n",
    "| `WESTERN`   | 1 if the respondent is western, 0 otherwise                     | Binary       |"
   ]
  },
  {
   "cell_type": "code",
   "execution_count": 3,
   "metadata": {},
   "outputs": [],
   "source": [
    "# Define the relevant features of the alternatives\n",
    "features_alt =   ['STORES1', 'TRANSPORT1', 'CITY1', 'NOISE1', 'GREEN1', 'FOREIGN1', \n",
    "                  'STORES2', 'TRANSPORT2', 'CITY2', 'NOISE2', 'GREEN2', 'FOREIGN2',\n",
    "                  'STORES3', 'TRANSPORT3', 'CITY3', 'NOISE3', 'GREEN3', 'FOREIGN3']\n",
    "\n",
    "# Define the relevant socio-economic variables\n",
    "sociovars = ['AGE','WOMAN','HOMEOWNER','CAROWNER','RESPCITY', 'JOB','ENVCONC', 'EDUYEARS', 'RESPFOREIGN', 'NONWESTERN', 'WESTERN']"
   ]
  },
  {
   "cell_type": "markdown",
   "metadata": {},
   "source": [
    "Handle the missing data"
   ]
  },
  {
   "cell_type": "code",
   "execution_count": 4,
   "metadata": {},
   "outputs": [],
   "source": [
    "# Replace 9999 with NaN\n",
    "df = df.replace(99999, np.nan)\n",
    "\n",
    "# Remove rows with missing data in the relevant features\n",
    "df = df.dropna(subset=sociovars, how='any')"
   ]
  },
  {
   "cell_type": "markdown",
   "metadata": {},
   "source": [
    "Recode categorical socio demographic variables"
   ]
  },
  {
   "cell_type": "code",
   "execution_count": 5,
   "metadata": {},
   "outputs": [
    {
     "data": {
      "text/html": [
       "<div>\n",
       "<style scoped>\n",
       "    .dataframe tbody tr th:only-of-type {\n",
       "        vertical-align: middle;\n",
       "    }\n",
       "\n",
       "    .dataframe tbody tr th {\n",
       "        vertical-align: top;\n",
       "    }\n",
       "\n",
       "    .dataframe thead th {\n",
       "        text-align: right;\n",
       "    }\n",
       "</style>\n",
       "<table border=\"1\" class=\"dataframe\">\n",
       "  <thead>\n",
       "    <tr style=\"text-align: right;\">\n",
       "      <th></th>\n",
       "      <th>AGE_2</th>\n",
       "      <th>AGE_3</th>\n",
       "      <th>WOMAN_1</th>\n",
       "      <th>HOMEOWNER_1</th>\n",
       "      <th>CAROWNER_1</th>\n",
       "      <th>RESPCITY_2</th>\n",
       "      <th>RESPCITY_3</th>\n",
       "      <th>RESPCITY_4</th>\n",
       "      <th>JOB_1</th>\n",
       "      <th>ENVCONC_2</th>\n",
       "      <th>ENVCONC_3</th>\n",
       "      <th>EDUYEARS_2</th>\n",
       "      <th>EDUYEARS_3</th>\n",
       "      <th>RESPFOREIGN_1</th>\n",
       "      <th>NONWESTERN_1</th>\n",
       "      <th>WESTERN_1</th>\n",
       "    </tr>\n",
       "  </thead>\n",
       "  <tbody>\n",
       "    <tr>\n",
       "      <th>0</th>\n",
       "      <td>1</td>\n",
       "      <td>0</td>\n",
       "      <td>0</td>\n",
       "      <td>0</td>\n",
       "      <td>0</td>\n",
       "      <td>0</td>\n",
       "      <td>1</td>\n",
       "      <td>0</td>\n",
       "      <td>0</td>\n",
       "      <td>1</td>\n",
       "      <td>0</td>\n",
       "      <td>0</td>\n",
       "      <td>1</td>\n",
       "      <td>0</td>\n",
       "      <td>0</td>\n",
       "      <td>0</td>\n",
       "    </tr>\n",
       "    <tr>\n",
       "      <th>1</th>\n",
       "      <td>1</td>\n",
       "      <td>0</td>\n",
       "      <td>0</td>\n",
       "      <td>0</td>\n",
       "      <td>0</td>\n",
       "      <td>0</td>\n",
       "      <td>1</td>\n",
       "      <td>0</td>\n",
       "      <td>0</td>\n",
       "      <td>1</td>\n",
       "      <td>0</td>\n",
       "      <td>0</td>\n",
       "      <td>1</td>\n",
       "      <td>0</td>\n",
       "      <td>0</td>\n",
       "      <td>0</td>\n",
       "    </tr>\n",
       "    <tr>\n",
       "      <th>2</th>\n",
       "      <td>1</td>\n",
       "      <td>0</td>\n",
       "      <td>0</td>\n",
       "      <td>0</td>\n",
       "      <td>0</td>\n",
       "      <td>0</td>\n",
       "      <td>1</td>\n",
       "      <td>0</td>\n",
       "      <td>0</td>\n",
       "      <td>1</td>\n",
       "      <td>0</td>\n",
       "      <td>0</td>\n",
       "      <td>1</td>\n",
       "      <td>0</td>\n",
       "      <td>0</td>\n",
       "      <td>0</td>\n",
       "    </tr>\n",
       "    <tr>\n",
       "      <th>3</th>\n",
       "      <td>1</td>\n",
       "      <td>0</td>\n",
       "      <td>0</td>\n",
       "      <td>0</td>\n",
       "      <td>0</td>\n",
       "      <td>0</td>\n",
       "      <td>1</td>\n",
       "      <td>0</td>\n",
       "      <td>0</td>\n",
       "      <td>1</td>\n",
       "      <td>0</td>\n",
       "      <td>0</td>\n",
       "      <td>1</td>\n",
       "      <td>0</td>\n",
       "      <td>0</td>\n",
       "      <td>0</td>\n",
       "    </tr>\n",
       "    <tr>\n",
       "      <th>4</th>\n",
       "      <td>1</td>\n",
       "      <td>0</td>\n",
       "      <td>1</td>\n",
       "      <td>0</td>\n",
       "      <td>1</td>\n",
       "      <td>1</td>\n",
       "      <td>0</td>\n",
       "      <td>0</td>\n",
       "      <td>1</td>\n",
       "      <td>0</td>\n",
       "      <td>1</td>\n",
       "      <td>0</td>\n",
       "      <td>1</td>\n",
       "      <td>1</td>\n",
       "      <td>0</td>\n",
       "      <td>0</td>\n",
       "    </tr>\n",
       "  </tbody>\n",
       "</table>\n",
       "</div>"
      ],
      "text/plain": [
       "   AGE_2  AGE_3  WOMAN_1  HOMEOWNER_1  CAROWNER_1  RESPCITY_2  RESPCITY_3  \\\n",
       "0      1      0        0            0           0           0           1   \n",
       "1      1      0        0            0           0           0           1   \n",
       "2      1      0        0            0           0           0           1   \n",
       "3      1      0        0            0           0           0           1   \n",
       "4      1      0        1            0           1           1           0   \n",
       "\n",
       "   RESPCITY_4  JOB_1  ENVCONC_2  ENVCONC_3  EDUYEARS_2  EDUYEARS_3  \\\n",
       "0           0      0          1          0           0           1   \n",
       "1           0      0          1          0           0           1   \n",
       "2           0      0          1          0           0           1   \n",
       "3           0      0          1          0           0           1   \n",
       "4           0      1          0          1           0           1   \n",
       "\n",
       "   RESPFOREIGN_1  NONWESTERN_1  WESTERN_1  \n",
       "0              0             0          0  \n",
       "1              0             0          0  \n",
       "2              0             0          0  \n",
       "3              0             0          0  \n",
       "4              1             0          0  "
      ]
     },
     "execution_count": 5,
     "metadata": {},
     "output_type": "execute_result"
    }
   ],
   "source": [
    "# Create a dataframe with the relevant socio demographic variables\n",
    "df_sociovars  = df[sociovars].astype(int)\n",
    "\n",
    "# Recode 'AGE' in three categorical levels.\n",
    "df_sociovars.loc[(      df_sociovars['AGE'] < 25), 'AGE'] = 1\n",
    "df_sociovars.loc[(25 <= df_sociovars['AGE']     ) &\n",
    "                 (      df_sociovars['AGE'] < 60), 'AGE'] = 2\n",
    "df_sociovars.loc[(60 <= df_sociovars['AGE']     ), 'AGE'] = 3\n",
    "\n",
    "# Recode 'EDUYEARS' in three categorical levels.\n",
    "df_sociovars.loc[(      df_sociovars['EDUYEARS'] < 10), 'EDUYEARS'] = 1\n",
    "df_sociovars.loc[(10 <= df_sociovars['EDUYEARS']     ) & \n",
    "                 (      df_sociovars['EDUYEARS'] < 14), 'EDUYEARS'] = 2\n",
    "df_sociovars.loc[(14 <= df_sociovars['EDUYEARS']     ), 'EDUYEARS'] = 3\n",
    "\n",
    "# Recode 'ENVCONC' in three categorical levels.\n",
    "df_sociovars.loc[(     df_sociovars['ENVCONC'] < 3), 'ENVCONC'] = 1\n",
    "df_sociovars.loc[(3 <= df_sociovars['ENVCONC']    ) & \n",
    "                 (     df_sociovars['ENVCONC'] < 4), 'ENVCONC'] = 2\n",
    "df_sociovars.loc[(4 <= df_sociovars['ENVCONC']    ), 'ENVCONC'] = 3\n",
    "\n",
    "# Convert categorical variables to dummy variables using pd.get_dummies()\n",
    "df_sociovars = pd.get_dummies(data = df_sociovars, prefix = sociovars, prefix_sep='_', columns = sociovars, drop_first = True, dtype=int)\n",
    "\n",
    "# Create a list of the names of the socio demographic variables\n",
    "features_socio = df_sociovars.columns.tolist()\n",
    "\n",
    "# Show the first few rows of the dataframe\n",
    "df_sociovars.head()"
   ]
  },
  {
   "cell_type": "markdown",
   "metadata": {},
   "source": [
    "Finally, create the dataframe for training, containing the 'ID', 'CHOICE', attributes and dummy-coded socio-demographic variables"
   ]
  },
  {
   "cell_type": "code",
   "execution_count": 6,
   "metadata": {},
   "outputs": [
    {
     "data": {
      "text/html": [
       "<div>\n",
       "<style scoped>\n",
       "    .dataframe tbody tr th:only-of-type {\n",
       "        vertical-align: middle;\n",
       "    }\n",
       "\n",
       "    .dataframe tbody tr th {\n",
       "        vertical-align: top;\n",
       "    }\n",
       "\n",
       "    .dataframe thead th {\n",
       "        text-align: right;\n",
       "    }\n",
       "</style>\n",
       "<table border=\"1\" class=\"dataframe\">\n",
       "  <thead>\n",
       "    <tr style=\"text-align: right;\">\n",
       "      <th></th>\n",
       "      <th>ID</th>\n",
       "      <th>CHOICE</th>\n",
       "      <th>STORES1</th>\n",
       "      <th>TRANSPORT1</th>\n",
       "      <th>CITY1</th>\n",
       "      <th>NOISE1</th>\n",
       "      <th>GREEN1</th>\n",
       "      <th>FOREIGN1</th>\n",
       "      <th>STORES2</th>\n",
       "      <th>TRANSPORT2</th>\n",
       "      <th>CITY2</th>\n",
       "      <th>NOISE2</th>\n",
       "      <th>GREEN2</th>\n",
       "      <th>FOREIGN2</th>\n",
       "      <th>STORES3</th>\n",
       "      <th>TRANSPORT3</th>\n",
       "      <th>CITY3</th>\n",
       "      <th>NOISE3</th>\n",
       "      <th>GREEN3</th>\n",
       "      <th>FOREIGN3</th>\n",
       "      <th>AGE_2</th>\n",
       "      <th>AGE_3</th>\n",
       "      <th>WOMAN_1</th>\n",
       "      <th>HOMEOWNER_1</th>\n",
       "      <th>CAROWNER_1</th>\n",
       "      <th>RESPCITY_2</th>\n",
       "      <th>RESPCITY_3</th>\n",
       "      <th>RESPCITY_4</th>\n",
       "      <th>JOB_1</th>\n",
       "      <th>ENVCONC_2</th>\n",
       "      <th>ENVCONC_3</th>\n",
       "      <th>EDUYEARS_2</th>\n",
       "      <th>EDUYEARS_3</th>\n",
       "      <th>RESPFOREIGN_1</th>\n",
       "      <th>NONWESTERN_1</th>\n",
       "      <th>WESTERN_1</th>\n",
       "    </tr>\n",
       "  </thead>\n",
       "  <tbody>\n",
       "    <tr>\n",
       "      <th>0</th>\n",
       "      <td>2</td>\n",
       "      <td>1</td>\n",
       "      <td>10</td>\n",
       "      <td>5</td>\n",
       "      <td>1</td>\n",
       "      <td>2</td>\n",
       "      <td>2</td>\n",
       "      <td>0.4</td>\n",
       "      <td>15</td>\n",
       "      <td>10</td>\n",
       "      <td>2</td>\n",
       "      <td>3</td>\n",
       "      <td>3</td>\n",
       "      <td>0.1</td>\n",
       "      <td>2</td>\n",
       "      <td>15</td>\n",
       "      <td>4</td>\n",
       "      <td>4</td>\n",
       "      <td>4</td>\n",
       "      <td>0.2</td>\n",
       "      <td>1</td>\n",
       "      <td>0</td>\n",
       "      <td>0</td>\n",
       "      <td>0</td>\n",
       "      <td>0</td>\n",
       "      <td>0</td>\n",
       "      <td>1</td>\n",
       "      <td>0</td>\n",
       "      <td>0</td>\n",
       "      <td>1</td>\n",
       "      <td>0</td>\n",
       "      <td>0</td>\n",
       "      <td>1</td>\n",
       "      <td>0</td>\n",
       "      <td>0</td>\n",
       "      <td>0</td>\n",
       "    </tr>\n",
       "    <tr>\n",
       "      <th>1</th>\n",
       "      <td>2</td>\n",
       "      <td>2</td>\n",
       "      <td>15</td>\n",
       "      <td>5</td>\n",
       "      <td>4</td>\n",
       "      <td>4</td>\n",
       "      <td>1</td>\n",
       "      <td>0.1</td>\n",
       "      <td>2</td>\n",
       "      <td>10</td>\n",
       "      <td>5</td>\n",
       "      <td>1</td>\n",
       "      <td>2</td>\n",
       "      <td>0.2</td>\n",
       "      <td>5</td>\n",
       "      <td>15</td>\n",
       "      <td>1</td>\n",
       "      <td>2</td>\n",
       "      <td>3</td>\n",
       "      <td>0.3</td>\n",
       "      <td>1</td>\n",
       "      <td>0</td>\n",
       "      <td>0</td>\n",
       "      <td>0</td>\n",
       "      <td>0</td>\n",
       "      <td>0</td>\n",
       "      <td>1</td>\n",
       "      <td>0</td>\n",
       "      <td>0</td>\n",
       "      <td>1</td>\n",
       "      <td>0</td>\n",
       "      <td>0</td>\n",
       "      <td>1</td>\n",
       "      <td>0</td>\n",
       "      <td>0</td>\n",
       "      <td>0</td>\n",
       "    </tr>\n",
       "    <tr>\n",
       "      <th>2</th>\n",
       "      <td>2</td>\n",
       "      <td>3</td>\n",
       "      <td>10</td>\n",
       "      <td>15</td>\n",
       "      <td>1</td>\n",
       "      <td>3</td>\n",
       "      <td>1</td>\n",
       "      <td>0.4</td>\n",
       "      <td>15</td>\n",
       "      <td>2</td>\n",
       "      <td>2</td>\n",
       "      <td>4</td>\n",
       "      <td>2</td>\n",
       "      <td>0.1</td>\n",
       "      <td>2</td>\n",
       "      <td>5</td>\n",
       "      <td>4</td>\n",
       "      <td>1</td>\n",
       "      <td>3</td>\n",
       "      <td>0.2</td>\n",
       "      <td>1</td>\n",
       "      <td>0</td>\n",
       "      <td>0</td>\n",
       "      <td>0</td>\n",
       "      <td>0</td>\n",
       "      <td>0</td>\n",
       "      <td>1</td>\n",
       "      <td>0</td>\n",
       "      <td>0</td>\n",
       "      <td>1</td>\n",
       "      <td>0</td>\n",
       "      <td>0</td>\n",
       "      <td>1</td>\n",
       "      <td>0</td>\n",
       "      <td>0</td>\n",
       "      <td>0</td>\n",
       "    </tr>\n",
       "    <tr>\n",
       "      <th>3</th>\n",
       "      <td>2</td>\n",
       "      <td>2</td>\n",
       "      <td>15</td>\n",
       "      <td>15</td>\n",
       "      <td>5</td>\n",
       "      <td>4</td>\n",
       "      <td>4</td>\n",
       "      <td>0.4</td>\n",
       "      <td>2</td>\n",
       "      <td>2</td>\n",
       "      <td>1</td>\n",
       "      <td>1</td>\n",
       "      <td>1</td>\n",
       "      <td>0.1</td>\n",
       "      <td>5</td>\n",
       "      <td>5</td>\n",
       "      <td>2</td>\n",
       "      <td>2</td>\n",
       "      <td>2</td>\n",
       "      <td>0.2</td>\n",
       "      <td>1</td>\n",
       "      <td>0</td>\n",
       "      <td>0</td>\n",
       "      <td>0</td>\n",
       "      <td>0</td>\n",
       "      <td>0</td>\n",
       "      <td>1</td>\n",
       "      <td>0</td>\n",
       "      <td>0</td>\n",
       "      <td>1</td>\n",
       "      <td>0</td>\n",
       "      <td>0</td>\n",
       "      <td>1</td>\n",
       "      <td>0</td>\n",
       "      <td>0</td>\n",
       "      <td>0</td>\n",
       "    </tr>\n",
       "    <tr>\n",
       "      <th>4</th>\n",
       "      <td>3</td>\n",
       "      <td>2</td>\n",
       "      <td>15</td>\n",
       "      <td>5</td>\n",
       "      <td>5</td>\n",
       "      <td>1</td>\n",
       "      <td>3</td>\n",
       "      <td>0.4</td>\n",
       "      <td>2</td>\n",
       "      <td>10</td>\n",
       "      <td>1</td>\n",
       "      <td>2</td>\n",
       "      <td>4</td>\n",
       "      <td>0.1</td>\n",
       "      <td>5</td>\n",
       "      <td>15</td>\n",
       "      <td>2</td>\n",
       "      <td>3</td>\n",
       "      <td>1</td>\n",
       "      <td>0.2</td>\n",
       "      <td>1</td>\n",
       "      <td>0</td>\n",
       "      <td>1</td>\n",
       "      <td>0</td>\n",
       "      <td>1</td>\n",
       "      <td>1</td>\n",
       "      <td>0</td>\n",
       "      <td>0</td>\n",
       "      <td>1</td>\n",
       "      <td>0</td>\n",
       "      <td>1</td>\n",
       "      <td>0</td>\n",
       "      <td>1</td>\n",
       "      <td>1</td>\n",
       "      <td>0</td>\n",
       "      <td>0</td>\n",
       "    </tr>\n",
       "  </tbody>\n",
       "</table>\n",
       "</div>"
      ],
      "text/plain": [
       "   ID  CHOICE  STORES1  TRANSPORT1  CITY1  NOISE1  GREEN1  FOREIGN1  STORES2  \\\n",
       "0   2       1       10           5      1       2       2       0.4       15   \n",
       "1   2       2       15           5      4       4       1       0.1        2   \n",
       "2   2       3       10          15      1       3       1       0.4       15   \n",
       "3   2       2       15          15      5       4       4       0.4        2   \n",
       "4   3       2       15           5      5       1       3       0.4        2   \n",
       "\n",
       "   TRANSPORT2  CITY2  NOISE2  GREEN2  FOREIGN2  STORES3  TRANSPORT3  CITY3  \\\n",
       "0          10      2       3       3       0.1        2          15      4   \n",
       "1          10      5       1       2       0.2        5          15      1   \n",
       "2           2      2       4       2       0.1        2           5      4   \n",
       "3           2      1       1       1       0.1        5           5      2   \n",
       "4          10      1       2       4       0.1        5          15      2   \n",
       "\n",
       "   NOISE3  GREEN3  FOREIGN3  AGE_2  AGE_3  WOMAN_1  HOMEOWNER_1  CAROWNER_1  \\\n",
       "0       4       4       0.2      1      0        0            0           0   \n",
       "1       2       3       0.3      1      0        0            0           0   \n",
       "2       1       3       0.2      1      0        0            0           0   \n",
       "3       2       2       0.2      1      0        0            0           0   \n",
       "4       3       1       0.2      1      0        1            0           1   \n",
       "\n",
       "   RESPCITY_2  RESPCITY_3  RESPCITY_4  JOB_1  ENVCONC_2  ENVCONC_3  \\\n",
       "0           0           1           0      0          1          0   \n",
       "1           0           1           0      0          1          0   \n",
       "2           0           1           0      0          1          0   \n",
       "3           0           1           0      0          1          0   \n",
       "4           1           0           0      1          0          1   \n",
       "\n",
       "   EDUYEARS_2  EDUYEARS_3  RESPFOREIGN_1  NONWESTERN_1  WESTERN_1  \n",
       "0           0           1              0             0          0  \n",
       "1           0           1              0             0          0  \n",
       "2           0           1              0             0          0  \n",
       "3           0           1              0             0          0  \n",
       "4           0           1              1             0          0  "
      ]
     },
     "execution_count": 6,
     "metadata": {},
     "output_type": "execute_result"
    }
   ],
   "source": [
    "# Concatenate the socio demographic variables with the relevant features of the alternatives\n",
    "df = pd.concat([df[['ID', 'CHOICE'] + features_alt], df_sociovars], axis=1)\n",
    "\n",
    "# Show the first few rows of the dataframe\n",
    "df.head()"
   ]
  },
  {
   "cell_type": "markdown",
   "metadata": {},
   "source": [
    "`ii. Split the data in a test and train set`"
   ]
  },
  {
   "cell_type": "code",
   "execution_count": 7,
   "metadata": {},
   "outputs": [
    {
     "name": "stdout",
     "output_type": "stream",
     "text": [
      "Number of individuals in the df_train and df_test: \t1825  423 \n",
      "Number of observations in the df_train and df_test: \t7300 1692 \n"
     ]
    }
   ],
   "source": [
    "# Set a seed for reproducibilty\n",
    "np.random.seed(100)\n",
    "df['draw']=float('nan')\n",
    "for i in df['ID'].unique():\n",
    "    num_obs = len(df.loc[df['ID']==i,'draw'])\n",
    "    df.loc[df['ID']==i,'draw']= np.repeat(np.random.uniform(0,1,1),num_obs)\n",
    "\n",
    "# Put 80% of the data in the training set and 20% in the test set\n",
    "df_train = df.loc[df['draw']< 0.8,:].copy()\n",
    "df_test  = df.loc[df['draw']>=0.8,:].copy()\n",
    "\n",
    "# Number of observations in the training and test sets\n",
    "num_obs_train = len(df_train)\n",
    "num_obs_test  = len(df_test)\n",
    "\n",
    "print(f'Number of individuals in the df_train and df_test: \\t{df_train.ID.nunique()}  {df_test.ID.nunique()} ')\n",
    "print(f'Number of observations in the df_train and df_test: \\t{len(df_train)} {len(df_test)} ')"
   ]
  },
  {
   "cell_type": "markdown",
   "metadata": {},
   "source": [
    "`iii. Scaling the features`<br>\n",
    "To efficiently train ANNs it strongly recommended to scale (a.k.a. normalise) the features. There are several ways to scale your data. A commonly used scaler of sk-learn is called 'StandardScaler'. This scaler normalises the variance and shift the location of the distribution to zero, see https://scikit-learn.org/stable/modules/generated/sklearn.preprocessing.StandardScaler.html"
   ]
  },
  {
   "cell_type": "code",
   "execution_count": 8,
   "metadata": {},
   "outputs": [
    {
     "name": "stdout",
     "output_type": "stream",
     "text": [
      "Shape of x_train (7300, 34)\n",
      "Shape of x_test (1692, 34)\n"
     ]
    }
   ],
   "source": [
    "# Create X_train and X_test\n",
    "x_train = df_train[features_alt + features_socio]\n",
    "x_test  = df_test [features_alt + features_socio]\n",
    "\n",
    "# Initialize the scaler object\n",
    "scaler = StandardScaler()\n",
    "\n",
    "# Fit and transform the training data\n",
    "scaler = scaler.fit(df[features_alt + features_socio])\n",
    "\n",
    "# Apply the fitted scaler to the  data sets\n",
    "x_train_scaled = pd.DataFrame(scaler.transform(df_train[features_alt + features_socio]), columns=[features_alt + features_socio])\n",
    "x_test_scaled =  pd.DataFrame(scaler.transform(df_test [features_alt + features_socio]), columns=[features_alt + features_socio]) # Apply the fitted scaler to the test data\n",
    "\n",
    "print('Shape of x_train', x_train_scaled.shape)\n",
    "print('Shape of x_test', x_test_scaled.shape)\n",
    "\n",
    "# Create the target values\n",
    "# Y must be a dummy coded array\n",
    "y_train_dummy = pd.get_dummies(df_train['CHOICE']).values.astype(int)\n",
    "y_test_dummy = pd.get_dummies(df_test['CHOICE']).values.astype(int)"
   ]
  },
  {
   "cell_type": "markdown",
   "metadata": {},
   "source": [
    "`iv. Conversion to tensors`<br>\n",
    "Many machine learning packages work with so-called tensors. Tensors are dedicated data structures to effciently train neural networks. Therefore, we need to convert the features and the target into a tensors datatype. In PyTorch, this is done with `torch.tensor()`.\n",
    " "
   ]
  },
  {
   "cell_type": "code",
   "execution_count": 9,
   "metadata": {},
   "outputs": [
    {
     "name": "stdout",
     "output_type": "stream",
     "text": [
      "Shape of x_train_tensor\t torch.Size([7300, 18])\n",
      "Shape of x_test_tensor\t torch.Size([1692, 18])\n"
     ]
    }
   ],
   "source": [
    "# Create tensors for the train set\n",
    "# In this case, we use only the features of the alternatives 'features_alt'\n",
    "x_train_tensor = torch.tensor(x_train_scaled[features_alt].values, dtype=torch.float)\n",
    "y_train_dummy_tensor = torch.tensor(y_train_dummy, dtype=torch.float)\n",
    "\n",
    "# Create tensors for the test set\n",
    "x_test_tensor = torch.tensor(x_test_scaled[features_alt].values, dtype=torch.float)\n",
    "y_test_dummy_tensor = torch.tensor(y_test_dummy, dtype=torch.float)\n",
    "\n",
    "# Print the shapes of the tensors   \n",
    "print('Shape of x_train_tensor\\t', x_train_tensor.shape)\n",
    "print('Shape of x_test_tensor\\t', x_test_tensor.shape)"
   ]
  },
  {
   "cell_type": "markdown",
   "metadata": {},
   "source": [
    "## `2. Linear-additive RUM-MNL benchmark model`"
   ]
  },
  {
   "cell_type": "markdown",
   "metadata": {},
   "source": [
    "`i. Model estimation`<br>\n",
    "We first estimate our a linear-addtive RUM-MNL benchmark model."
   ]
  },
  {
   "cell_type": "code",
   "execution_count": 10,
   "metadata": {},
   "outputs": [],
   "source": [
    "# Convert pandas df into biogeme database\n",
    "biodata_train = db.Database('neighbourhood_data_train', df_train)"
   ]
  },
  {
   "cell_type": "code",
   "execution_count": 11,
   "metadata": {},
   "outputs": [],
   "source": [
    "# Create Biogeme variables\n",
    "\n",
    "# Attributes of alternative 1\n",
    "STORES1     = Variable('STORES1')\n",
    "TRANSPORT1  = Variable('TRANSPORT1')\n",
    "CITY1       = Variable('CITY1')\n",
    "NOISE1      = Variable('NOISE1')\n",
    "GREEN1      = Variable('GREEN1')\n",
    "FOREIGN1    = Variable('FOREIGN1')\n",
    "\n",
    "# Attributes of alternative 2    \n",
    "STORES2     = Variable('STORES2')\n",
    "TRANSPORT2  = Variable('TRANSPORT2')\n",
    "CITY2       = Variable('CITY2')\n",
    "NOISE2      = Variable('NOISE2')\n",
    "GREEN2      = Variable('GREEN2')\n",
    "FOREIGN2    = Variable('FOREIGN2')\n",
    "    \n",
    "# Attributes of alternative 3\n",
    "STORES3     = Variable('STORES3')\n",
    "TRANSPORT3  = Variable('TRANSPORT3')\n",
    "CITY3       = Variable('CITY3')\n",
    "NOISE3      = Variable('NOISE3')\n",
    "GREEN3      = Variable('GREEN3')\n",
    "FOREIGN3    = Variable('FOREIGN3')\n",
    "\n",
    "# choice\n",
    "CHOICE      = Variable('CHOICE')"
   ]
  },
  {
   "cell_type": "code",
   "execution_count": 12,
   "metadata": {},
   "outputs": [
    {
     "name": "stdout",
     "output_type": "stream",
     "text": [
      "Results for model Linear-additive RUM-MNL\n",
      "Nbr of parameters:\t\t6\n",
      "Sample size:\t\t\t7300\n",
      "Excluded data:\t\t\t0\n",
      "Null log likelihood:\t\t-8019.87\n",
      "Final log likelihood:\t\t-6511.05\n",
      "Likelihood ratio test (null):\t\t3017.64\n",
      "Rho square (null):\t\t\t0.188\n",
      "Rho bar square (null):\t\t\t0.187\n",
      "Akaike Information Criterion:\t13034.1\n",
      "Bayesian Information Criterion:\t13075.47\n",
      "\n",
      "                Value  Rob. Std err  Rob. t-test  Rob. p-value\n",
      "B_city      -0.163197      0.009139   -17.857988           0.0\n",
      "B_foreign   -1.223259      0.124070    -9.859436           0.0\n",
      "B_green      0.412480      0.012934    31.890267           0.0\n",
      "B_noise     -0.433740      0.011975   -36.220135           0.0\n",
      "B_stores    -0.033654      0.002956   -11.384664           0.0\n",
      "B_transport -0.073376      0.002823   -25.990659           0.0\n"
     ]
    }
   ],
   "source": [
    "# Give a name to the model    \n",
    "model_name = 'Linear-additive RUM-MNL'\n",
    "\n",
    "# Define the model parameters, using the function \"Beta()\", in which you must define:\n",
    "B_stores    = Beta('B_stores'   , 0, None, None, 0)\n",
    "B_transport = Beta('B_transport', 0, None, None, 0)\n",
    "B_city      = Beta('B_city'     , 0, None, None, 0)\n",
    "B_noise     = Beta('B_noise'    , 0, None, None, 0)\n",
    "B_green     = Beta('B_green'    , 0, None, None, 0)\n",
    "B_foreign   = Beta('B_foreign'  , 0, None, None, 0)\n",
    "\n",
    "# Define the utility functions\n",
    "V1 = B_stores * STORES1 + B_transport * TRANSPORT1 + B_city * CITY1 + B_noise * NOISE1 + B_green * GREEN1 + B_foreign * FOREIGN1\n",
    "V2 = B_stores * STORES2 + B_transport * TRANSPORT2 + B_city * CITY2 + B_noise * NOISE2 + B_green * GREEN2 + B_foreign * FOREIGN2\n",
    "V3 = B_stores * STORES3 + B_transport * TRANSPORT3 + B_city * CITY3 + B_noise * NOISE3 + B_green * GREEN3 + B_foreign * FOREIGN3\n",
    "\n",
    "# Associate utility functions with alternatives\n",
    "V = {1: V1, 2: V2, 3: V3}    \n",
    "\n",
    "# Associate the availability conditions with the alternatives\n",
    "AV = {1: 1, 2: 1, 3: 1} \n",
    "\n",
    "# Definition of the model. This is the contribution of each observation to the log likelihood function.\n",
    "prob = models.logit(V, AV, CHOICE)\n",
    "\n",
    "# Create the Biogeme object\n",
    "biogeme = bio.BIOGEME(biodata_train, log(prob))\n",
    "\n",
    "# Set reporting levels\n",
    "biogeme.generate_pickle = False\n",
    "biogeme.generate_html = False\n",
    "biogeme.saveIterations = False\n",
    "biogeme.modelName = model_name\n",
    "\n",
    "# Compute the null loglikelihood for reporting\n",
    "biogeme.calculateNullLoglikelihood(AV)\n",
    "\n",
    "# Estimate the parameters\n",
    "results = biogeme.estimate()\n",
    "print(results.short_summary())\n",
    "\n",
    "# Get the results in a pandas table\n",
    "beta_hat = results.getEstimatedParameters()\n",
    "print(beta_hat)"
   ]
  },
  {
   "cell_type": "markdown",
   "metadata": {},
   "source": [
    "`ii. Compute the LL of the estimated model on the test set`"
   ]
  },
  {
   "cell_type": "code",
   "execution_count": 13,
   "metadata": {},
   "outputs": [
    {
     "name": "stdout",
     "output_type": "stream",
     "text": [
      "LL MNL test: -1472.97\n"
     ]
    }
   ],
   "source": [
    "# Create the biogeme simulation object\n",
    "biodate_test = db.Database('Neighbourhood_data_test', df_test)\n",
    "\n",
    "# Simulate th choice probability for the MNL model on the test set\n",
    "dict2simulate = {'prob_chosen':prob}\n",
    "\n",
    "# Create the Biogeme simulation object\n",
    "biosim = bio.BIOGEME(biodate_test,dict2simulate)\n",
    "simulated_probs = biosim.simulate(theBetaValues=results.getBetaValues())\n",
    "\n",
    "# Calculate the log-likelihood of the MNL model on the test set and print it\n",
    "LL_MNL_test = np.log(simulated_probs['prob_chosen']).sum()\n",
    "print(f'LL MNL test: {LL_MNL_test:0.2f}')"
   ]
  },
  {
   "cell_type": "markdown",
   "metadata": {},
   "source": [
    "## ``Exercise 1: Willingness to pay for grocery stores``"
   ]
  },
  {
   "cell_type": "markdown",
   "metadata": {},
   "source": [
    "`A` Calculate the willingness to pay reduce the number of walking minutes to the grocery stores by one minute, expressed in terms of walking minutes to the public transport. Use formula:<br><br>\n",
    "$WTP = \\frac{\\beta_{stores}}{\\beta_{transport}}$<br><br>\n",
    "`B` Interpret this result. What do people find more important; walking minutes to grocery stores or walking minutes to public transport?"
   ]
  },
  {
   "cell_type": "markdown",
   "metadata": {},
   "source": [
    "#### `Answers`"
   ]
  },
  {
   "cell_type": "code",
   "execution_count": 14,
   "metadata": {},
   "outputs": [
    {
     "name": "stdout",
     "output_type": "stream",
     "text": [
      "\n",
      "Willigness to pay to reduce one minute of walking time to the grocery store is: 0.46 walking minutes to the public transport\n",
      "\n",
      "Distance to the public transport almost twice as important than distance to the grocery store because the WTP is < 1\n"
     ]
    }
   ],
   "source": [
    "# A\n",
    "WTP_MNL = beta_hat.loc['B_stores']['Value']/beta_hat.loc['B_transport']['Value']\n",
    "print(f'\\nWilligness to pay to reduce one minute of walking time to the grocery store is: {WTP_MNL:.2f} walking minutes to the public transport')\n",
    "\n",
    "# B\n",
    "print('\\nDistance to the public transport almost twice as important than distance to the grocery store because the WTP is < 1')"
   ]
  },
  {
   "cell_type": "markdown",
   "metadata": {},
   "source": [
    "## `3. The MLP model`"
   ]
  },
  {
   "cell_type": "markdown",
   "metadata": {},
   "source": [
    "A MultiLayer Perceptron (MLP) is a neural network widely used in machine learning because of its ability to learn complex patterns. It is composed of hidden layers with neurons and activation functions. <br>\n",
    "\n",
    "For example, in the following image, we can see an input layer with 8 features, two hidden layers with each 10 hidden nodes, and the output layer with 3 output classes:<br>\n",
    "\n",
    "<p align=\"center\\\">\n",
    "<img width=\"800\" src=\"assets/MLP.png\">\n",
    "</p> "
   ]
  },
  {
   "cell_type": "markdown",
   "metadata": {},
   "source": [
    "`i. Define MLP model`<br>\n",
    "We will create a fully connected neural network with two hidden layers. To do so, we create a new class using PyTorch's nn.Module. We define how the object is initialised.In this case, we will have an input layer of size `input_size`, two hidden layers with sizes `hidden_size1` and `hidden_size2` respectively, and an output layer of size `output_size`. Additionally, we define the forward function. The forward function takes an input value `x`, passes it through the network layers, while applying activation functions. It outputs the utilities of each alternative `V`."
   ]
  },
  {
   "cell_type": "code",
   "execution_count": 15,
   "metadata": {},
   "outputs": [],
   "source": [
    "# Fully connected neural network with two hidden layer\n",
    "class MLP(nn.Module):\n",
    "    def __init__(self, input_size, hidden_size1, hidden_size2, output_size):\n",
    "        super(MLP, self).__init__()\n",
    "        \n",
    "        self.fc1 = nn.Linear(input_size, hidden_size1)\n",
    "        self.fc2 = nn.Linear(hidden_size1, hidden_size2)\n",
    "        self.fc3 = nn.Linear(hidden_size2, output_size)\n",
    "        \n",
    "    def forward(self, x):\n",
    "        x = torch.tanh(self.fc1(x)) # tanh activation function for the 1st layer\n",
    "        x = torch.tanh(self.fc2(x)) # tanh activation function for the 2nd layer\n",
    "        V = self.fc3(x)             # linear activation function for the output layer\n",
    "\n",
    "        return V                    # return the \"Utility\" of each alternative"
   ]
  },
  {
   "cell_type": "markdown",
   "metadata": {},
   "source": [
    "`ii. Create DataLoaders`<br>\n",
    "A PyTorch Dataloader object effciently handles the data flow during training and testing. It creates the minibatches, and ensures that are instances of the data are depleted each epoch. <br>We create a DataLoader for both the train and test data sets. "
   ]
  },
  {
   "cell_type": "code",
   "execution_count": 16,
   "metadata": {},
   "outputs": [],
   "source": [
    "# Create a DataLoader for the train set\n",
    "dataset_train = TensorDataset(x_train_tensor, y_train_dummy_tensor)\n",
    "train_loader = DataLoader(dataset_train, batch_size=250, shuffle=True)\n",
    "\n",
    "# Create a DataLoader for the test set\n",
    "dataset_test = TensorDataset(x_test_tensor, y_test_dummy_tensor)\n",
    "test_loader = DataLoader(dataset_test, batch_size=len(x_test_tensor), shuffle=True)"
   ]
  },
  {
   "cell_type": "markdown",
   "metadata": {},
   "source": [
    "`iii. Define functions`<br>\n",
    "We define the the following functions:\n",
    "1. a function to evaluate the model performance during training\n",
    "2. a function to visualise the training progress\n",
    "3. a function to inspect the model object"
   ]
  },
  {
   "cell_type": "markdown",
   "metadata": {},
   "source": [
    "This function is used to evaluate the performance on the test data after each epoch."
   ]
  },
  {
   "cell_type": "code",
   "execution_count": 17,
   "metadata": {},
   "outputs": [],
   "source": [
    "def evaluate(model, criterion, data_loader):\n",
    "    model.eval()  # Set the model to evaluation mode\n",
    "    total_loss = 0.0\n",
    "\n",
    "    with torch.no_grad():\n",
    "        for inputs, labels in data_loader:\n",
    "            outputs = model(inputs)\n",
    "            loss = criterion(outputs, labels)\n",
    "            total_loss += loss.item()\n",
    "\n",
    "    return total_loss"
   ]
  },
  {
   "cell_type": "markdown",
   "metadata": {},
   "source": [
    "This function visualises the training progress. We call this function after the training is finished."
   ]
  },
  {
   "cell_type": "code",
   "execution_count": 18,
   "metadata": {},
   "outputs": [],
   "source": [
    "def show_loss_plot(train_losses, test_losses, num_obs_train, num_obs_test):\n",
    "    fig, ax = plt.subplots(figsize=(8, 6))\n",
    "    ax.plot(np.array(train_losses)/num_obs_train, label='Training Loss')\n",
    "    ax.plot(np.array(test_losses)/num_obs_test,   label='Test Loss')\n",
    "    ax.set_xlabel('Epoch')\n",
    "    ax.set_ylabel('Loss')\n",
    "    ax.legend()\n",
    "    plt.show()"
   ]
  },
  {
   "cell_type": "markdown",
   "metadata": {},
   "source": [
    "This function allows us to inspect the created model architecture. It lists the number of weights per layer, and their input and output sizes. "
   ]
  },
  {
   "cell_type": "code",
   "execution_count": 19,
   "metadata": {},
   "outputs": [],
   "source": [
    "def print_model_summary(model):\n",
    "    total_params = 0\n",
    "    print(f\"=== Model Summary ===\")\n",
    "    for name, param in model.named_parameters():\n",
    "        if param.requires_grad:\n",
    "            num_params = param.numel()\n",
    "            total_params += num_params\n",
    "            print(f\"Layer: {name:20}|\\t Weights: {num_params}\")\n",
    "\n",
    "    print(f\"\\nTotal trainable Weights: {total_params}\")\n",
    "\n",
    "    print(\"\\n=== Layers ===\")\n",
    "    for layer in model.children():\n",
    "        print(layer)"
   ]
  },
  {
   "cell_type": "markdown",
   "metadata": {},
   "source": [
    "`iv. Create the MLP object`<br>"
   ]
  },
  {
   "cell_type": "code",
   "execution_count": 20,
   "metadata": {},
   "outputs": [
    {
     "name": "stdout",
     "output_type": "stream",
     "text": [
      " input_size = 18, hidden_size1 = 10, hidden_size2 = 10, output_size = 3\n"
     ]
    }
   ],
   "source": [
    "# Define the dimensions of the MLP\n",
    "input_size   = x_train_tensor.size()[1]  # Number of input features\n",
    "hidden_size1 = 10                        # Number of units in first hidden layer\n",
    "hidden_size2 = 10                        # Number of units in second hidden layer\n",
    "output_size  = 3                         # Number of output classes (determined by the number of alternatives)\n",
    "print(f' input_size = {input_size}, hidden_size1 = {hidden_size1}, hidden_size2 = {hidden_size2}, output_size = {output_size}')"
   ]
  },
  {
   "cell_type": "code",
   "execution_count": 21,
   "metadata": {},
   "outputs": [
    {
     "name": "stdout",
     "output_type": "stream",
     "text": [
      "=== Model Summary ===\n",
      "Layer: fc1.weight          |\t Weights: 180\n",
      "Layer: fc1.bias            |\t Weights: 10\n",
      "Layer: fc2.weight          |\t Weights: 100\n",
      "Layer: fc2.bias            |\t Weights: 10\n",
      "Layer: fc3.weight          |\t Weights: 30\n",
      "Layer: fc3.bias            |\t Weights: 3\n",
      "\n",
      "Total trainable Weights: 333\n",
      "\n",
      "=== Layers ===\n",
      "Linear(in_features=18, out_features=10, bias=True)\n",
      "Linear(in_features=10, out_features=10, bias=True)\n",
      "Linear(in_features=10, out_features=3, bias=True)\n"
     ]
    }
   ],
   "source": [
    "# Invoke the MLP model\n",
    "model = MLP(input_size, hidden_size1, hidden_size2, output_size)\n",
    "\n",
    "# Print the model architecture\n",
    "print_model_summary(model)"
   ]
  },
  {
   "cell_type": "markdown",
   "metadata": {},
   "source": [
    "Define settings for the training"
   ]
  },
  {
   "cell_type": "markdown",
   "metadata": {},
   "source": [
    "`v. Train the MLP model`<br>\n",
    "Finally, we are ready to train the model!"
   ]
  },
  {
   "cell_type": "code",
   "execution_count": 22,
   "metadata": {},
   "outputs": [],
   "source": [
    "nEpoch = 500  # Set the number of epochs\n",
    "lr = 0.0001  # Set the learning rate\n",
    "status = 10  # Print status every 'status' epochs\n",
    "patience = 5  # Number of epochs to wait before early stopping"
   ]
  },
  {
   "cell_type": "code",
   "execution_count": 23,
   "metadata": {},
   "outputs": [
    {
     "name": "stdout",
     "output_type": "stream",
     "text": [
      "Epoch [    1/500], Train Loss: 8195.100, Test Loss: 1875.230\n",
      "Epoch [   10/500], Train Loss: 7795.346, Test Loss: 1787.015\n",
      "Epoch [   20/500], Train Loss: 7344.816, Test Loss: 1683.985\n",
      "Epoch [   30/500], Train Loss: 6891.917, Test Loss: 1580.705\n",
      "Epoch [   40/500], Train Loss: 6543.425, Test Loss: 1502.363\n",
      "Epoch [   50/500], Train Loss: 6336.572, Test Loss: 1455.002\n",
      "Epoch [   60/500], Train Loss: 6226.037, Test Loss: 1428.171\n",
      "Epoch [   70/500], Train Loss: 6166.099, Test Loss: 1413.008\n",
      "Epoch [   80/500], Train Loss: 6131.423, Test Loss: 1403.780\n",
      "Epoch [   90/500], Train Loss: 6110.062, Test Loss: 1398.263\n",
      "Epoch [  100/500], Train Loss: 6095.781, Test Loss: 1394.711\n",
      "Epoch [  110/500], Train Loss: 6086.312, Test Loss: 1392.354\n",
      "Epoch [  120/500], Train Loss: 6078.883, Test Loss: 1390.895\n",
      "Epoch [  130/500], Train Loss: 6073.106, Test Loss: 1389.867\n",
      "Epoch [  140/500], Train Loss: 6068.824, Test Loss: 1389.120\n",
      "Epoch [  150/500], Train Loss: 6064.892, Test Loss: 1388.567\n",
      "Epoch [  160/500], Train Loss: 6061.715, Test Loss: 1388.138\n",
      "Epoch [  170/500], Train Loss: 6059.229, Test Loss: 1387.686\n",
      "Epoch [  180/500], Train Loss: 6057.078, Test Loss: 1387.460\n",
      "Epoch [  190/500], Train Loss: 6054.991, Test Loss: 1387.274\n",
      "Epoch [  200/500], Train Loss: 6053.171, Test Loss: 1387.024\n",
      "Early stopping at epoch 206\n",
      "\n",
      "Training finished.\tTrain Loss: 6052.391, Test Loss: 1386.886\n"
     ]
    },
    {
     "data": {
      "image/png": "[encoded data removed]",
      "text/plain": [
       "<Figure size 800x600 with 1 Axes>"
      ]
     },
     "metadata": {},
     "output_type": "display_data"
    }
   ],
   "source": [
    "do_training = True\n",
    "if do_training == True:\n",
    "\n",
    "    # Define the model, loss function and optimizer\n",
    "    \n",
    "    optimizer = optim.Adam(params=model.parameters(), lr=lr,  betas=(0.9, 0.999), eps=1e-07, weight_decay=0)\n",
    "    loss_fn = nn.CrossEntropyLoss(reduction='sum')\n",
    "\n",
    "    # Define lists to store losses\n",
    "    train_losses = []\n",
    "    test_losses = []\n",
    "\n",
    "    # Initialize early stopping counter \n",
    "    counter = 0\n",
    "    best_loss = np.inf  # Set initial loss to infinity\n",
    "\n",
    "    # Training loop\n",
    "    for epoch in range(nEpoch):\n",
    "        running_loss = 0.0\n",
    "        for inputs, labels in train_loader:\n",
    "            # Zero the gradients\n",
    "            optimizer.zero_grad()\n",
    "\n",
    "            # Forward pass\n",
    "            outputs = model(inputs)   \n",
    "\n",
    "            # Compute the loss\n",
    "            loss = loss_fn(outputs, labels)\n",
    "\n",
    "            # Backward pass and optimization\n",
    "            loss.backward()\n",
    "            optimizer.step()\n",
    "\n",
    "            # Update running loss\n",
    "            running_loss += loss.item() # Log-likelihood on the training set\n",
    "\n",
    "        # Evaluate on the test set\n",
    "        test_loss = evaluate(model, loss_fn, test_loader) # Log-likelihood on the test set\n",
    "\n",
    "        # Print status every 'status' epochs or epoch 0\n",
    "        if epoch == 0 or (epoch + 1) % status == 0:\n",
    "            print(f'Epoch [{epoch+1:5.0f}/{nEpoch}], Train Loss: {running_loss:0.3f}, Test Loss: {test_loss:0.3f}')\n",
    "\n",
    "        # Store losses\n",
    "        train_losses.append(running_loss)\n",
    "        test_losses.append(test_loss)\n",
    "\n",
    "        # Implement early stopping\n",
    "        if test_loss < best_loss:\n",
    "            best_loss = test_loss\n",
    "            counter = 0\n",
    "        else:\n",
    "            counter += 1\n",
    "            if counter >= patience:\n",
    "                print(f'Early stopping at epoch {epoch+1}')\n",
    "                break\n",
    "            \n",
    "    print(f'\\nTraining finished.\\tTrain Loss: {running_loss:0.3f}, Test Loss: {test_loss:0.3f}')\n",
    "    show_loss_plot(train_losses, test_losses,num_obs_train, num_obs_test)"
   ]
  },
  {
   "cell_type": "markdown",
   "metadata": {},
   "source": [
    "## `Exercise 2: Training the MLP model`"
   ]
  },
  {
   "cell_type": "markdown",
   "metadata": {},
   "source": [
    "`A` Compare the performance on the test set of the MLP with the benchmark MNL. Has it (much) improved? What does this tell us? <br>\n",
    "`B` Retrain the MLP using the following architectures: {hidden_size1,hidden_size2} = {1,1}, {3,3}, {1,20}, {20,1}, {20,3}, {20,20}<br>\n",
    "`C` Does increasing the number of nodes lead to better generalisation performance (i.e. higher LL_test)? What is happening?<br>\n",
    "`D` Explain why {1,1} and either {20,1} and {1,20} lead to a poor performance. <br>\n",
    "`E` Retrain your model with a smaller and larger learning rate: lr = 0.01 and lr = 0.00001. Use {hidden_size1,hidden_size2} = {5,5}. Explain what is happening."
   ]
  },
  {
   "cell_type": "markdown",
   "metadata": {},
   "source": [
    "#### `Answers`\n"
   ]
  },
  {
   "cell_type": "markdown",
   "metadata": {},
   "source": [
    "`A` The MLP improves the model fit by  almost 100 LL points. This is a lot. It tells the linear-additive utility assumption is too restrictive.<br>\n",
    "\n",
    "`B`<br>\n",
    "{1,1} gives a poor generalisation performance: LL = ~-1590<br>\n",
    "{3,3} gives an okay generalisation performance: LL = ~-1400<br>\n",
    "{1,20} gives a poor generalisation performance: LL = ~-1500<br>\n",
    "{20,1} gives an poor generalisation performance: LL = ~-1500<br>\n",
    "{20,3} gives an okay generalisation performance: LL = ~-1400 <br>\n",
    "\n",
    "`C` Increasing it from {1,1} to {3,3} increase the perf on LL_test. But {20,20} does not help it to further increase. <br>\n",
    "\n",
    "`D` All information is squashed to one node. Therefore, the models is not able to associate features to alternatives, leading to a poor performance.<br>\n",
    "\n",
    "`E` A large lr leads to quick training. But instability near the convergence. A small lr leads to slow training. The model was not nearly converged when the maximum number of training epochs was reached. "
   ]
  },
  {
   "cell_type": "markdown",
   "metadata": {},
   "source": [
    "## `Exercise 3: Adding the socio-demographic features`"
   ]
  },
  {
   "cell_type": "markdown",
   "metadata": {},
   "source": [
    "In Section 1 under `iv. Conversion to tensors` we choose to use only the features of the alternatives as inputs (i.e. `features_alt`), while in lab session 1 we saw that at least gender (`WOMAN`) and the residential city (`RESPCITY`) have some eplanatory power.<br>\n",
    "\n",
    "`A` Modify the code in this cell so that also these socio demographic features are used. Then, retrain the MLP.<br>\n",
    "`B` Perhaps counter to your expectations, the model performance does not increase much. \n",
    "What does this tell us about: \n",
    "1. the explanatory power of socio-demographics to the residential location choice, and \n",
    "2. the ability of MLP models to learn subtle interaction effects? "
   ]
  },
  {
   "cell_type": "markdown",
   "metadata": {},
   "source": [
    "#### `Answers`\n"
   ]
  },
  {
   "cell_type": "markdown",
   "metadata": {},
   "source": [
    "`A.i` Redefine the tensor and dimension of the MLP model to include the new variables.  "
   ]
  },
  {
   "cell_type": "code",
   "execution_count": 24,
   "metadata": {},
   "outputs": [],
   "source": [
    "do_exercise3 = False\n",
    "if do_exercise3 == True:\n",
    "    #### Recreate tensors for the train set ####\n",
    "\n",
    "    #In this case, we use the characteristics of the alternatives 'features_alt', WOMAN and RESPCITY.\n",
    "    selected_features = features_alt + ['WOMAN_1', 'RESPCITY_2', 'RESPCITY_3', 'RESPCITY_4']\n",
    "\n",
    "    x_train_tensor = torch.tensor(x_train_scaled[selected_features].values, dtype=torch.float)\n",
    "    y_train_dummy_tensor = torch.tensor(y_train_dummy, dtype=torch.float)\n",
    "\n",
    "    x_test_tensor = torch.tensor(x_test_scaled[selected_features].values, dtype=torch.float)\n",
    "    y_test_dummy_tensor = torch.tensor(y_test_dummy, dtype=torch.float)\n",
    "\n",
    "\n",
    "\n",
    "    #### Recreate DataLoader ####\n",
    "    dataset_train = TensorDataset(x_train_tensor, y_train_dummy_tensor)\n",
    "    train_loader = DataLoader(dataset_train, batch_size=250, shuffle=True)\n",
    "\n",
    "    dataset_test = TensorDataset(x_test_tensor, y_test_dummy_tensor)\n",
    "    test_loader = DataLoader(dataset_test, batch_size=len(x_test_tensor), shuffle=True)\n",
    "\n",
    "\n",
    "\n",
    "    #### Redefine the dimension of the MLP  ####\n",
    "    input_size   = x_train_tensor.size()[1]  # Number of input features\n",
    "    hidden_size1 = 20                        # Number of units in first hidden layer\n",
    "    hidden_size2 = 20                        # Number of units in second hidden layer\n",
    "    output_size  = 3                         # Number of output classes (determined by the number of alternatives)"
   ]
  },
  {
   "cell_type": "markdown",
   "metadata": {},
   "source": [
    "`A.ii` Retrain the MLP model using the same cell as above:  <br>\n",
    "\n",
    "Train Loss: 6035.490, Test Loss: 1384.504<br>\n",
    "\n",
    "\n",
    "`B.1` The slight improvement in the performance of the MLP model by including the WOMAN and RESPCITY variables suggests that these socio-demographic factors may not be key determinants of residential choice. <br>\n",
    "\n",
    "`B.2` Furthermore, this suggests that MLP models may have difficulty capturing small relationships between factors, which highlights the importance of adequately considering the features included in the model estimation. "
   ]
  },
  {
   "cell_type": "markdown",
   "metadata": {},
   "source": [
    "## `4. The L-MNL model `"
   ]
  },
  {
   "cell_type": "markdown",
   "metadata": {},
   "source": [
    "Next, we will build and train a hybrid model, namely the L-MNL model. This model combines an interpretable part following the assumptions of the MNL model and a neural network that processes the rest of the variables that we do not want to interpret. More specifically, we want the **flexibility** of the MLP but still want to get out an **estimate of the willingness to pay to reduce the walking distance to the grocery stores, expressed in terms of distance to the public transport**.\n",
    "\n",
    "The figure below conceptually shows this model:<br>\n",
    "\n",
    "<p align=\"center\">\n",
    "<img width=\"600\" src=\"hybrid_model.png\">\n",
    "</p>"
   ]
  },
  {
   "cell_type": "markdown",
   "metadata": {},
   "source": [
    "`i. Define the L-MNL model`<br>\n",
    "To create the L-MNL model,we create a new class using PyTorch's nn.Module. <br>\n",
    "* The MNL part is implemented with separate linear layers for features (transport and foreign), allowing the utility to be calculated for each alternative. <br>\n",
    "* The MLP part consists of two hidden layers (linear1 and linear2) with a given number of neurons.<br>\n",
    "* The forward function takes `x_mnl` and `x_mlp` as inputs. x_mlp is passed through the network layers, while applying activation functions. It outputs the utilities of each alternative `V_MLP`. x_mnl is used to compute utilities in a linear-additive fashion. \n",
    "* Finally, the utilities of boths parts are summed."
   ]
  },
  {
   "cell_type": "code",
   "execution_count": 25,
   "metadata": {},
   "outputs": [],
   "source": [
    "class LMNL(nn.Module):\n",
    "    def __init__(self, input_size_mlp, hidden_size1, hidden_size2,output_size):\n",
    "        super(LMNL,self).__init__()\n",
    "\n",
    "        # Create betas for the MNL part\n",
    "        self.B_transport = nn.Linear(1, 1, bias=False )\n",
    "        self.B_stores   = nn.Linear(1, 1, bias=False )\n",
    "                                 \n",
    "        # Create the hidden layers for the MLP part\n",
    "        self.linear1 = nn.Linear(input_size_mlp, hidden_size1, bias=False)\n",
    "        self.linear2 = nn.Linear(hidden_size1,   hidden_size2, bias=False) \n",
    "        self.linear3 = nn.Linear(hidden_size2,   output_size,  bias=False) \n",
    "\n",
    "    def forward(self, X_MNL, X_MLP):\n",
    "        \n",
    "        # Utility functions for the MNL part \n",
    "        V_A = self.B_transport(X_MNL[:,0].unsqueeze(1))  + self.B_stores(X_MNL[:,1].unsqueeze(1))\n",
    "        V_B = self.B_transport(X_MNL[:,2].unsqueeze(1))  + self.B_stores(X_MNL[:,3].unsqueeze(1))\n",
    "        V_C = self.B_transport(X_MNL[:,4].unsqueeze(1))  + self.B_stores(X_MNL[:,5].unsqueeze(1))\n",
    "                     \n",
    "        # Concatenating tensors to maintain the output dimension\n",
    "        V_MNL = torch.cat((V_A, V_B, V_C), dim=1)\n",
    "\n",
    "        # The MLP part\n",
    "        X_MLP = torch.tanh(self.linear1(X_MLP)) # tanh activation function for the 1st layer\n",
    "        X_MLP = torch.tanh(self.linear2(X_MLP)) # tanh activation function for the 2nd layer\n",
    "        V_MLP = self.linear3(X_MLP)             # linear activation function for the output layer\n",
    "\n",
    "        # Sum the utilities from the MNL and MLP parts\n",
    "        V = V_MNL + V_MLP\n",
    "        return V"
   ]
  },
  {
   "cell_type": "markdown",
   "metadata": {},
   "source": [
    "`ii. Prepare the data for training the L-MNL model`<br>\n",
    "We need to split the features going into the MLP and MNL parts. Because we want to compute the WTP of stores over transport. Therefore, the features related to transport and stores go into the MNL part, while the other features, including socio-demographics, go into the MLP part. **Importantly**, the MNL features must NOT be scaled."
   ]
  },
  {
   "cell_type": "code",
   "execution_count": 26,
   "metadata": {},
   "outputs": [
    {
     "name": "stdout",
     "output_type": "stream",
     "text": [
      "Shape of x_mnl_train\t (7300, 6)\n",
      "Shape of x_mnl_test\t (1692, 6)\n",
      "\n",
      "Shape of x_mlp_train\t (7300, 15)\n",
      "Shape of x_mlp_test\t (1692, 15)\n"
     ]
    }
   ],
   "source": [
    "# Create dataframe with features for MNL part\n",
    "features_mnl = ['TRANSPORT1', 'STORES1','TRANSPORT2', 'STORES2','TRANSPORT3', 'STORES3']\n",
    "x_mnl_train = x_train[features_mnl]\n",
    "x_mnl_test  = x_test[features_mnl]\n",
    "\n",
    "print('Shape of x_mnl_train\\t', x_mnl_train.shape)\n",
    "print('Shape of x_mnl_test\\t', x_mnl_test.shape)\n",
    "\n",
    "# Create dataframe with features for MLP part\n",
    "features_mlp_alt = ['FOREIGN1', 'CITY1', 'NOISE1', 'GREEN1', \n",
    "                    'FOREIGN2', 'CITY2', 'NOISE2', 'GREEN2', \n",
    "                    'FOREIGN3', 'CITY3', 'NOISE3', 'GREEN3']\n",
    "\n",
    "\n",
    "features_socio = ['RESPCITY_2','RESPCITY_3','RESPCITY_4']\n",
    "x_mlp_train = x_train_scaled[features_mlp_alt + features_socio]\n",
    "x_mlp_test  = x_test_scaled[features_mlp_alt + features_socio]\n",
    "\n",
    "print('\\nShape of x_mlp_train\\t', x_mlp_train.shape)\n",
    "print('Shape of x_mlp_test\\t', x_mlp_test.shape)"
   ]
  },
  {
   "cell_type": "markdown",
   "metadata": {},
   "source": [
    "Convert data to PyTorch tensors"
   ]
  },
  {
   "cell_type": "code",
   "execution_count": 27,
   "metadata": {},
   "outputs": [
    {
     "name": "stdout",
     "output_type": "stream",
     "text": [
      "Size of the X_mnl_train tensor =  torch.Size([7300, 6])\n",
      "Size of the X_mlp_train tensor =  torch.Size([7300, 15])\n",
      "\n",
      "Size of the X_mnl_test tensor  =  torch.Size([1692, 6])\n",
      "Size of the X_mlp_test tensor  =  torch.Size([1692, 15])\n"
     ]
    }
   ],
   "source": [
    "# train\n",
    "x_mnl_train_tensor = torch.tensor(x_mnl_train.values, dtype=torch.float)\n",
    "x_mlp_train_tensor = torch.tensor(x_mlp_train.values, dtype=torch.float)\n",
    "y_train_dummy_tensor = torch.tensor(y_train_dummy,    dtype=torch.float)\n",
    "\n",
    "# test\n",
    "x_mnl_test_tensor = torch.tensor(x_mnl_test.values, dtype=torch.float)\n",
    "x_mlp_test_tensor = torch.tensor(x_mlp_test.values, dtype=torch.float)\n",
    "y_test_dummy_tensor = torch.tensor(y_test_dummy,    dtype=torch.float)\n",
    "\n",
    "print('Size of the X_mnl_train tensor = ', x_mnl_train_tensor.size())\n",
    "print('Size of the X_mlp_train tensor = ', x_mlp_train_tensor.size())\n",
    "print('\\nSize of the X_mnl_test tensor  = ', x_mnl_test_tensor.size())\n",
    "print('Size of the X_mlp_test tensor  = ', x_mlp_test_tensor.size())"
   ]
  },
  {
   "cell_type": "markdown",
   "metadata": {},
   "source": [
    "Create PyTorch DataLoaders"
   ]
  },
  {
   "cell_type": "code",
   "execution_count": 28,
   "metadata": {},
   "outputs": [],
   "source": [
    "# Create a DataLoader for the train set\n",
    "dataset_train_lmnl = TensorDataset(x_mnl_train_tensor, x_mlp_train_tensor, y_train_dummy_tensor)\n",
    "train_loader_lmnl = DataLoader(dataset_train_lmnl, batch_size=250, shuffle=True)\n",
    "\n",
    "# Create a DataLoader for the test set\n",
    "dataset_test_lmnl = TensorDataset(x_mnl_test_tensor, x_mlp_test_tensor, y_test_dummy_tensor)\n",
    "test_loader_lmnl = DataLoader(dataset_test_lmnl, batch_size=len(x_test_tensor), shuffle=False)"
   ]
  },
  {
   "cell_type": "markdown",
   "metadata": {},
   "source": [
    "`iii. Define functions`<br>\n",
    "We cannot re-use the evaluation function we created before, because this model takes two inputs (x_mnl, x_mlp), instead of one. Therefore, we create a new one for the L-MNL model."
   ]
  },
  {
   "cell_type": "code",
   "execution_count": 29,
   "metadata": {},
   "outputs": [],
   "source": [
    "def evaluate_lmnl(model, criterion, data_loader):\n",
    "    model.eval()  # Set the model to evaluation mode\n",
    "    total_loss = 0.0\n",
    "\n",
    "    with torch.no_grad():\n",
    "        for x_mnl, x_mlp, labels in data_loader:\n",
    "            outputs = model(x_mnl,x_mlp)\n",
    "            loss = criterion(outputs, labels)\n",
    "            total_loss += loss.item()\n",
    "\n",
    "    return total_loss"
   ]
  },
  {
   "cell_type": "markdown",
   "metadata": {},
   "source": [
    "`iv. Create the L-MNL model object`<br>"
   ]
  },
  {
   "cell_type": "code",
   "execution_count": 30,
   "metadata": {},
   "outputs": [
    {
     "name": "stdout",
     "output_type": "stream",
     "text": [
      " input_size_mnl = 6, input_size_mlp = 15, hidden_size1 = 10, hidden_size2 = 10, output_size = 3\n"
     ]
    }
   ],
   "source": [
    "# Define the dimensions\n",
    "input_size_mnl = x_mnl_train_tensor.size()[1]  # Number of input features\n",
    "input_size_mlp = x_mlp_train_tensor.size()[1]  # Number of input features\n",
    "hidden_size1 = 10  # Number of units in first hidden layer\n",
    "hidden_size2 = 10  # Number of units in second hidden layer\n",
    "output_size = 3    # Number of output classes\n",
    "print(f' input_size_mnl = {input_size_mnl}, input_size_mlp = {input_size_mlp}, hidden_size1 = {hidden_size1}, hidden_size2 = {hidden_size2}, output_size = {output_size}')"
   ]
  },
  {
   "cell_type": "code",
   "execution_count": 31,
   "metadata": {},
   "outputs": [
    {
     "name": "stdout",
     "output_type": "stream",
     "text": [
      "=== Model Summary ===\n",
      "Layer: B_transport.weight  |\t Weights: 1\n",
      "Layer: B_stores.weight     |\t Weights: 1\n",
      "Layer: linear1.weight      |\t Weights: 150\n",
      "Layer: linear2.weight      |\t Weights: 100\n",
      "Layer: linear3.weight      |\t Weights: 30\n",
      "\n",
      "Total trainable Weights: 282\n",
      "\n",
      "=== Layers ===\n",
      "Linear(in_features=1, out_features=1, bias=False)\n",
      "Linear(in_features=1, out_features=1, bias=False)\n",
      "Linear(in_features=15, out_features=10, bias=False)\n",
      "Linear(in_features=10, out_features=10, bias=False)\n",
      "Linear(in_features=10, out_features=3, bias=False)\n"
     ]
    }
   ],
   "source": [
    "# Invoke the L-MNL model\n",
    "model = LMNL(input_size_mlp, hidden_size1, hidden_size2, output_size)\n",
    "\n",
    "# Print the model architecture\n",
    "print_model_summary(model)"
   ]
  },
  {
   "cell_type": "markdown",
   "metadata": {},
   "source": [
    "`v. Train the L-MNL model`<br>\n",
    "Finally, we are ready to train the L-MNL model!"
   ]
  },
  {
   "cell_type": "code",
   "execution_count": 32,
   "metadata": {},
   "outputs": [],
   "source": [
    "# Define training settings\n",
    "nEpoch = 1000  # Set the number of epochs\n",
    "lr = 0.0001  # Set the learning rate\n",
    "status = 10  # Print status every 'status' epochs\n",
    "patience = 5  # Number of epochs to wait before early stopping"
   ]
  },
  {
   "cell_type": "code",
   "execution_count": 33,
   "metadata": {},
   "outputs": [
    {
     "name": "stdout",
     "output_type": "stream",
     "text": [
      "Epoch [    1/1000], Train Loss: 23386.205, Test Loss: 5418.249\n"
     ]
    },
    {
     "name": "stdout",
     "output_type": "stream",
     "text": [
      "Epoch [   10/1000], Train Loss: 21886.747, Test Loss: 5067.016\n",
      "Epoch [   20/1000], Train Loss: 20218.586, Test Loss: 4676.410\n",
      "Epoch [   30/1000], Train Loss: 18480.986, Test Loss: 4269.341\n",
      "Epoch [   40/1000], Train Loss: 16676.966, Test Loss: 3846.277\n",
      "Epoch [   50/1000], Train Loss: 14858.325, Test Loss: 3418.608\n",
      "Epoch [   60/1000], Train Loss: 13085.811, Test Loss: 3001.809\n",
      "Epoch [   70/1000], Train Loss: 11445.496, Test Loss: 2616.542\n",
      "Epoch [   80/1000], Train Loss: 10048.011, Test Loss: 2290.537\n",
      "Epoch [   90/1000], Train Loss: 8968.956, Test Loss: 2038.958\n",
      "Epoch [  100/1000], Train Loss: 8190.102, Test Loss: 1857.507\n",
      "Epoch [  110/1000], Train Loss: 7642.109, Test Loss: 1728.980\n",
      "Epoch [  120/1000], Train Loss: 7247.378, Test Loss: 1636.619\n",
      "Epoch [  130/1000], Train Loss: 6952.796, Test Loss: 1568.355\n",
      "Epoch [  140/1000], Train Loss: 6727.293, Test Loss: 1517.314\n",
      "Epoch [  150/1000], Train Loss: 6552.077, Test Loss: 1478.404\n",
      "Epoch [  160/1000], Train Loss: 6416.512, Test Loss: 1449.597\n",
      "Epoch [  170/1000], Train Loss: 6313.753, Test Loss: 1428.267\n",
      "Epoch [  180/1000], Train Loss: 6237.749, Test Loss: 1413.451\n",
      "Epoch [  190/1000], Train Loss: 6183.701, Test Loss: 1403.279\n",
      "Epoch [  200/1000], Train Loss: 6146.506, Test Loss: 1396.960\n",
      "Epoch [  210/1000], Train Loss: 6121.327, Test Loss: 1392.879\n",
      "Epoch [  220/1000], Train Loss: 6104.729, Test Loss: 1390.701\n",
      "Epoch [  230/1000], Train Loss: 6093.129, Test Loss: 1389.469\n",
      "Epoch [  240/1000], Train Loss: 6084.883, Test Loss: 1388.760\n",
      "Epoch [  250/1000], Train Loss: 6078.695, Test Loss: 1388.338\n",
      "Epoch [  260/1000], Train Loss: 6073.621, Test Loss: 1387.799\n",
      "Epoch [  270/1000], Train Loss: 6069.574, Test Loss: 1387.608\n",
      "Early stopping at epoch 273\n",
      "\n",
      "Training finished.\tTrain Loss: 6068.316, Test Loss: 1387.528\n"
     ]
    },
    {
     "data": {
      "image/png": "[encoded data removed]",
      "text/plain": [
       "<Figure size 800x600 with 1 Axes>"
      ]
     },
     "metadata": {},
     "output_type": "display_data"
    }
   ],
   "source": [
    "# Define the loss function and optimizer\n",
    "loss_fn = nn.CrossEntropyLoss(reduction='sum')\n",
    "optimizer = optim.Adam(params=model.parameters(), lr=lr,  betas=(0.9, 0.999), eps=1e-07, weight_decay=0)\n",
    "\n",
    "# Define lists to store losses\n",
    "train_losses = []\n",
    "test_losses = []\n",
    "\n",
    "# Initialize early stopping counter \n",
    "counter = 0\n",
    "best_loss = np.inf  # Set initial loss to infinity\n",
    "\n",
    "# Training loop\n",
    "for epoch in range(nEpoch):\n",
    "    running_loss = 0.0\n",
    "    for x_mnl, x_mlp, labels in train_loader_lmnl:\n",
    "        \n",
    "        # Zero the gradients\n",
    "        optimizer.zero_grad()\n",
    "\n",
    "        # Forward pass\n",
    "        outputs = model(x_mnl,x_mlp)   \n",
    "\n",
    "        # Compute the loss\n",
    "        loss = loss_fn(outputs, labels)\n",
    "\n",
    "        # Backward pass and optimization\n",
    "        loss.backward()\n",
    "        optimizer.step()\n",
    "\n",
    "        # Update running loss\n",
    "        running_loss += loss.item() # Log-likelihood on the training set\n",
    "\n",
    "    # Evaluate on the test set\n",
    "    test_loss = evaluate_lmnl(model, loss_fn, test_loader_lmnl)\n",
    "\n",
    "    # Print status every 'status' epochs or epoch 0\n",
    "    if epoch == 0 or (epoch + 1) % status == 0:\n",
    "        print(f'Epoch [{epoch+1:5.0f}/{nEpoch}], Train Loss: {running_loss:0.3f}, Test Loss: {test_loss:0.3f}')\n",
    "\n",
    "    # Store losses\n",
    "    train_losses.append(running_loss)\n",
    "    test_losses.append(test_loss)\n",
    "\n",
    "    # Implement early stopping\n",
    "    if test_loss < best_loss:\n",
    "        best_loss = test_loss\n",
    "        counter = 0\n",
    "    else:\n",
    "        counter += 1\n",
    "        if counter >= patience:\n",
    "            print(f'Early stopping at epoch {epoch+1}')\n",
    "            break\n",
    "        \n",
    "print(f'\\nTraining finished.\\tTrain Loss: {running_loss:0.3f}, Test Loss: {test_loss:0.3f}')\n",
    "show_loss_plot(train_losses, test_losses, num_obs_train, num_obs_test)"
   ]
  },
  {
   "cell_type": "code",
   "execution_count": 34,
   "metadata": {},
   "outputs": [
    {
     "name": "stdout",
     "output_type": "stream",
     "text": [
      "\n",
      "Willingness to pay to reduce one minute of walking time to the grocery store is: 1.15 walking minutes to the public transport\n"
     ]
    }
   ],
   "source": [
    "# Compute the Willingness to pay to reduce the distance to the grovery store by one minute\n",
    "LL_LMNL = best_loss\n",
    "B_transport_LMNL = model.B_transport.weight.data.item()\n",
    "B_stores_LMNL = model.B_stores.weight.data.item()\n",
    "\n",
    "WTP_LMNL = B_stores_LMNL/B_transport_LMNL\n",
    "print(f'\\nWillingness to pay to reduce one minute of walking time to the grocery store is: {WTP_LMNL:.2f} walking minutes to the public transport')"
   ]
  },
  {
   "cell_type": "markdown",
   "metadata": {},
   "source": [
    "`Reflections`\n",
    "1. The L-MNL model attains a model fit that is very close to the fully flexible MLP model\n",
    "1. The L-MNL model gives insight into the trade-off between distance to the grocery stores and distance to the public transport\n",
    "1. The results recovered WTP is not stable, it fluctuates over runs. "
   ]
  },
  {
   "cell_type": "markdown",
   "metadata": {},
   "source": [
    "## `Exercise 4: Features MLP`<br>"
   ]
  },
  {
   "cell_type": "markdown",
   "metadata": {},
   "source": [
    "`A` Try reducing the number of features that are feed into the MLP and assess the impact on the model performance and WTP. <br>\n",
    "E.g. only use `RESPCITY` and `WOMAN`, as in lab session 1 we saw these variables had a significant impact<br>"
   ]
  },
  {
   "cell_type": "markdown",
   "metadata": {},
   "source": [
    "#### `Answers`\n"
   ]
  },
  {
   "cell_type": "markdown",
   "metadata": {},
   "source": [
    "`A.i` Redefine the tensor and dimension of the MLP model to include the new variables.  "
   ]
  },
  {
   "cell_type": "code",
   "execution_count": 35,
   "metadata": {},
   "outputs": [],
   "source": [
    "do_exercise4 = False\n",
    "if do_exercise4 == True:\n",
    "    #### Recreate tensors for the train set ####\n",
    "\n",
    "    #In this case, we only have to modify the variables that will go into the MLP model:    \n",
    "    features_socio = ['WOMAN_1', 'RESPCITY_2', 'RESPCITY_3', 'RESPCITY_4']\n",
    "\n",
    "    x_mlp_train = x_train_scaled[features_mlp_alt + features_socio]\n",
    "    x_mlp_test  = x_test_scaled[features_mlp_alt + features_socio]\n",
    "    \n",
    "    x_mlp_train_tensor = torch.tensor(x_mlp_train.values, dtype=torch.float)\n",
    "    x_mlp_test_tensor = torch.tensor(x_mlp_test.values, dtype=torch.float)\n",
    "    \n",
    "\n",
    "    #### Recreate DataLoader ####\n",
    "    dataset_train_lmnl = TensorDataset(x_mnl_train_tensor, x_mlp_train_tensor, y_train_dummy_tensor)\n",
    "    train_loader_lmnl = DataLoader(dataset_train_lmnl, batch_size=250, shuffle=True)\n",
    "    dataset_test_lmnl = TensorDataset(x_mnl_test_tensor, x_mlp_test_tensor, y_test_dummy_tensor)\n",
    "    test_loader_lmnl = DataLoader(dataset_test_lmnl, batch_size=len(x_test_tensor), shuffle=False)\n",
    "\n",
    "\n",
    "    #### Redefine the dimension of the MLP  ####\n",
    "    input_size_mlp = x_mlp_train_tensor.size()[1]  # Number of input features"
   ]
  },
  {
   "cell_type": "markdown",
   "metadata": {},
   "source": [
    "`A.ii` Retrain the MLP model using the same cell as above:  <br>\n",
    "\n",
    "Train Loss: 6019.589, Test Loss: 1378.459 and the Willingness to pay to reduce one minute of walking time to the grocery store is: 1.02 walking minutes to the public transport"
   ]
  },
  {
   "cell_type": "markdown",
   "metadata": {},
   "source": [
    "## `Exercise 5: Forecasting using L-MNL`<br>"
   ]
  },
  {
   "cell_type": "markdown",
   "metadata": {},
   "source": [
    "Suppose that a researcher would like to use this model to make forecasts for Zurich (as we did in Lab session 1). However, this is more challenging.<br>\n",
    "\n",
    "`A` Give 2 reasons why making forecasts using the L-MNL model is less straightforward than using the MNL models<br>\n",
    "`B` Give 2 arguments in favour of using the L-MNL model for informing the municipality of Zurich about the impacts of the planned redevelopment on the residential demand per neighbourhood.<br>\n",
    "`C` Suppose that you are hired to assist and advise this researcher. What would you advise in terms of e.g. the specification of the L-MNL model, training, benchmarking, etc.<br>"
   ]
  },
  {
   "cell_type": "markdown",
   "metadata": {},
   "source": [
    "#### `Answers`"
   ]
  },
  {
   "cell_type": "markdown",
   "metadata": {},
   "source": [
    "`A` <br>\n",
    "(1) The model makes different forecasts everytime we train it. To account for this, the researcher probably want to train numerous models and average the forecasts.<br>\n",
    "(2) In case socio-demographic variables are used, the predictions of the L-MNL model are conditional on the socio-demographic variables. In case the sample of skewed (e.g. too many females/young people, etc. it is not clear how to correct for this)<br>\n",
    "(3) Training times and data preprocessing are more time consuming and laborious<br>\n",
    "(4) The model is less easy to explain to layment than a simple MNL model. This makes adoption of the results less likely. e.g. policy makers are reluctant to base decisions on models they do not understand.<br>\n",
    "\n",
    "`B` <br>\n",
    "(1) Empirically, the L-MNL model is found to attain a considerbly better model fit. This means that the model is able to better replicate the choce behaviour, and corollary, the forecasts are more accurate.<br>\n",
    "(2) Conceptually, the linear-additive MNL model is too simplistic to captures the complexities of real human choice behaviour.<br>\n",
    "\n",
    "`C` \n",
    "- Use the MNL model to test expected interactions/nonlinearities\n",
    "- Test numerous specifications for the L-MNL, in terms of features. \n",
    "- Evaluate the specification in terms of fit, but also in terms of implied WTPs. \n",
    "- Conduct a proper hyperparameter tuning\n",
    "- Always benchmark/compare the results against the RUM-MNL. \n",
    "- Account for the stochasticity of the L-MNL model through averaging across numerous runs. \n",
    "- Ideally, new data would be collected, specifically for Zurich, that better takes into account the attributes of neighbourhoods beyond the ones used in the current SC experiment.\n"
   ]
  }
 ],
 "metadata": {
  "kernelspec": {
   "display_name": "SEN1221",
   "language": "python",
   "name": "python3"
  },
  "language_info": {
   "codemirror_mode": {
    "name": "ipython",
    "version": 3
   },
   "file_extension": ".py",
   "mimetype": "text/x-python",
   "name": "python",
   "nbconvert_exporter": "python",
   "pygments_lexer": "ipython3",
   "version": "3.10.13"
  }
 },
 "nbformat": 4,
 "nbformat_minor": 2
}
